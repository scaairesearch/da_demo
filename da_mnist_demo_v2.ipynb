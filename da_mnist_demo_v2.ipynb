{
  "nbformat": 4,
  "nbformat_minor": 0,
  "metadata": {
    "colab": {
      "provenance": [],
      "collapsed_sections": [
        "FG0LpIf51K_I",
        "sl3XiBCm-v43"
      ],
      "toc_visible": true,
      "include_colab_link": true
    },
    "kernelspec": {
      "name": "python3",
      "display_name": "Python 3"
    },
    "language_info": {
      "name": "python"
    }
  },
  "cells": [
    {
      "cell_type": "markdown",
      "metadata": {
        "id": "view-in-github",
        "colab_type": "text"
      },
      "source": [
        "<a href=\"https://colab.research.google.com/github/scaairesearch/da_demo/blob/main/da_mnist_demo_v2.ipynb\" target=\"_parent\"><img src=\"https://colab.research.google.com/assets/colab-badge.svg\" alt=\"Open In Colab\"/></a>"
      ]
    },
    {
      "cell_type": "markdown",
      "source": [
        "# Domain Adaptation Demonstration\n",
        "- get data\n",
        "- create model architecture\n",
        "- train baseline and non-da\n",
        "- save models\n",
        "- infer model\n",
        "- grad cam on correctly classified and misclassified images\n",
        "- mis classified images"
      ],
      "metadata": {
        "id": "dhu3y_IwfiBS"
      }
    },
    {
      "cell_type": "markdown",
      "source": [
        "# Objective / Target\n",
        "**Objective / Target**\n",
        "* Increase accuracy by increasing capacity\n",
        "* Play with LR\n",
        "\n",
        "**Results**\n",
        "\n",
        "* Parameters: 7,900\n",
        "* Best Train Accuracy: 98.91\n",
        "* Best Test Accuracy: 99.31\n",
        "\n",
        "**Analysis**\n",
        "\n",
        "* Not Able to hit the accuracy mark\n",
        "* Overfitting (train - test accuracy) < 0 is largely containted, model underfits (Target not achieved)\n",
        "* LR has played its role to move up the accuracy\n",
        "* Number of params < 8K\n",
        "* Adding params near output helped much, so did removing input\n",
        "\n",
        "**Next Steps**\n",
        "\n",
        "* Play with large LR\n"
      ],
      "metadata": {
        "id": "y1FTBU_m-bRm"
      }
    },
    {
      "cell_type": "markdown",
      "source": [
        "# Importing Libraries"
      ],
      "metadata": {
        "id": "xcGwRKr5_lZw"
      }
    },
    {
      "cell_type": "code",
      "execution_count": null,
      "metadata": {
        "id": "D6yRS8Pc-GUk",
        "colab": {
          "base_uri": "https://localhost:8080/"
        },
        "outputId": "1dfb8b0a-178a-4317-f07b-15169da9bf4d"
      },
      "outputs": [
        {
          "output_type": "stream",
          "name": "stdout",
          "text": [
            "Requirement already satisfied: torchsummary in /usr/local/lib/python3.10/dist-packages (1.5.1)\n"
          ]
        }
      ],
      "source": [
        "import torch\n",
        "from torchvision import datasets,transforms\n",
        "%matplotlib inline\n",
        "import numpy as np\n",
        "import matplotlib.pyplot as plt # for visualizing images\n",
        "import random # for random image index\n",
        "import torch.nn as nn # for network\n",
        "import torch.nn.functional as F # for forward method\n",
        "import torch.optim as optim # for optimizer\n",
        "!pip install torchsummary\n",
        "from torchsummary import summary # for model summary and params\n",
        "from tqdm import tqdm # for beautiful model training updates\n",
        "# from torch.utils.data import dataset # for MNISTM dataset\n",
        "from PIL import Image\n",
        "import os\n",
        "from torch.optim.lr_scheduler import ReduceLROnPlateau\n",
        "from copy import deepcopy\n"
      ]
    },
    {
      "cell_type": "markdown",
      "source": [
        "## Seed and Cuda"
      ],
      "metadata": {
        "id": "S0aDMenbFZMj"
      }
    },
    {
      "cell_type": "code",
      "source": [
        "# check for cuda\n",
        "cuda = torch.cuda.is_available()\n",
        "print (f' Cuda Status : {cuda}')\n",
        "\n",
        "# setting seed\n",
        "SEED = 42 # arbit seed, why 42 - because in hitch hikers guide to galaxy it is answer to everything\n",
        "# torch.cuda.seed(SEED)\n",
        "torch.cuda.manual_seed_all(SEED) if cuda else torch.manual_seed(SEED)\n",
        "\n",
        "device = torch.device(\"cuda\" if cuda else \"cpu\")\n",
        "print(device)"
      ],
      "metadata": {
        "id": "Y9TiFsydFcRz",
        "colab": {
          "base_uri": "https://localhost:8080/"
        },
        "outputId": "5f5df19e-80fd-4595-89a0-c1689a227e01"
      },
      "execution_count": null,
      "outputs": [
        {
          "output_type": "stream",
          "name": "stdout",
          "text": [
            " Cuda Status : False\n",
            "cpu\n"
          ]
        }
      ]
    },
    {
      "cell_type": "markdown",
      "source": [
        "### Constants"
      ],
      "metadata": {
        "id": "_ua7eqK-zJF4"
      }
    },
    {
      "cell_type": "code",
      "source": [
        "img_size = 28 # for mnist\n",
        "cpu_batch_size = 64\n",
        "cuda_batch_size = 128\n",
        "EPOCHS = 2 # 15 if cuda else 2\n",
        "\n",
        "target_drive_path = '/content/gdrive/MyDrive/mnist_m/dataset/mnist_m.tar.gz'\n",
        "\n",
        "\n",
        "data_base_path = '/content/data'\n",
        "source_dataset_name = 'MNIST'\n",
        "target_dataset_name = 'mnist_m'\n",
        "source_image_root = os.path.join(data_base_path, source_dataset_name)\n",
        "target_image_root = os.path.join(data_base_path, target_dataset_name)\n",
        "model_root = 'models'\n",
        "# cuda = True\n",
        "# cudnn.benchmark = True\n",
        "lr = 1e-3\n",
        "# batch_size = 128\n",
        "# image_size = 28\n",
        "# n_epoch = 100"
      ],
      "metadata": {
        "id": "G4Q0mS4rzJkJ"
      },
      "execution_count": null,
      "outputs": []
    },
    {
      "cell_type": "markdown",
      "source": [
        "# Source Data"
      ],
      "metadata": {
        "id": "kgga8EeQFB_r"
      }
    },
    {
      "cell_type": "markdown",
      "source": [
        "## Data Transforms"
      ],
      "metadata": {
        "id": "20lhLNsq1Agx"
      }
    },
    {
      "cell_type": "code",
      "source": [
        "# Train Phase transformations\n",
        "train_transforms = transforms.Compose([\n",
        "                                       transforms.Resize(img_size),\n",
        "                                      #  transforms.RandomRotation((-7.0, 7.0), fill=(1,)),\n",
        "                                       transforms.ToTensor(), # converts to tesnor\n",
        "                                       transforms.Normalize((0.1307,), (0.3081,)) # Note the difference between (0.1307) and (0.1307,)\n",
        "                                       ])\n",
        "\n",
        "# Test Phase transformations\n",
        "test_transforms = transforms.Compose([\n",
        "                                       transforms.Resize(img_size),\n",
        "                                       transforms.ToTensor(),# converts to tesnor\n",
        "                                       transforms.Normalize((0.1307,), (0.3081,))\n",
        "                                       ])\n"
      ],
      "metadata": {
        "id": "nrRWWXKsFBn7"
      },
      "execution_count": null,
      "outputs": []
    },
    {
      "cell_type": "markdown",
      "source": [
        "## Dataset and Creating Train / Test Split"
      ],
      "metadata": {
        "id": "YvKkBT1KFIc9"
      }
    },
    {
      "cell_type": "code",
      "source": [
        "train = datasets.MNIST('./data', # directory where data needs to be stored\n",
        "                       train=True, # get the training portion of the dataset\n",
        "                       download=True, # downloads\n",
        "                       transform=train_transforms)\n",
        "test = datasets.MNIST('./data',\n",
        "                      train=False,\n",
        "                      download=True,\n",
        "                      transform=test_transforms)"
      ],
      "metadata": {
        "id": "TdSmKv7XFNAY",
        "colab": {
          "base_uri": "https://localhost:8080/"
        },
        "outputId": "1e850d66-185e-4e48-e54c-622a4f8d55c4"
      },
      "execution_count": null,
      "outputs": [
        {
          "output_type": "stream",
          "name": "stdout",
          "text": [
            "Downloading http://yann.lecun.com/exdb/mnist/train-images-idx3-ubyte.gz\n",
            "Failed to download (trying next):\n",
            "HTTP Error 403: Forbidden\n",
            "\n",
            "Downloading https://ossci-datasets.s3.amazonaws.com/mnist/train-images-idx3-ubyte.gz\n",
            "Downloading https://ossci-datasets.s3.amazonaws.com/mnist/train-images-idx3-ubyte.gz to ./data/MNIST/raw/train-images-idx3-ubyte.gz\n"
          ]
        },
        {
          "output_type": "stream",
          "name": "stderr",
          "text": [
            "100%|██████████| 9912422/9912422 [00:00<00:00, 47770109.06it/s]\n"
          ]
        },
        {
          "output_type": "stream",
          "name": "stdout",
          "text": [
            "Extracting ./data/MNIST/raw/train-images-idx3-ubyte.gz to ./data/MNIST/raw\n",
            "\n",
            "Downloading http://yann.lecun.com/exdb/mnist/train-labels-idx1-ubyte.gz\n",
            "Failed to download (trying next):\n",
            "HTTP Error 403: Forbidden\n",
            "\n",
            "Downloading https://ossci-datasets.s3.amazonaws.com/mnist/train-labels-idx1-ubyte.gz\n",
            "Downloading https://ossci-datasets.s3.amazonaws.com/mnist/train-labels-idx1-ubyte.gz to ./data/MNIST/raw/train-labels-idx1-ubyte.gz\n"
          ]
        },
        {
          "output_type": "stream",
          "name": "stderr",
          "text": [
            "100%|██████████| 28881/28881 [00:00<00:00, 1701535.20it/s]"
          ]
        },
        {
          "output_type": "stream",
          "name": "stdout",
          "text": [
            "Extracting ./data/MNIST/raw/train-labels-idx1-ubyte.gz to ./data/MNIST/raw\n",
            "\n",
            "Downloading http://yann.lecun.com/exdb/mnist/t10k-images-idx3-ubyte.gz\n",
            "Failed to download (trying next):\n",
            "HTTP Error 403: Forbidden\n",
            "\n",
            "Downloading https://ossci-datasets.s3.amazonaws.com/mnist/t10k-images-idx3-ubyte.gz\n"
          ]
        },
        {
          "output_type": "stream",
          "name": "stderr",
          "text": [
            "\n"
          ]
        },
        {
          "output_type": "stream",
          "name": "stdout",
          "text": [
            "Downloading https://ossci-datasets.s3.amazonaws.com/mnist/t10k-images-idx3-ubyte.gz to ./data/MNIST/raw/t10k-images-idx3-ubyte.gz\n"
          ]
        },
        {
          "output_type": "stream",
          "name": "stderr",
          "text": [
            "100%|██████████| 1648877/1648877 [00:00<00:00, 13520407.80it/s]\n"
          ]
        },
        {
          "output_type": "stream",
          "name": "stdout",
          "text": [
            "Extracting ./data/MNIST/raw/t10k-images-idx3-ubyte.gz to ./data/MNIST/raw\n",
            "\n",
            "Downloading http://yann.lecun.com/exdb/mnist/t10k-labels-idx1-ubyte.gz\n",
            "Failed to download (trying next):\n",
            "HTTP Error 403: Forbidden\n",
            "\n",
            "Downloading https://ossci-datasets.s3.amazonaws.com/mnist/t10k-labels-idx1-ubyte.gz\n",
            "Downloading https://ossci-datasets.s3.amazonaws.com/mnist/t10k-labels-idx1-ubyte.gz to ./data/MNIST/raw/t10k-labels-idx1-ubyte.gz\n"
          ]
        },
        {
          "output_type": "stream",
          "name": "stderr",
          "text": [
            "100%|██████████| 4542/4542 [00:00<00:00, 4003894.23it/s]"
          ]
        },
        {
          "output_type": "stream",
          "name": "stdout",
          "text": [
            "Extracting ./data/MNIST/raw/t10k-labels-idx1-ubyte.gz to ./data/MNIST/raw\n",
            "\n"
          ]
        },
        {
          "output_type": "stream",
          "name": "stderr",
          "text": [
            "\n"
          ]
        }
      ]
    },
    {
      "cell_type": "markdown",
      "source": [
        "## Data Loader"
      ],
      "metadata": {
        "id": "b0mo-0V2GBUH"
      }
    },
    {
      "cell_type": "code",
      "source": [
        "dataloader_args = dict(shuffle=True, batch_size=cuda_batch_size, num_workers=4, pin_memory = True) if cuda else dict(shuffle=True, batch_size=cpu_batch_size)\n",
        "\n",
        "train_loader = torch.utils.data.DataLoader(\n",
        "    dataset=train,# train dataset\n",
        "    **dataloader_args # the dataloader arguments change dependent on cuda is available or not\n",
        "    )\n",
        "\n",
        "test_loader = torch.utils.data.DataLoader(\n",
        "    dataset = test,# test dataset\n",
        "    **dataloader_args # the dataloader arguments change dependent on cuda is available or not\n",
        ")"
      ],
      "metadata": {
        "id": "YFW6q5hWGDrb"
      },
      "execution_count": null,
      "outputs": []
    },
    {
      "cell_type": "markdown",
      "source": [
        "## Checking Dataloader"
      ],
      "metadata": {
        "id": "nR15hQnnGPuD"
      }
    },
    {
      "cell_type": "code",
      "source": [
        "# next(iter(train_loader))"
      ],
      "metadata": {
        "id": "A45nqwKXgXoJ"
      },
      "execution_count": null,
      "outputs": []
    },
    {
      "cell_type": "code",
      "source": [
        "images, labels  = next(iter(train_loader))\n",
        "print(images.shape, labels.shape)\n",
        "# printing random image and seeing\n",
        "random_idx = random.randint(0,len(images))\n",
        "plt.imshow(images[random_idx].numpy().squeeze(), cmap='gray_r')\n",
        "print(f'Label = {labels[random_idx].item()}' )"
      ],
      "metadata": {
        "id": "FjuqXyw9GTDv",
        "colab": {
          "base_uri": "https://localhost:8080/",
          "height": 465
        },
        "outputId": "ae4765f6-39c8-492c-ea9b-3501ba348e77"
      },
      "execution_count": null,
      "outputs": [
        {
          "output_type": "stream",
          "name": "stdout",
          "text": [
            "torch.Size([64, 1, 28, 28]) torch.Size([64])\n",
            "Label = 0\n"
          ]
        },
        {
          "output_type": "display_data",
          "data": {
            "text/plain": [
              "<Figure size 640x480 with 1 Axes>"
            ],
            "image/png": "[encoded data removed]"
          },
          "metadata": {}
        }
      ]
    },
    {
      "cell_type": "code",
      "source": [
        "# Looking at more images\n",
        "figure = plt.figure()\n",
        "for index in range(1, len(images) + 1): # assumption: batch size would be atleast 8\n",
        "    plt.subplot(8, int(len(images)/8), index)\n",
        "    plt.axis('off')\n",
        "    plt.imshow(images[index-1].numpy().squeeze(), cmap='gray_r')"
      ],
      "metadata": {
        "id": "yT5FD4C5Gbc1",
        "colab": {
          "base_uri": "https://localhost:8080/",
          "height": 406
        },
        "outputId": "4d998890-5281-4b8b-b58b-0cc9b8d53ee4"
      },
      "execution_count": null,
      "outputs": [
        {
          "output_type": "display_data",
          "data": {
            "text/plain": [
              "<Figure size 640x480 with 64 Axes>"
            ],
            "image/png": "[encoded data removed]"
          },
          "metadata": {}
        }
      ]
    },
    {
      "cell_type": "markdown",
      "source": [
        "# Target Data"
      ],
      "metadata": {
        "id": "FG0LpIf51K_I"
      }
    },
    {
      "cell_type": "markdown",
      "source": [
        "## Data Transforms"
      ],
      "metadata": {
        "id": "thsqoNGA1NkI"
      }
    },
    {
      "cell_type": "code",
      "source": [
        "# Train Phase transformations\n",
        "target_train_transforms = transforms.Compose([\n",
        "                                       transforms.Resize(img_size),\n",
        "                                      #  transforms.RandomRotation((-7.0, 7.0), fill=(1,)),\n",
        "                                       transforms.ToTensor(), # converts to tesnor\n",
        "                                       transforms.Normalize((0.5,0.5,0.5), (0.5,0.5,0.5))\n",
        "                                       ])\n",
        "\n",
        "# Test Phase transformations\n",
        "target_test_transforms = transforms.Compose([\n",
        "                                       transforms.Resize(img_size),\n",
        "                                       transforms.ToTensor(),# converts to tesnor\n",
        "                                       transforms.Normalize((0.5,0.5,0.5), (0.5,0.5,0.5))\n",
        "                                       ])"
      ],
      "metadata": {
        "id": "UHo_jePN1NMA"
      },
      "execution_count": null,
      "outputs": []
    },
    {
      "cell_type": "markdown",
      "source": [
        "## Dataset Class"
      ],
      "metadata": {
        "id": "o7xb9jN96oFM"
      }
    },
    {
      "cell_type": "code",
      "source": [
        "class MNISTM(torch.utils.data.Dataset):\n",
        "    def __init__(self, data_root, data_list, transform=None):\n",
        "        self.root = data_root\n",
        "        self.transform = transform\n",
        "\n",
        "        f = open(data_list, 'r')\n",
        "        data_list = f.readlines()\n",
        "        f.close()\n",
        "\n",
        "        self.n_data = len(data_list)\n",
        "\n",
        "        self.img_paths = []\n",
        "        self.img_labels = []\n",
        "\n",
        "        for data in data_list:\n",
        "            self.img_paths.append(data[:-3])\n",
        "            self.img_labels.append(data[-2])\n",
        "\n",
        "    def __getitem__(self, item):\n",
        "        img_paths, labels = self.img_paths[item], self.img_labels[item]\n",
        "        imgs = Image.open(os.path.join(self.root, img_paths)).convert('RGB')\n",
        "\n",
        "        if self.transform is not None:\n",
        "            imgs = self.transform(imgs)\n",
        "            labels = int(labels)\n",
        "\n",
        "        return imgs, labels\n",
        "\n",
        "    def __len__(self):\n",
        "        return self.n_data"
      ],
      "metadata": {
        "id": "l9LoxsJO6rSS"
      },
      "execution_count": null,
      "outputs": []
    },
    {
      "cell_type": "markdown",
      "source": [
        "## Dataset"
      ],
      "metadata": {
        "id": "JQeKNcY77VOm"
      }
    },
    {
      "cell_type": "code",
      "source": [
        "# checking the mounted drive and mounting if not done\n",
        "if not os.path.exists('/content/gdrive'):\n",
        "  from google.colab import drive\n",
        "  drive.mount('/content/gdrive')\n",
        "else:\n",
        "    print(\"Google Drive is already mounted.\")"
      ],
      "metadata": {
        "colab": {
          "base_uri": "https://localhost:8080/"
        },
        "id": "Lk5Qy5d78COu",
        "outputId": "923e6cf3-4f00-4fc6-cdff-9e2483f73693"
      },
      "execution_count": null,
      "outputs": [
        {
          "output_type": "stream",
          "name": "stdout",
          "text": [
            "Mounted at /content/gdrive\n"
          ]
        }
      ]
    },
    {
      "cell_type": "markdown",
      "source": [
        "## Extracting Dataset - one time"
      ],
      "metadata": {
        "id": "VUH_DY_Ygn4u"
      }
    },
    {
      "cell_type": "code",
      "source": [
        "import tarfile\n",
        "import os\n",
        "from pathlib import Path\n",
        "\n",
        "if os.path.exists(target_drive_path):\n",
        "    with tarfile.open(target_drive_path, 'r:gz') as tar:\n",
        "      tar.extractall(path=data_base_path)\n",
        "else:\n",
        "    print(f\"The directory {target_drive_path} does not exist.\")"
      ],
      "metadata": {
        "id": "9WPR3j_jgnRD"
      },
      "execution_count": null,
      "outputs": []
    },
    {
      "cell_type": "code",
      "source": [
        "train_list = os.path.join(target_image_root, 'mnist_m_train_labels.txt')\n",
        "train_root = os.path.join(target_image_root, 'mnist_m_train')\n",
        "test_list = os.path.join(target_image_root, 'mnist_m_test_labels.txt')\n",
        "test_root = os.path.join(target_image_root, 'mnist_m_test')\n",
        "\n",
        "dataset_target_train = MNISTM(data_root = train_root,\n",
        "                                 data_list = train_list,\n",
        "                                 transform = target_train_transforms,\n",
        "                                 )\n",
        "dataset_target_test = MNISTM(data_root = test_root,\n",
        "                                      data_list = test_list,\n",
        "                                      transform = target_test_transforms,\n",
        "                                      )"
      ],
      "metadata": {
        "id": "0uXIz8ct7Uhl"
      },
      "execution_count": null,
      "outputs": []
    },
    {
      "cell_type": "markdown",
      "source": [
        "## Dataloader"
      ],
      "metadata": {
        "id": "I26kd4Hm6-K9"
      }
    },
    {
      "cell_type": "code",
      "source": [
        "\n",
        "dataloader_target_train = torch.utils.data.DataLoader(\n",
        "    dataset=dataset_target_train,# train dataset\n",
        "    **dataloader_args # the dataloader arguments change dependent on cuda is available or not\n",
        "    )\n",
        "\n",
        "dataloader_target_train = torch.utils.data.DataLoader(\n",
        "    dataset = dataset_target_test,# test dataset\n",
        "    **dataloader_args # the dataloader arguments change dependent on cuda is available or not\n",
        ")"
      ],
      "metadata": {
        "id": "_QkvhQpL69on"
      },
      "execution_count": null,
      "outputs": []
    },
    {
      "cell_type": "markdown",
      "source": [
        "### Checking Dataloader"
      ],
      "metadata": {
        "id": "pXqnJO9ZplZU"
      }
    },
    {
      "cell_type": "code",
      "source": [
        "images, labels  = next(iter(dataloader_target_train))\n",
        "print(images.shape, labels.shape)\n",
        "# printing random image and seeing\n",
        "random_idx = random.randint(0,len(images))\n",
        "random_img = images[random_idx].permute(1,2,0).numpy()\n",
        "plt.imshow((random_img*0.5)+0.5)\n",
        "print(f'Label = {labels[random_idx].item()}' )"
      ],
      "metadata": {
        "colab": {
          "base_uri": "https://localhost:8080/",
          "height": 465
        },
        "id": "1cI2SjDfpqUi",
        "outputId": "19b62053-f0e8-42ff-c58d-9ce6bd3056e4"
      },
      "execution_count": null,
      "outputs": [
        {
          "output_type": "stream",
          "name": "stdout",
          "text": [
            "torch.Size([128, 3, 28, 28]) torch.Size([128])\n",
            "Label = 1\n"
          ]
        },
        {
          "output_type": "display_data",
          "data": {
            "text/plain": [
              "<Figure size 640x480 with 1 Axes>"
            ],
            "image/png": "[encoded data removed]"
          },
          "metadata": {}
        }
      ]
    },
    {
      "cell_type": "markdown",
      "source": [
        "# Model"
      ],
      "metadata": {
        "id": "VNOv81RVGrgO"
      }
    },
    {
      "cell_type": "code",
      "source": [
        "# class Network(nn.Module):\n",
        "#   def __init__(self):\n",
        "#     super(Network,self).__init__() # extending super class method\n",
        "\n",
        "#     drop_out_value = 0.1\n",
        "\n",
        "#     # Input Block\n",
        "#     self.convblock1 = nn.Sequential(\n",
        "#         nn.Conv2d(3,16,3 , bias= False ), # In- 3x28x28, Out- 16x26x26, RF- 3x3, Jump_in -1, Jump_out -1\n",
        "#         nn.ReLU(),\n",
        "#         nn.BatchNorm2d(16),# affine=False),\n",
        "#         nn.Dropout(drop_out_value)\n",
        "#     )\n",
        "\n",
        "#     # Conv Block 2\n",
        "#     self.convblock2 = nn.Sequential(\n",
        "#         nn.Conv2d(16,16,3, bias= False ), # In- 16x26x26, Out- 16x24x24, RF- 5x5, Jump_in -1, Jump_out -1\n",
        "#         nn.ReLU(),\n",
        "#         nn.BatchNorm2d(16),# affine=False),\n",
        "#         nn.Dropout(drop_out_value)\n",
        "#     )\n",
        "\n",
        "#     # Conv Block 3\n",
        "#     self.convblock3 = nn.Sequential(\n",
        "#         nn.Conv2d(16,16,3, bias= False ), # In- 16x24x24, Out- 16x22x22, RF- 7x7, Jump_in -1, Jump_out -1\n",
        "#         nn.ReLU(),\n",
        "#         nn.BatchNorm2d(16),# affine=False),\n",
        "#         nn.Dropout(drop_out_value)\n",
        "#     )\n",
        "\n",
        "#     # Transition Block 1 (this also includes a conv block)\n",
        "#     self.pool1 = nn.MaxPool2d(kernel_size=2, stride=2) # In- 16x22x22, Out- 16x11x11, RF- 8x8, Jump_in -1, Jump_out -2\n",
        "\n",
        "\n",
        "#     # Conv Block 4\n",
        "#     self.convblock4 = nn.Sequential(\n",
        "#         nn.Conv2d(16,16,3, bias= False ), # In- 16x11x11, Out- 16x9x9, RF- 12x12, Jump_in -2, Jump_out -2\n",
        "#         nn.ReLU(),\n",
        "#         nn.BatchNorm2d(16),# affine=False),\n",
        "#         nn.Dropout(drop_out_value)\n",
        "#     )\n",
        "\n",
        "#     # Conv Block 5\n",
        "#     self.convblock5 = nn.Sequential(\n",
        "#         nn.Conv2d(16,32,3, bias= False ), # In- 16x9x9, Out- 32x7x7, RF- 16x16, Jump_in -2, Jump_out -2\n",
        "#         nn.ReLU(),\n",
        "#         nn.BatchNorm2d(32),# affine=False),\n",
        "#         nn.Dropout(drop_out_value)\n",
        "#     )\n",
        "\n",
        "#     # Output Block\n",
        "#     self.convblock6 = nn.Sequential(\n",
        "#         nn.Conv2d(32,64,1, bias= False ), # In- 32x7x7, Out- 64x7x7, RF- 16x16, Jump_in -2, Jump_out -2\n",
        "#     )\n",
        "\n",
        "#     self.gap = nn.AvgPool2d(7) # In- 64x7x7, Out- 64x1x1, RF- 16x16, Jump_in -2, Jump_out -2\n",
        "\n",
        "#     self.feature = nn.Sequential(self.convblock1,\n",
        "#                                  self.convblock2,\n",
        "#                                  self.convblock3,\n",
        "#                                  self.pool1,\n",
        "#                                  self.convblock4,\n",
        "#                                  self.convblock5,\n",
        "#                                  self.convblock6,\n",
        "#                                  self.gap\n",
        "#                                 )\n",
        "\n",
        "\n",
        "#   def forward(self,x):\n",
        "#     x = self.feature(x)\n",
        "\n",
        "#     # x = self.convblock1(x)\n",
        "#     # x = self.convblock2(x)\n",
        "#     # x = self.convblock3(x)\n",
        "\n",
        "#     # x = self.pool1(x)\n",
        "#     # # x = self.convblock4(x)\n",
        "#     # x = self.convblock5(x)\n",
        "#     # x = self.convblock6(x)\n",
        "\n",
        "#     # x = self.convblock7(x)\n",
        "\n",
        "#     # x = self.gap(x)\n",
        "\n",
        "#     # Flattening\n",
        "#     x = x.view(-1,64)\n",
        "#     return F.log_softmax(x,dim=-1)\n",
        "\n",
        "# model = Network()\n",
        "# print(model)"
      ],
      "metadata": {
        "id": "9_JHChueh7I5"
      },
      "execution_count": null,
      "outputs": []
    },
    {
      "cell_type": "code",
      "source": [
        "import torch\n",
        "import torch.nn as nn\n",
        "import torch.nn.functional as F\n",
        "from torch.autograd import Function\n",
        "\n",
        "\n",
        "class GradientReversalFn(Function):\n",
        "    @staticmethod\n",
        "    def forward(ctx, x, alpha):\n",
        "        ctx.alpha = alpha\n",
        "\n",
        "        return x.view_as(x)\n",
        "\n",
        "    @staticmethod\n",
        "    def backward(ctx, grad_output):\n",
        "        output = grad_output.neg() * ctx.alpha\n",
        "\n",
        "        return output, None\n",
        "\n",
        "class Network(nn.Module):\n",
        "    def __init__(self, num_classes = 10):\n",
        "        super(Network, self).__init__()  # Initialize the parent class\n",
        "\n",
        "        drop_out_value = 0.1\n",
        "\n",
        "        #---------------------Feature Extractor Network------------------------#\n",
        "        self.feature_extractor  = nn.Sequential(\n",
        "            # Input Block\n",
        "            nn.Conv2d(3, 16, 3, bias=False),  # In: 3x28x28, Out: 16x26x26, RF: 3x3, Stride: 1\n",
        "            nn.ReLU(),\n",
        "            nn.BatchNorm2d(16),\n",
        "            nn.Dropout(drop_out_value),\n",
        "\n",
        "            # Conv Block 2\n",
        "            nn.Conv2d(16, 16, 3, bias=False),  # In: 16x26x26, Out: 16x24x24, RF: 5x5, Stride: 1\n",
        "            nn.ReLU(),\n",
        "            nn.BatchNorm2d(16),\n",
        "            nn.Dropout(drop_out_value),\n",
        "\n",
        "            # Conv Block 3\n",
        "            nn.Conv2d(16, 16, 3, bias=False),  # In: 16x24x24, Out: 16x22x22, RF: 7x7, Stride: 1\n",
        "            nn.ReLU(),\n",
        "            nn.BatchNorm2d(16),\n",
        "            nn.Dropout(drop_out_value),\n",
        "\n",
        "            # Transition Block 1\n",
        "            nn.MaxPool2d(kernel_size=2, stride=2),  # In: 16x22x22, Out: 16x11x11, RF: 8x8, Stride: 2\n",
        "\n",
        "            # Conv Block 4\n",
        "            nn.Conv2d(16, 16, 3, bias=False),  # In: 16x11x11, Out: 16x9x9, RF: 12x12, Stride: 1\n",
        "            nn.ReLU(),\n",
        "            nn.BatchNorm2d(16),\n",
        "            nn.Dropout(drop_out_value),\n",
        "\n",
        "            # Conv Block 5\n",
        "            nn.Conv2d(16, 32, 3, bias=False),  # In: 16x9x9, Out: 32x7x7, RF: 16x16, Stride: 1\n",
        "            nn.ReLU(),\n",
        "            nn.BatchNorm2d(32),\n",
        "            nn.Dropout(drop_out_value),\n",
        "\n",
        "            # Output Block\n",
        "            nn.Conv2d(32, 64, 1, bias=False),  # In: 32x7x7, Out: 64x7x7, RF: 16x16, Stride: 1\n",
        "\n",
        "            # Global Average Pooling\n",
        "            nn.AvgPool2d(7)  # In: 64x7x7, Out: 64x1x1, RF: 16x16, Stride: 7\n",
        "        )\n",
        "\n",
        "        #---------------------Class Classifier Network------------------------#\n",
        "        self.class_classifier = nn.Sequential(nn.ReLU(),\n",
        "                                        nn.Dropout(p=drop_out_value),\n",
        "                                        nn.Linear(64,50),\n",
        "                                        nn.BatchNorm1d(50), # added batch norm to improve accuracy\n",
        "                                        nn.ReLU(),\n",
        "                                        nn.Dropout(p=drop_out_value),\n",
        "                                        nn.Linear(50,num_classes))\n",
        "\n",
        "        #---------------------Label Classifier Network------------------------#\n",
        "        self.domain_classifier = nn.Sequential(nn.ReLU(),\n",
        "                                        nn.Dropout(p=drop_out_value),\n",
        "                                        nn.Linear(64,50),\n",
        "                                        nn.BatchNorm1d(50), # added batch norm to improve accuracy\n",
        "                                        nn.ReLU(),\n",
        "                                        nn.Dropout(p=drop_out_value),\n",
        "                                        nn.Linear(50,2))\n",
        "    def forward(self, input_data, alpha = 1.0):\n",
        "      if input_data.data.shape[1] == 1:\n",
        "        input_data = input_data.expand(input_data.data.shape[0], 3, img_size, img_size)\n",
        "\n",
        "      input_data = self.feature_extractor(input_data)\n",
        "\n",
        "      features = input_data.view(input_data.size(0), -1)  # Flatten the output for fully connected layer\n",
        "\n",
        "      reverse_features = GradientReversalFn.apply(features, alpha)\n",
        "      class_output = self.class_classifier(features)\n",
        "      domain_output = self.domain_classifier(reverse_features)\n",
        "\n",
        "      return class_output, domain_output, features\n",
        "\n",
        "# Create an instance of the network and print it\n",
        "model = Network()\n",
        "print(model)\n"
      ],
      "metadata": {
        "colab": {
          "base_uri": "https://localhost:8080/"
        },
        "id": "RODNMMrSvDpA",
        "outputId": "c16fc363-133a-44ce-b820-51a95a719843"
      },
      "execution_count": null,
      "outputs": [
        {
          "output_type": "stream",
          "name": "stdout",
          "text": [
            "Network(\n",
            "  (feature_extractor): Sequential(\n",
            "    (0): Conv2d(3, 16, kernel_size=(3, 3), stride=(1, 1), bias=False)\n",
            "    (1): ReLU()\n",
            "    (2): BatchNorm2d(16, eps=1e-05, momentum=0.1, affine=True, track_running_stats=True)\n",
            "    (3): Dropout(p=0.1, inplace=False)\n",
            "    (4): Conv2d(16, 16, kernel_size=(3, 3), stride=(1, 1), bias=False)\n",
            "    (5): ReLU()\n",
            "    (6): BatchNorm2d(16, eps=1e-05, momentum=0.1, affine=True, track_running_stats=True)\n",
            "    (7): Dropout(p=0.1, inplace=False)\n",
            "    (8): Conv2d(16, 16, kernel_size=(3, 3), stride=(1, 1), bias=False)\n",
            "    (9): ReLU()\n",
            "    (10): BatchNorm2d(16, eps=1e-05, momentum=0.1, affine=True, track_running_stats=True)\n",
            "    (11): Dropout(p=0.1, inplace=False)\n",
            "    (12): MaxPool2d(kernel_size=2, stride=2, padding=0, dilation=1, ceil_mode=False)\n",
            "    (13): Conv2d(16, 16, kernel_size=(3, 3), stride=(1, 1), bias=False)\n",
            "    (14): ReLU()\n",
            "    (15): BatchNorm2d(16, eps=1e-05, momentum=0.1, affine=True, track_running_stats=True)\n",
            "    (16): Dropout(p=0.1, inplace=False)\n",
            "    (17): Conv2d(16, 32, kernel_size=(3, 3), stride=(1, 1), bias=False)\n",
            "    (18): ReLU()\n",
            "    (19): BatchNorm2d(32, eps=1e-05, momentum=0.1, affine=True, track_running_stats=True)\n",
            "    (20): Dropout(p=0.1, inplace=False)\n",
            "    (21): Conv2d(32, 64, kernel_size=(1, 1), stride=(1, 1), bias=False)\n",
            "    (22): AvgPool2d(kernel_size=7, stride=7, padding=0)\n",
            "  )\n",
            "  (class_classifier): Sequential(\n",
            "    (0): ReLU()\n",
            "    (1): Dropout(p=0.1, inplace=False)\n",
            "    (2): Linear(in_features=64, out_features=50, bias=True)\n",
            "    (3): BatchNorm1d(50, eps=1e-05, momentum=0.1, affine=True, track_running_stats=True)\n",
            "    (4): ReLU()\n",
            "    (5): Dropout(p=0.1, inplace=False)\n",
            "    (6): Linear(in_features=50, out_features=10, bias=True)\n",
            "  )\n",
            "  (domain_classifier): Sequential(\n",
            "    (0): ReLU()\n",
            "    (1): Dropout(p=0.1, inplace=False)\n",
            "    (2): Linear(in_features=64, out_features=50, bias=True)\n",
            "    (3): BatchNorm1d(50, eps=1e-05, momentum=0.1, affine=True, track_running_stats=True)\n",
            "    (4): ReLU()\n",
            "    (5): Dropout(p=0.1, inplace=False)\n",
            "    (6): Linear(in_features=50, out_features=2, bias=True)\n",
            "  )\n",
            ")\n"
          ]
        }
      ]
    },
    {
      "cell_type": "markdown",
      "source": [
        "## Model Params\n",
        "\n",
        "Model moved to device"
      ],
      "metadata": {
        "id": "1QSCWlFoM5nf"
      }
    },
    {
      "cell_type": "code",
      "source": [
        "device = torch.device(\"cuda\" if cuda else \"cpu\")\n",
        "print(device)\n",
        "model = Network().to(device)\n",
        "# print(model)\n",
        "summary(model, input_size=(3, 28, 28))"
      ],
      "metadata": {
        "id": "37ziIa80M8-3",
        "colab": {
          "base_uri": "https://localhost:8080/"
        },
        "outputId": "893f4251-5f41-47df-9b95-9e2f109b4358"
      },
      "execution_count": null,
      "outputs": [
        {
          "output_type": "stream",
          "name": "stdout",
          "text": [
            "cpu\n",
            "----------------------------------------------------------------\n",
            "        Layer (type)               Output Shape         Param #\n",
            "================================================================\n",
            "            Conv2d-1           [-1, 16, 26, 26]             432\n",
            "              ReLU-2           [-1, 16, 26, 26]               0\n",
            "       BatchNorm2d-3           [-1, 16, 26, 26]              32\n",
            "           Dropout-4           [-1, 16, 26, 26]               0\n",
            "            Conv2d-5           [-1, 16, 24, 24]           2,304\n",
            "              ReLU-6           [-1, 16, 24, 24]               0\n",
            "       BatchNorm2d-7           [-1, 16, 24, 24]              32\n",
            "           Dropout-8           [-1, 16, 24, 24]               0\n",
            "            Conv2d-9           [-1, 16, 22, 22]           2,304\n",
            "             ReLU-10           [-1, 16, 22, 22]               0\n",
            "      BatchNorm2d-11           [-1, 16, 22, 22]              32\n",
            "          Dropout-12           [-1, 16, 22, 22]               0\n",
            "        MaxPool2d-13           [-1, 16, 11, 11]               0\n",
            "           Conv2d-14             [-1, 16, 9, 9]           2,304\n",
            "             ReLU-15             [-1, 16, 9, 9]               0\n",
            "      BatchNorm2d-16             [-1, 16, 9, 9]              32\n",
            "          Dropout-17             [-1, 16, 9, 9]               0\n",
            "           Conv2d-18             [-1, 32, 7, 7]           4,608\n",
            "             ReLU-19             [-1, 32, 7, 7]               0\n",
            "      BatchNorm2d-20             [-1, 32, 7, 7]              64\n",
            "          Dropout-21             [-1, 32, 7, 7]               0\n",
            "           Conv2d-22             [-1, 64, 7, 7]           2,048\n",
            "        AvgPool2d-23             [-1, 64, 1, 1]               0\n",
            "             ReLU-24                   [-1, 64]               0\n",
            "          Dropout-25                   [-1, 64]               0\n",
            "           Linear-26                   [-1, 50]           3,250\n",
            "      BatchNorm1d-27                   [-1, 50]             100\n",
            "             ReLU-28                   [-1, 50]               0\n",
            "          Dropout-29                   [-1, 50]               0\n",
            "           Linear-30                   [-1, 10]             510\n",
            "             ReLU-31                   [-1, 64]               0\n",
            "          Dropout-32                   [-1, 64]               0\n",
            "           Linear-33                   [-1, 50]           3,250\n",
            "      BatchNorm1d-34                   [-1, 50]             100\n",
            "             ReLU-35                   [-1, 50]               0\n",
            "          Dropout-36                   [-1, 50]               0\n",
            "           Linear-37                    [-1, 2]             102\n",
            "================================================================\n",
            "Total params: 21,504\n",
            "Trainable params: 21,504\n",
            "Non-trainable params: 0\n",
            "----------------------------------------------------------------\n",
            "Input size (MB): 0.01\n",
            "Forward/backward pass size (MB): 0.98\n",
            "Params size (MB): 0.08\n",
            "Estimated Total Size (MB): 1.07\n",
            "----------------------------------------------------------------\n"
          ]
        }
      ]
    },
    {
      "cell_type": "markdown",
      "source": [
        "# Training and Testing"
      ],
      "metadata": {
        "id": "BriahAKX-Qsh"
      }
    },
    {
      "cell_type": "markdown",
      "source": [
        "## Test Function"
      ],
      "metadata": {
        "id": "fhYu3DCQ5fa1"
      }
    },
    {
      "cell_type": "code",
      "source": [
        "def get_correct_preds(prediction, labels):\n",
        "    \"\"\"\n",
        "    Function to return total number of correct predictions\n",
        "    :param prediction: Model predictions on a given sample of data\n",
        "    :param labels: Correct labels of a given sample of data\n",
        "    :return: Number of correct predictions\n",
        "    \"\"\"\n",
        "    # print(\"prediction shape\", prediction.argmax(dim=1).shape)\n",
        "    # print(\"labels shape \", labels.shape)\n",
        "    return prediction.argmax(dim=1).eq(labels).sum().item()\n",
        "    # return prediction.argmax(dim=1).eq(labels.argmax(dim=1)).sum().item()"
      ],
      "metadata": {
        "id": "y4SGsRzJ5uZY"
      },
      "execution_count": null,
      "outputs": []
    },
    {
      "cell_type": "code",
      "source": [
        "def test_model_local(model, device, data_loader, mode= 'test',\n",
        "               class_loss_function = nn.CrossEntropyLoss() ):\n",
        "    model = model.to(device)\n",
        "    model.eval() # evaluation mode\n",
        "\n",
        "    # variables to track loss and accuracy\n",
        "    test_loss = 0.0\n",
        "    correct = 0\n",
        "    pbar = tqdm(data_loader) # putting the dataloader in progress bar\n",
        "\n",
        "\n",
        "    # Disable gradient updation\n",
        "    with torch.no_grad():\n",
        "        # Iterate over each batch and fetch images and labels from the batch\n",
        "        for batch_idx, batch in enumerate(pbar):\n",
        "        # for batch_idx, batch in enumerate(data_loader):\n",
        "            images, labels = batch[0].to(device), batch[1].to(device)\n",
        "\n",
        "            class_output,_,_  = model((images)) # forward pass, output = {class}\n",
        "            class_loss = class_loss_function(class_output,labels) # Calculate Loss\n",
        "\n",
        "            test_loss += class_loss.item() # sum up batch loss\n",
        "\n",
        "            # Sum up batch correct predictions\n",
        "            correct += get_correct_preds(class_output, labels)\n",
        "\n",
        "    # Calculate test loss for a epoch\n",
        "    test_loss /= len(data_loader.dataset)\n",
        "\n",
        "    pbar.set_description(desc= f'Test / Val: Average loss={test_loss} Accuracy={correct}/{len(data_loader.dataset)}({100*correct/len(data_loader.dataset):0.2f}%)')\n",
        "\n",
        "    return correct, test_loss"
      ],
      "metadata": {
        "id": "j-OfBkkb5vFv"
      },
      "execution_count": null,
      "outputs": []
    },
    {
      "cell_type": "markdown",
      "source": [
        "Checking accuracy before training"
      ],
      "metadata": {
        "id": "iUweZOjc7BVP"
      }
    },
    {
      "cell_type": "code",
      "source": [
        "correct, test_loss = test_model_local(model = model,\n",
        "                                      device = device,\n",
        "                                      data_loader = train_loader)\n",
        "correct, test_loss"
      ],
      "metadata": {
        "colab": {
          "base_uri": "https://localhost:8080/"
        },
        "id": "t3mn2oWx7EHr",
        "outputId": "fc0ba3a4-1e86-42c1-fc93-1671cee1ade0"
      },
      "execution_count": null,
      "outputs": [
        {
          "output_type": "stream",
          "name": "stderr",
          "text": [
            "100%|██████████| 938/938 [00:43<00:00, 21.58it/s]\n"
          ]
        },
        {
          "output_type": "execute_result",
          "data": {
            "text/plain": [
              "(5851, 0.036037853399912514)"
            ]
          },
          "metadata": {},
          "execution_count": 28
        }
      ]
    },
    {
      "cell_type": "markdown",
      "source": [
        "### Performance Metric"
      ],
      "metadata": {
        "id": "sl3XiBCm-v43"
      }
    },
    {
      "cell_type": "code",
      "source": [
        "#TODO: Move to Utils\n",
        "\n",
        "# labels_map={0:0,\n",
        "#             1:1,\n",
        "#             2:2,\n",
        "#             3:3,\n",
        "#             4:4,\n",
        "#             5:\"Surprise\",\n",
        "#             6:\"Neutral\"}\n",
        "from sklearn.metrics import accuracy_score, precision_score, confusion_matrix, classification_report\n",
        "import pandas as pd\n",
        "\n",
        "\n",
        "def performance_metric(model,\n",
        "                       device,\n",
        "                       data_loader):\n",
        "    model = model.to(device)\n",
        "    model.eval() # evaluation mode\n",
        "\n",
        "    # variables to track loss and accuracy\n",
        "    test_loss = 0.0\n",
        "    correct = 0\n",
        "    true_labels = []\n",
        "    predicted_labels = []\n",
        "\n",
        "    # Disable gradient updation\n",
        "    with torch.no_grad():\n",
        "        # Iterate over each batch and fetch images and labels from the batch\n",
        "        for batch_idx, batch in enumerate(data_loader):\n",
        "          images, labels = batch[0].to(device), batch[1].to(device)\n",
        "\n",
        "          class_output,_,_  = model((images)) # forward pass, output = {class}\n",
        "          true_labels.extend(labels.cpu().numpy())\n",
        "          predicted_labels.extend(class_output.argmax(dim=1).cpu().numpy())\n",
        "\n",
        "    # true_labels = [labels_map[int_label] for int_label in true_labels]\n",
        "    # predicted_labels= [labels_map[int_label] for int_label in predicted_labels]\n",
        "\n",
        "    # Compute accuracy\n",
        "    accuracy = accuracy_score(true_labels, predicted_labels)\n",
        "    print(\"Accuracy:\", accuracy)\n",
        "\n",
        "    # Compute precision\n",
        "    precision = precision_score(true_labels, predicted_labels, average='weighted')\n",
        "    print(\"Precision:\", precision)\n",
        "\n",
        "    # Generate confusion matrix\n",
        "    conf_matrix = confusion_matrix(true_labels, predicted_labels)\n",
        "    # class_names = list(labels_map.values())\n",
        "    class_names = ['0', '1', '2', '3', '4', '5', '6', '7', '8', '9']\n",
        "    cm_df = pd.DataFrame(conf_matrix, index=class_names, columns=class_names)\n",
        "    print(\"Confusion Matrix:\")\n",
        "    # print(conf_matrix)\n",
        "    print(cm_df)\n",
        "\n",
        "    # Generate classification report\n",
        "    class_report = classification_report(true_labels, predicted_labels)\n",
        "    print(\"Classification Report:\")\n",
        "    print(class_report)\n",
        "\n",
        "    return true_labels, predicted_labels, accuracy, precision, cm_df, class_report"
      ],
      "metadata": {
        "id": "ky1FXqG4-zBJ"
      },
      "execution_count": null,
      "outputs": []
    },
    {
      "cell_type": "code",
      "source": [
        "true_labels, predicted_labels, accuracy, precision, conf_matrix, class_report = performance_metric(model= model,\n",
        "                                                                                                   device= device,\n",
        "                                                                                                   data_loader = train_loader, # source val loader\n",
        "                                                                                                   )"
      ],
      "metadata": {
        "colab": {
          "base_uri": "https://localhost:8080/"
        },
        "id": "aIGxrBIx-lqU",
        "outputId": "59e65ce6-3522-4f0b-9cac-9236cacd2e64"
      },
      "execution_count": null,
      "outputs": [
        {
          "output_type": "stream",
          "name": "stdout",
          "text": [
            "Accuracy: 0.09751666666666667\n",
            "Precision: 0.009509500277777777\n",
            "Confusion Matrix:\n",
            "[[   0    0    0    0    0    0    0    0 5923    0]\n",
            " [   0    0    0    0    0    0    0    0 6742    0]\n",
            " [   0    0    0    0    0    0    0    0 5958    0]\n",
            " [   0    0    0    0    0    0    0    0 6131    0]\n",
            " [   0    0    0    0    0    0    0    0 5842    0]\n",
            " [   0    0    0    0    0    0    0    0 5421    0]\n",
            " [   0    0    0    0    0    0    0    0 5918    0]\n",
            " [   0    0    0    0    0    0    0    0 6265    0]\n",
            " [   0    0    0    0    0    0    0    0 5851    0]\n",
            " [   0    0    0    0    0    0    0    0 5949    0]]\n",
            "   0  1  2  3  4  5  6  7     8  9\n",
            "0  0  0  0  0  0  0  0  0  5923  0\n",
            "1  0  0  0  0  0  0  0  0  6742  0\n",
            "2  0  0  0  0  0  0  0  0  5958  0\n",
            "3  0  0  0  0  0  0  0  0  6131  0\n",
            "4  0  0  0  0  0  0  0  0  5842  0\n",
            "5  0  0  0  0  0  0  0  0  5421  0\n",
            "6  0  0  0  0  0  0  0  0  5918  0\n",
            "7  0  0  0  0  0  0  0  0  6265  0\n",
            "8  0  0  0  0  0  0  0  0  5851  0\n",
            "9  0  0  0  0  0  0  0  0  5949  0\n"
          ]
        },
        {
          "output_type": "stream",
          "name": "stderr",
          "text": [
            "/usr/local/lib/python3.10/dist-packages/sklearn/metrics/_classification.py:1344: UndefinedMetricWarning: Precision is ill-defined and being set to 0.0 in labels with no predicted samples. Use `zero_division` parameter to control this behavior.\n",
            "  _warn_prf(average, modifier, msg_start, len(result))\n",
            "/usr/local/lib/python3.10/dist-packages/sklearn/metrics/_classification.py:1344: UndefinedMetricWarning: Precision and F-score are ill-defined and being set to 0.0 in labels with no predicted samples. Use `zero_division` parameter to control this behavior.\n",
            "  _warn_prf(average, modifier, msg_start, len(result))\n",
            "/usr/local/lib/python3.10/dist-packages/sklearn/metrics/_classification.py:1344: UndefinedMetricWarning: Precision and F-score are ill-defined and being set to 0.0 in labels with no predicted samples. Use `zero_division` parameter to control this behavior.\n",
            "  _warn_prf(average, modifier, msg_start, len(result))\n"
          ]
        },
        {
          "output_type": "stream",
          "name": "stdout",
          "text": [
            "Classification Report:\n",
            "              precision    recall  f1-score   support\n",
            "\n",
            "           0       0.00      0.00      0.00      5923\n",
            "           1       0.00      0.00      0.00      6742\n",
            "           2       0.00      0.00      0.00      5958\n",
            "           3       0.00      0.00      0.00      6131\n",
            "           4       0.00      0.00      0.00      5842\n",
            "           5       0.00      0.00      0.00      5421\n",
            "           6       0.00      0.00      0.00      5918\n",
            "           7       0.00      0.00      0.00      6265\n",
            "           8       0.10      1.00      0.18      5851\n",
            "           9       0.00      0.00      0.00      5949\n",
            "\n",
            "    accuracy                           0.10     60000\n",
            "   macro avg       0.01      0.10      0.02     60000\n",
            "weighted avg       0.01      0.10      0.02     60000\n",
            "\n"
          ]
        },
        {
          "output_type": "stream",
          "name": "stderr",
          "text": [
            "/usr/local/lib/python3.10/dist-packages/sklearn/metrics/_classification.py:1344: UndefinedMetricWarning: Precision and F-score are ill-defined and being set to 0.0 in labels with no predicted samples. Use `zero_division` parameter to control this behavior.\n",
            "  _warn_prf(average, modifier, msg_start, len(result))\n"
          ]
        }
      ]
    },
    {
      "cell_type": "markdown",
      "source": [
        "## Training Function with LR Scheduler"
      ],
      "metadata": {
        "id": "Ftl5booTAl8K"
      }
    },
    {
      "cell_type": "code",
      "source": [
        "def train_model_local_lr(model,device, data_loader, optimizer, epoch,\n",
        "                class_loss_function = nn.CrossEntropyLoss() ):\n",
        "    print(f'epoch = {epoch+1}...in training function')\n",
        "    model.to(device)\n",
        "    model.train() # setting model to training\n",
        "\n",
        "\n",
        "    pbar = tqdm(data_loader) # putting the dataloader in progress bar\n",
        "\n",
        "    processed = 0 # to understand accuracy, used in denominator\n",
        "    epoch_loss = 0.0\n",
        "    correct = 0\n",
        "\n",
        "    for batch_idx, batch in enumerate(pbar):\n",
        "        batch[0] = batch[0]\n",
        "        images, labels = batch[0].to(device), batch[1].to(device) # batch of images and labels\n",
        "\n",
        "\n",
        "        optimizer.zero_grad() # setting gradients to zero to avoid accumulation\n",
        "\n",
        "        class_output, _ , _ = model(images) # forward pass, output = {class, domain, feature}\n",
        "\n",
        "        class_loss = class_loss_function(class_output,labels) # Calculate Loss\n",
        "        epoch_loss += class_loss.item()\n",
        "        # Sum up batch correct predictions\n",
        "        correct += get_correct_preds(class_output, labels)\n",
        "\n",
        "        class_loss.backward() #backpropogation, creating gradients\n",
        "\n",
        "        optimizer.step() # updating the params\n",
        "\n",
        "        processed += len(images)\n",
        "        curr_lr = optimizer.param_groups[0]['lr']\n",
        "\n",
        "        pbar.set_description(desc= f'Loss={class_loss.item()} Accuracy={correct}/{processed}({100*correct/processed:0.2f}%) Epoch Avg loss={epoch_loss/processed:0.8f} LR={curr_lr:0.6f}')\n",
        "\n",
        "    return float(\"{:.8f}\".format(epoch_loss/processed)),  curr_lr\n"
      ],
      "metadata": {
        "id": "vsboQAcdAh-I"
      },
      "execution_count": null,
      "outputs": []
    },
    {
      "cell_type": "markdown",
      "source": [
        "### Execution of Training Function"
      ],
      "metadata": {
        "id": "3-ffQ8plBGtV"
      }
    },
    {
      "cell_type": "code",
      "source": [
        "\n",
        "model = Network().to(device=device)\n",
        "best_model = Network().to(device=device)\n",
        "\n",
        "#learning rate\n",
        "lr =  0.4\n",
        "\n",
        "# Epochs\n",
        "print(\"EPOCHS\", EPOCHS)\n",
        "\n",
        "# ReduceLRonPlateau Scheduler Params\n",
        "scheduler_patience = 1\n",
        "scheduler_factor = 0.1\n",
        "scheduler_threshold = 0.0002\n",
        "\n",
        "# # Early stopping params\n",
        "# early_stop_patience = 15 #runconfig.early_stop_patience\n",
        "# early_stop_difference = 15 #runconfig.early_stop_difference\n",
        "\n",
        "# optimizer\n",
        "optimizer = optim.SGD(model.parameters(), lr = lr, momentum = 0.9)\n",
        "\n",
        "# Set up the ReduceLROnPlateau scheduler\n",
        "scheduler = ReduceLROnPlateau(optimizer,\n",
        "                              # mode='min',\n",
        "                              mode='max',\n",
        "                              factor=scheduler_factor,\n",
        "                              patience=scheduler_patience,\n",
        "                              threshold = scheduler_threshold,\n",
        "                              threshold_mode='abs',\n",
        "                              min_lr=1e-6,\n",
        "                              verbose= True)\n",
        "\n",
        "# Initialize variables to track the best validation loss and the best model state\n",
        "best_val_loss = float('inf')\n",
        "best_val_acc = 0\n",
        "best_model_state = None\n",
        "\n",
        "# loss functions\n",
        "criterion_class = nn.CrossEntropyLoss().to(device=device)\n",
        "\n",
        "# loss accumulation\n",
        "train_losses = [] # to capture train losses over training epochs\n",
        "val_losses = [] # to capture validation loss over epochs\n",
        "lr_schedule = [] # to capture learning rate over epochs\n",
        "epoch_converge = 0 #TODO: run config based\n",
        "list_val_correct = [] # to capture validation accuracy over epochs\n",
        "list_best_val_correct = [] # to capture best validtion accuracy over epochs"
      ],
      "metadata": {
        "colab": {
          "base_uri": "https://localhost:8080/"
        },
        "id": "5KshQ9b9A9aI",
        "outputId": "8a4c4b8b-496a-4d1d-aafa-f8d6052995f0"
      },
      "execution_count": null,
      "outputs": [
        {
          "output_type": "stream",
          "name": "stdout",
          "text": [
            "EPOCHS 2\n"
          ]
        },
        {
          "output_type": "stream",
          "name": "stderr",
          "text": [
            "/usr/local/lib/python3.10/dist-packages/torch/optim/lr_scheduler.py:28: UserWarning: The verbose parameter is deprecated. Please use get_last_lr() to access the learning rate.\n",
            "  warnings.warn(\"The verbose parameter is deprecated. Please use get_last_lr() \"\n"
          ]
        }
      ]
    },
    {
      "cell_type": "code",
      "source": [
        "# Training block\n",
        "print('------ Training started for Non DANN Model ---- ')\n",
        "print(f'starting LR : {lr}')\n",
        "for epoch in range(EPOCHS):\n",
        "    print(\"EPOCH:\", epoch+1, \" of \", EPOCHS)\n",
        "\n",
        "    #Train Model\n",
        "    avg_epoch_loss, curr_lr = train_model_local_lr (model = model,\n",
        "                                          device = device,\n",
        "                                          data_loader = train_loader,\n",
        "                                          optimizer = optimizer,\n",
        "                                          epoch = epoch,\n",
        "                                          class_loss_function = criterion_class)\n",
        "    train_losses.append(avg_epoch_loss)\n",
        "    lr_schedule.append(curr_lr)\n",
        "\n",
        "    #Validate Model\n",
        "    correct, avg_epoch_val_loss = test_model_local(model= model,\n",
        "                                    device= device,\n",
        "                                    data_loader = test_loader,\n",
        "                                    class_loss_function = criterion_class\n",
        "                                    )\n",
        "\n",
        "    val_losses.append(avg_epoch_val_loss)\n",
        "    list_val_correct.append(correct)\n",
        "\n",
        "    #Adding Scheduler #TODO: ADD SCHEDULER\n",
        "    scheduler.step(correct) #applying scheduler on accuracy proxy, i.e. correct\n",
        "\n",
        "    # # Check if the current model has the best validation loss\n",
        "    # print(f'Last Epoch Val Loss = {avg_epoch_val_loss} | Best Val Loss = {best_val_loss}' )\n",
        "    # if avg_epoch_val_loss < best_val_loss:\n",
        "    #   best_val_loss = avg_epoch_val_loss\n",
        "    #   # save the current model state as the best model state\n",
        "    #   best_model_state = deepcopy(non_dann_model.state_dict())\n",
        "    #   print(f'Updated the best model with validation loss: {best_val_loss}\\n')\n",
        "\n",
        "    # check if the current model has the best accuracy\n",
        "    print (f'last correct ={correct} | best correct = {best_val_acc}')\n",
        "    if correct > best_val_acc:\n",
        "      best_val_acc = correct\n",
        "      # save the current model state as the best model state\n",
        "      best_model_state = deepcopy(model.state_dict())\n",
        "      print(f'Updated the best model with correct: {correct}\\n')\n",
        "\n",
        "    list_best_val_correct.append(best_val_acc)\n",
        "\n",
        "    # early stopping\n",
        "    # if early_stopping_difference(val_losses,\n",
        "    #                              patience = early_stop_patience,\n",
        "    #                              difference= early_stop_difference):\n",
        "    #   print (f'-------Early Stopping at epoch {epoch+1}---')\n",
        "    #   epoch_converge = epoch+1\n",
        "    #   break\n",
        "\n",
        "    # if early_stopping_difference(list_val_correct,\n",
        "    #                              patience = early_stop_patience,\n",
        "    #                              difference= early_stop_difference):\n",
        "    #   print (f'-------Early Stopping at epoch {epoch+1}---')\n",
        "    #   epoch_converge = epoch+1\n",
        "    #   break\n",
        "\n",
        "    # if early_stopping_difference(list_best_val_correct,\n",
        "    #                              patience = 2*early_stop_patience,\n",
        "    #                              difference= 0):\n",
        "    #   print (f'-------Early Stopping at epoch {epoch+1}---')\n",
        "    #   epoch_converge = epoch+1\n",
        "    #   break\n",
        "\n",
        "\n",
        "\n",
        "    # ## showing misclassification images after every 10 epochs\n",
        "    # if epoch % 10 == 0:\n",
        "    #   list_misclassified_images = get_misclassified_images_list(model= model,\n",
        "    #                                                             device = device,\n",
        "    #                                                             test_loader = data_loader['source']['val'],\n",
        "    #                                                             num_image = 10)\n",
        "    #   plot_misclassified_images(list_misclassified_images)\n",
        "\n",
        "## using params of best model to update model\n",
        "if best_model_state: # only update if best model has been saved, else the last one would be picked up\n",
        "  # best_non_dann_model.load_state_dict(best_model_state)\n",
        "  best_model.load_state_dict(best_model_state)\n",
        "  print('Best model loaded')\n",
        "\n",
        "\n",
        "\n",
        "\n",
        "dict_non_dann_losses = {'train_losses' : train_losses,\n",
        "                                       'val_losses': val_losses,\n",
        "                                      #  'test_loss_source' : test_loss_source,\n",
        "                                      #  'test_loss_target' : test_loss_target,\n",
        "                                       'epoch_convergence' : epoch_converge,\n",
        "                                       'lr': lr_schedule}\n"
      ],
      "metadata": {
        "colab": {
          "base_uri": "https://localhost:8080/",
          "height": 505
        },
        "id": "rrZVrIpXD7YQ",
        "outputId": "97329886-e2de-4de0-ffdd-4cade0e830b1"
      },
      "execution_count": null,
      "outputs": [
        {
          "output_type": "stream",
          "name": "stdout",
          "text": [
            "------ Training started for Non DANN Model ---- \n",
            "starting LR : 0.4\n",
            "EPOCH: 1  of  2\n",
            "epoch = 1...in training function\n"
          ]
        },
        {
          "output_type": "stream",
          "name": "stderr",
          "text": [
            "Loss=0.03081480972468853 Accuracy=53939/60000(89.90%) Epoch Avg loss=0.00509927 LR=0.400000: 100%|██████████| 938/938 [01:44<00:00,  8.94it/s]\n",
            "100%|██████████| 157/157 [00:06<00:00, 23.46it/s]\n"
          ]
        },
        {
          "output_type": "stream",
          "name": "stdout",
          "text": [
            "last correct =9517 | best correct = 0\n",
            "Updated the best model with correct: 9517\n",
            "\n",
            "EPOCH: 2  of  2\n",
            "epoch = 2...in training function\n"
          ]
        },
        {
          "output_type": "stream",
          "name": "stderr",
          "text": [
            "Loss=0.0657300353050232 Accuracy=57890/60000(96.48%) Epoch Avg loss=0.00190739 LR=0.400000: 100%|██████████| 938/938 [01:48<00:00,  8.64it/s]\n",
            "100%|██████████| 157/157 [00:07<00:00, 20.27it/s]\n"
          ]
        },
        {
          "output_type": "stream",
          "name": "stdout",
          "text": [
            "last correct =9819 | best correct = 9517\n",
            "Updated the best model with correct: 9819\n",
            "\n",
            "Best model loaded\n"
          ]
        },
        {
          "output_type": "error",
          "ename": "NameError",
          "evalue": "name 'test_loss_source' is not defined",
          "traceback": [
            "\u001b[0;31m---------------------------------------------------------------------------\u001b[0m",
            "\u001b[0;31mNameError\u001b[0m                                 Traceback (most recent call last)",
            "\u001b[0;32m<ipython-input-50-8d18db93e8cb>\u001b[0m in \u001b[0;36m<cell line: 89>\u001b[0;34m()\u001b[0m\n\u001b[1;32m     89\u001b[0m dict_non_dann_losses = {'train_losses' : train_losses,\n\u001b[1;32m     90\u001b[0m                                        \u001b[0;34m'val_losses'\u001b[0m\u001b[0;34m:\u001b[0m \u001b[0mval_losses\u001b[0m\u001b[0;34m,\u001b[0m\u001b[0;34m\u001b[0m\u001b[0;34m\u001b[0m\u001b[0m\n\u001b[0;32m---> 91\u001b[0;31m                                        \u001b[0;34m'test_loss_source'\u001b[0m \u001b[0;34m:\u001b[0m \u001b[0mtest_loss_source\u001b[0m\u001b[0;34m,\u001b[0m\u001b[0;34m\u001b[0m\u001b[0;34m\u001b[0m\u001b[0m\n\u001b[0m\u001b[1;32m     92\u001b[0m                                       \u001b[0;31m#  'test_loss_target' : test_loss_target,\u001b[0m\u001b[0;34m\u001b[0m\u001b[0;34m\u001b[0m\u001b[0m\n\u001b[1;32m     93\u001b[0m                                        \u001b[0;34m'epoch_convergence'\u001b[0m \u001b[0;34m:\u001b[0m \u001b[0mepoch_converge\u001b[0m\u001b[0;34m,\u001b[0m\u001b[0;34m\u001b[0m\u001b[0;34m\u001b[0m\u001b[0m\n",
            "\u001b[0;31mNameError\u001b[0m: name 'test_loss_source' is not defined"
          ]
        }
      ]
    },
    {
      "cell_type": "markdown",
      "source": [
        "## Training"
      ],
      "metadata": {
        "id": "dzH_OJiKNOAw"
      }
    },
    {
      "cell_type": "code",
      "source": [
        "# Training Function\n",
        "train_losses = [] # to capture train losses over training epochs\n",
        "train_accuracy = [] # to capture train accuracy over training epochs\n",
        "\n",
        "def train(model,device, train_loader,optimizer,epoch):\n",
        "  model.train() # setting the model in training mode\n",
        "  pbar = tqdm(train_loader) # putting the iterator in pbar\n",
        "  correct = 0 # for accuracy numerator\n",
        "  processed =0 # for accuracy denominator\n",
        "\n",
        "  for batch_idx, (images,labels) in enumerate(pbar):\n",
        "    images, labels = images.to(device),labels.to(device)#sending data to CPU or GPU as per device\n",
        "    optimizer.zero_grad() # setting gradients to zero to avoid accumulation\n",
        "\n",
        "    y_preds,_,_  = model(images) # forward pass, result captured in y_preds (plural as there are many images in a batch)\n",
        "    # the predictions are in one hot vector\n",
        "\n",
        "    loss = F.nll_loss(y_preds,labels) # capturing loss\n",
        "    train_losses.append(loss) # to capture loss over many epochs\n",
        "\n",
        "    loss.backward() # backpropagation\n",
        "    optimizer.step() # updating the params\n",
        "\n",
        "    preds = y_preds.argmax(dim=1, keepdim=True)  # get the index of the max log-probability\n",
        "    correct += preds.eq(labels.view_as(preds)).sum().item()\n",
        "    processed += len(images)\n",
        "\n",
        "    pbar.set_description(desc= f'Loss={loss.item()} Batch_id={batch_idx} Accuracy={100*correct/processed:0.2f}%')\n",
        "    train_accuracy.append(100*correct/processed)\n"
      ],
      "metadata": {
        "id": "fP5jiQtaNPyB"
      },
      "execution_count": null,
      "outputs": []
    },
    {
      "cell_type": "markdown",
      "source": [
        "## Test"
      ],
      "metadata": {
        "id": "eGDQpa3ANTZa"
      }
    },
    {
      "cell_type": "code",
      "source": [
        "# Test Function\n",
        "test_losses = [] # to capture test losses\n",
        "test_accuracy = [] # to capture test accuracy\n",
        "\n",
        "def test(model,device, test_loader):\n",
        "  model.eval() # setting the model in evaluation mode\n",
        "  test_loss = 0\n",
        "  avg_epoch_test_loss =[]\n",
        "  correct = 0 # for accuracy numerator\n",
        "\n",
        "  with torch.no_grad():\n",
        "    for (images,labels) in test_loader:\n",
        "      images, labels = images.to(device),labels.to(device)#sending data to CPU or GPU as per device\n",
        "      outputs,_,_ = model(images) # forward pass, result captured in outputs (plural as there are many images in a batch)\n",
        "      # the outputs are in batch size x one hot vector\n",
        "\n",
        "      test_loss = F.nll_loss(outputs,labels, reduction='sum').item()  # sum up batch loss\n",
        "      preds = outputs.argmax(dim=1, keepdim=True)  # get the index of the max log-probability\n",
        "      correct += preds.eq(labels.view_as(preds)).sum().item()\n",
        "\n",
        "    test_loss /= len(test_loader.dataset) # average test loss\n",
        "    test_losses.append(test_loss) # to capture loss over many batches\n",
        "    avg_epoch_test_loss.append(test_loss)\n",
        "\n",
        "    print('\\nTest set: Average loss: {:.6f}, Accuracy: {}/{} ({:.2f}%)\\n'.format(\n",
        "    test_loss, correct, len(test_loader.dataset),\n",
        "    100. * correct / len(test_loader.dataset)))\n",
        "\n",
        "    test_accuracy.append(100*correct/len(test_loader.dataset))\n",
        "  return float(\"{:.4f}\".format(np.average(avg_epoch_test_loss)))\n"
      ],
      "metadata": {
        "id": "WXtm0lh_NR2H"
      },
      "execution_count": null,
      "outputs": []
    },
    {
      "cell_type": "markdown",
      "source": [
        "## Execution"
      ],
      "metadata": {
        "id": "YRnRZ72PNbf3"
      }
    },
    {
      "cell_type": "code",
      "source": [
        "\n",
        "## Weight initialization\n",
        "\n",
        "def weights_init(m):\n",
        "    if isinstance(m, nn.Conv1d):\n",
        "      nn.init.xavier_normal_(m.weight)\n"
      ],
      "metadata": {
        "id": "v3XZP8zQ3QlO"
      },
      "execution_count": null,
      "outputs": []
    },
    {
      "cell_type": "code",
      "source": [
        "model =  Network().to(device)\n",
        "model.apply(weights_init)\n",
        "optimizer = optim.SGD(model.parameters(), lr=0.4, momentum=0.9)\n",
        "from torch.optim.lr_scheduler import ReduceLROnPlateau\n",
        "scheduler = ReduceLROnPlateau(optimizer, factor = 0.1, patience = 1, threshold =  0.0002, verbose = True)\n",
        "\n",
        "\n",
        "\n",
        "for epoch in range(EPOCHS):\n",
        "    print(\"EPOCH:\", epoch+1 , \"Current LR : \", optimizer.param_groups[0]['lr'])\n",
        "    train(model, device, train_loader, optimizer, epoch)\n",
        "    curr_lr = optimizer.param_groups[0]['lr']\n",
        "    # print(f'current learning rate :', curr_lr)\n",
        "    val_loss = test(model, device, test_loader)\n",
        "    # print(f'current learning rate :{curr_lr} and val_loss is {val_loss}')\n",
        "    scheduler.step(val_loss)\n",
        "\n",
        "\n"
      ],
      "metadata": {
        "id": "mk4SGOYlNYgi",
        "colab": {
          "base_uri": "https://localhost:8080/"
        },
        "outputId": "fb6b6a70-c6d8-47c0-c1a7-53a2741788d9"
      },
      "execution_count": null,
      "outputs": [
        {
          "output_type": "stream",
          "name": "stderr",
          "text": [
            "/usr/local/lib/python3.10/dist-packages/torch/optim/lr_scheduler.py:28: UserWarning: The verbose parameter is deprecated. Please use get_last_lr() to access the learning rate.\n",
            "  warnings.warn(\"The verbose parameter is deprecated. Please use get_last_lr() \"\n"
          ]
        },
        {
          "output_type": "stream",
          "name": "stdout",
          "text": [
            "EPOCH: 1 Current LR :  0.4\n"
          ]
        },
        {
          "output_type": "stream",
          "name": "stderr",
          "text": [
            "Loss=nan Batch_id=468 Accuracy=10.70%: 100%|██████████| 469/469 [00:19<00:00, 24.12it/s]\n"
          ]
        },
        {
          "output_type": "stream",
          "name": "stdout",
          "text": [
            "\n",
            "Test set: Average loss: nan, Accuracy: 980/10000 (9.80%)\n",
            "\n",
            "EPOCH: 2 Current LR :  0.4\n"
          ]
        },
        {
          "output_type": "stream",
          "name": "stderr",
          "text": [
            "Loss=nan Batch_id=468 Accuracy=9.87%: 100%|██████████| 469/469 [00:20<00:00, 23.05it/s]\n"
          ]
        },
        {
          "output_type": "stream",
          "name": "stdout",
          "text": [
            "\n",
            "Test set: Average loss: nan, Accuracy: 980/10000 (9.80%)\n",
            "\n"
          ]
        }
      ]
    },
    {
      "cell_type": "code",
      "source": [
        "fig, axs = plt.subplots(2,2,figsize=(15,10))\n",
        "# axs[0, 0].plot(train_losses)\n",
        "axs[0, 0].plot([t.cpu().item() for t in train_losses])\n",
        "axs[0, 0].set_title(\"Training Loss\")\n",
        "axs[1, 0].plot(train_accuracy)\n",
        "axs[1, 0].set_title(\"Training Accuracy\")\n",
        "axs[0, 1].plot(test_losses)\n",
        "axs[0, 1].set_title(\"Test Loss\")\n",
        "axs[1, 1].plot(test_accuracy)\n",
        "axs[1, 1].set_title(\"Test Accuracy\")"
      ],
      "metadata": {
        "id": "O7Q7ISLiNfXz",
        "colab": {
          "base_uri": "https://localhost:8080/",
          "height": 814
        },
        "outputId": "07cd234c-b1aa-4921-a543-497d544424f4"
      },
      "execution_count": null,
      "outputs": [
        {
          "output_type": "execute_result",
          "data": {
            "text/plain": [
              "Text(0.5, 1.0, 'Test Accuracy')"
            ]
          },
          "metadata": {},
          "execution_count": 24
        },
        {
          "output_type": "display_data",
          "data": {
            "text/plain": [
              "<Figure size 1500x1000 with 4 Axes>"
            ],
            "image/png": "[encoded data removed]"
          },
          "metadata": {}
        }
      ]
    },
    {
      "cell_type": "code",
      "source": [],
      "metadata": {
        "id": "X96_E1N8Pg85"
      },
      "execution_count": null,
      "outputs": []
    }
  ]
}