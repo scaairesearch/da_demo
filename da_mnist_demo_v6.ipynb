{
  "nbformat": 4,
  "nbformat_minor": 0,
  "metadata": {
    "colab": {
      "provenance": [],
      "toc_visible": true,
      "include_colab_link": true
    },
    "kernelspec": {
      "name": "python3",
      "display_name": "Python 3"
    },
    "language_info": {
      "name": "python"
    }
  },
  "cells": [
    {
      "cell_type": "markdown",
      "metadata": {
        "id": "view-in-github",
        "colab_type": "text"
      },
      "source": [
        "<a href=\"https://colab.research.google.com/github/scaairesearch/da_demo/blob/main/da_mnist_demo_v6.ipynb\" target=\"_parent\"><img src=\"https://colab.research.google.com/assets/colab-badge.svg\" alt=\"Open In Colab\"/></a>"
      ]
    },
    {
      "cell_type": "markdown",
      "source": [
        "# Domain Adaptation Demonstration\n",
        "- get data (v1)\n",
        "- create model architecture (v1)\n",
        "- train baseline and non-da (v2)\n",
        "- save baseline model (v3)\n",
        "- train and test DANN(v4)\n",
        "- save DANN (v4)\n",
        "- train and test DANN EWC\n",
        "- save DANN EWC\n",
        "- infer model from the saved model (v3 - baseline)\n",
        "- grad cam on correctly classified and misclassified images\n",
        "- get mis classified images (updated -v5, v4)\n",
        "- plot misclassified images (updated -v5, v4)\n",
        "- storing misclassified images (v6)\n",
        "- gradio app"
      ],
      "metadata": {
        "id": "dhu3y_IwfiBS"
      }
    },
    {
      "cell_type": "markdown",
      "source": [
        "# Objective / Target\n",
        "**Objective / Target**\n",
        "* Increase accuracy by increasing capacity\n",
        "* Play with LR\n",
        "\n",
        "**Results**\n",
        "\n",
        "* Parameters: 7,900\n",
        "* Best Train Accuracy: 98.91\n",
        "* Best Test Accuracy: 99.31\n",
        "\n",
        "**Analysis**\n",
        "\n",
        "* Not Able to hit the accuracy mark\n",
        "* Overfitting (train - test accuracy) < 0 is largely containted, model underfits (Target not achieved)\n",
        "* LR has played its role to move up the accuracy\n",
        "* Number of params < 8K\n",
        "* Adding params near output helped much, so did removing input\n",
        "\n",
        "**Next Steps**\n",
        "\n",
        "* Play with large LR\n"
      ],
      "metadata": {
        "id": "y1FTBU_m-bRm"
      }
    },
    {
      "cell_type": "markdown",
      "source": [
        "# Importing Libraries"
      ],
      "metadata": {
        "id": "xcGwRKr5_lZw"
      }
    },
    {
      "cell_type": "code",
      "execution_count": null,
      "metadata": {
        "id": "D6yRS8Pc-GUk",
        "colab": {
          "base_uri": "https://localhost:8080/"
        },
        "outputId": "38f61ef2-7c0c-4bd0-b320-29839e202541"
      },
      "outputs": [
        {
          "output_type": "stream",
          "name": "stdout",
          "text": [
            "Requirement already satisfied: torchsummary in /usr/local/lib/python3.10/dist-packages (1.5.1)\n"
          ]
        }
      ],
      "source": [
        "import torch\n",
        "from torchvision import datasets,transforms\n",
        "%matplotlib inline\n",
        "import numpy as np\n",
        "import matplotlib.pyplot as plt # for visualizing images\n",
        "import random # for random image index\n",
        "import torch.nn as nn # for network\n",
        "import torch.nn.functional as F # for forward method\n",
        "import torch.optim as optim # for optimizer\n",
        "!pip install torchsummary\n",
        "from torchsummary import summary # for model summary and params\n",
        "from tqdm import tqdm # for beautiful model training updates\n",
        "# from torch.utils.data import dataset # for MNISTM dataset\n",
        "from PIL import Image\n",
        "import os\n",
        "from torch.optim.lr_scheduler import ReduceLROnPlateau\n",
        "from copy import deepcopy\n",
        "import time\n"
      ]
    },
    {
      "cell_type": "code",
      "source": [
        "str(time.strftime(\"%d_%m\"))"
      ],
      "metadata": {
        "colab": {
          "base_uri": "https://localhost:8080/",
          "height": 35
        },
        "id": "wPRONx7kC90L",
        "outputId": "689cb179-6dc3-41f7-cc5d-97bc2e109d7b"
      },
      "execution_count": null,
      "outputs": [
        {
          "output_type": "execute_result",
          "data": {
            "text/plain": [
              "'04_07'"
            ],
            "application/vnd.google.colaboratory.intrinsic+json": {
              "type": "string"
            }
          },
          "metadata": {},
          "execution_count": 2
        }
      ]
    },
    {
      "cell_type": "markdown",
      "source": [
        "## Seed and Cuda"
      ],
      "metadata": {
        "id": "S0aDMenbFZMj"
      }
    },
    {
      "cell_type": "code",
      "source": [
        "# check for cuda\n",
        "cuda = torch.cuda.is_available()\n",
        "print (f' Cuda Status : {cuda}')\n",
        "\n",
        "# setting seed\n",
        "SEED = 42 # arbit seed, why 42 - because in hitch hikers guide to galaxy it is answer to everything\n",
        "# torch.cuda.seed(SEED)\n",
        "torch.cuda.manual_seed_all(SEED) if cuda else torch.manual_seed(SEED)\n",
        "\n",
        "device = torch.device(\"cuda\" if cuda else \"cpu\")\n",
        "print(device)"
      ],
      "metadata": {
        "id": "Y9TiFsydFcRz",
        "colab": {
          "base_uri": "https://localhost:8080/"
        },
        "outputId": "b2a43c61-a28e-41db-9279-f757118ddc5d"
      },
      "execution_count": null,
      "outputs": [
        {
          "output_type": "stream",
          "name": "stdout",
          "text": [
            " Cuda Status : False\n",
            "cpu\n"
          ]
        }
      ]
    },
    {
      "cell_type": "markdown",
      "source": [
        "## Constants"
      ],
      "metadata": {
        "id": "_ua7eqK-zJF4"
      }
    },
    {
      "cell_type": "code",
      "source": [
        "img_size = 28 # for mnist\n",
        "cpu_batch_size = 64\n",
        "cuda_batch_size = 128\n",
        "EPOCHS = 1 # 15 if cuda else 2\n",
        "\n",
        "target_drive_path = '/content/gdrive/MyDrive/mnist_m/dataset/mnist_m.tar.gz'\n",
        "model_drive_path = '/content/gdrive/MyDrive/da_demo/cv/models'\n",
        "\n",
        "data_base_path = '/content/data'\n",
        "source_dataset_name = 'MNIST'\n",
        "target_dataset_name = 'mnist_m'\n",
        "source_image_root = os.path.join(data_base_path, source_dataset_name)\n",
        "target_image_root = os.path.join(data_base_path, target_dataset_name)\n",
        "model_root = 'models'\n",
        "# cuda = True\n",
        "# cudnn.benchmark = True\n",
        "lr = 1e-3\n",
        "# batch_size = 128\n",
        "# image_size = 28\n",
        "# n_epoch = 100"
      ],
      "metadata": {
        "id": "G4Q0mS4rzJkJ"
      },
      "execution_count": null,
      "outputs": []
    },
    {
      "cell_type": "markdown",
      "source": [
        "# Source Data"
      ],
      "metadata": {
        "id": "kgga8EeQFB_r"
      }
    },
    {
      "cell_type": "markdown",
      "source": [
        "## Data Transforms"
      ],
      "metadata": {
        "id": "20lhLNsq1Agx"
      }
    },
    {
      "cell_type": "code",
      "source": [
        "# Train Phase transformations\n",
        "train_transforms = transforms.Compose([\n",
        "                                       transforms.Resize(img_size),\n",
        "                                      #  transforms.RandomRotation((-7.0, 7.0), fill=(1,)),\n",
        "                                       transforms.ToTensor(), # converts to tesnor\n",
        "                                       transforms.Normalize((0.1307,), (0.3081,)) # Note the difference between (0.1307) and (0.1307,)\n",
        "                                       ])\n",
        "\n",
        "# Test Phase transformations\n",
        "test_transforms = transforms.Compose([\n",
        "                                       transforms.Resize(img_size),\n",
        "                                       transforms.ToTensor(),# converts to tesnor\n",
        "                                       transforms.Normalize((0.1307,), (0.3081,))\n",
        "                                       ])\n"
      ],
      "metadata": {
        "id": "nrRWWXKsFBn7"
      },
      "execution_count": null,
      "outputs": []
    },
    {
      "cell_type": "markdown",
      "source": [
        "## Dataset and Creating Train / Test Split"
      ],
      "metadata": {
        "id": "YvKkBT1KFIc9"
      }
    },
    {
      "cell_type": "code",
      "source": [
        "train = datasets.MNIST('./data', # directory where data needs to be stored\n",
        "                       train=True, # get the training portion of the dataset\n",
        "                       download=True, # downloads\n",
        "                       transform=train_transforms)\n",
        "test = datasets.MNIST('./data',\n",
        "                      train=False,\n",
        "                      download=True,\n",
        "                      transform=test_transforms)"
      ],
      "metadata": {
        "id": "TdSmKv7XFNAY",
        "colab": {
          "base_uri": "https://localhost:8080/"
        },
        "outputId": "f36db1ec-67c3-4648-fad9-252417dc5cdc"
      },
      "execution_count": null,
      "outputs": [
        {
          "output_type": "stream",
          "name": "stdout",
          "text": [
            "Downloading http://yann.lecun.com/exdb/mnist/train-images-idx3-ubyte.gz\n",
            "Failed to download (trying next):\n",
            "HTTP Error 403: Forbidden\n",
            "\n",
            "Downloading https://ossci-datasets.s3.amazonaws.com/mnist/train-images-idx3-ubyte.gz\n",
            "Downloading https://ossci-datasets.s3.amazonaws.com/mnist/train-images-idx3-ubyte.gz to ./data/MNIST/raw/train-images-idx3-ubyte.gz\n"
          ]
        },
        {
          "output_type": "stream",
          "name": "stderr",
          "text": [
            "100%|██████████| 9912422/9912422 [00:00<00:00, 15716757.40it/s]\n"
          ]
        },
        {
          "output_type": "stream",
          "name": "stdout",
          "text": [
            "Extracting ./data/MNIST/raw/train-images-idx3-ubyte.gz to ./data/MNIST/raw\n",
            "\n",
            "Downloading http://yann.lecun.com/exdb/mnist/train-labels-idx1-ubyte.gz\n",
            "Failed to download (trying next):\n",
            "HTTP Error 403: Forbidden\n",
            "\n",
            "Downloading https://ossci-datasets.s3.amazonaws.com/mnist/train-labels-idx1-ubyte.gz\n",
            "Downloading https://ossci-datasets.s3.amazonaws.com/mnist/train-labels-idx1-ubyte.gz to ./data/MNIST/raw/train-labels-idx1-ubyte.gz\n"
          ]
        },
        {
          "output_type": "stream",
          "name": "stderr",
          "text": [
            "100%|██████████| 28881/28881 [00:00<00:00, 576438.62it/s]\n"
          ]
        },
        {
          "output_type": "stream",
          "name": "stdout",
          "text": [
            "Extracting ./data/MNIST/raw/train-labels-idx1-ubyte.gz to ./data/MNIST/raw\n",
            "\n",
            "Downloading http://yann.lecun.com/exdb/mnist/t10k-images-idx3-ubyte.gz\n",
            "Failed to download (trying next):\n",
            "HTTP Error 403: Forbidden\n",
            "\n",
            "Downloading https://ossci-datasets.s3.amazonaws.com/mnist/t10k-images-idx3-ubyte.gz\n",
            "Downloading https://ossci-datasets.s3.amazonaws.com/mnist/t10k-images-idx3-ubyte.gz to ./data/MNIST/raw/t10k-images-idx3-ubyte.gz\n"
          ]
        },
        {
          "output_type": "stream",
          "name": "stderr",
          "text": [
            "100%|██████████| 1648877/1648877 [00:00<00:00, 4469391.30it/s]\n"
          ]
        },
        {
          "output_type": "stream",
          "name": "stdout",
          "text": [
            "Extracting ./data/MNIST/raw/t10k-images-idx3-ubyte.gz to ./data/MNIST/raw\n",
            "\n",
            "Downloading http://yann.lecun.com/exdb/mnist/t10k-labels-idx1-ubyte.gz\n",
            "Failed to download (trying next):\n",
            "HTTP Error 403: Forbidden\n",
            "\n",
            "Downloading https://ossci-datasets.s3.amazonaws.com/mnist/t10k-labels-idx1-ubyte.gz\n",
            "Downloading https://ossci-datasets.s3.amazonaws.com/mnist/t10k-labels-idx1-ubyte.gz to ./data/MNIST/raw/t10k-labels-idx1-ubyte.gz\n"
          ]
        },
        {
          "output_type": "stream",
          "name": "stderr",
          "text": [
            "100%|██████████| 4542/4542 [00:00<00:00, 3574208.02it/s]\n"
          ]
        },
        {
          "output_type": "stream",
          "name": "stdout",
          "text": [
            "Extracting ./data/MNIST/raw/t10k-labels-idx1-ubyte.gz to ./data/MNIST/raw\n",
            "\n"
          ]
        }
      ]
    },
    {
      "cell_type": "markdown",
      "source": [
        "## Data Loader"
      ],
      "metadata": {
        "id": "b0mo-0V2GBUH"
      }
    },
    {
      "cell_type": "code",
      "source": [
        "dataloader_args = dict(shuffle=True, batch_size=cuda_batch_size, num_workers=4, pin_memory = True) if cuda else dict(shuffle=True, batch_size=cpu_batch_size)\n",
        "\n",
        "train_loader = torch.utils.data.DataLoader(\n",
        "    dataset=train,# train dataset\n",
        "    **dataloader_args # the dataloader arguments change dependent on cuda is available or not\n",
        "    )\n",
        "\n",
        "test_loader = torch.utils.data.DataLoader(\n",
        "    dataset = test,# test dataset\n",
        "    **dataloader_args # the dataloader arguments change dependent on cuda is available or not\n",
        ")"
      ],
      "metadata": {
        "id": "YFW6q5hWGDrb"
      },
      "execution_count": null,
      "outputs": []
    },
    {
      "cell_type": "markdown",
      "source": [
        "## Checking Dataloader"
      ],
      "metadata": {
        "id": "nR15hQnnGPuD"
      }
    },
    {
      "cell_type": "code",
      "source": [
        "# next(iter(train_loader))"
      ],
      "metadata": {
        "id": "A45nqwKXgXoJ"
      },
      "execution_count": null,
      "outputs": []
    },
    {
      "cell_type": "code",
      "source": [
        "images, labels  = next(iter(train_loader))\n",
        "print(images.shape, labels.shape)\n",
        "# printing random image and seeing\n",
        "random_idx = random.randint(0,len(images))\n",
        "plt.imshow(images[random_idx].numpy().squeeze(), cmap='gray_r')\n",
        "print(f'Label = {labels[random_idx].item()}' )"
      ],
      "metadata": {
        "id": "FjuqXyw9GTDv",
        "colab": {
          "base_uri": "https://localhost:8080/",
          "height": 466
        },
        "outputId": "22cc0969-f3a6-465f-eec0-c67953f6f695"
      },
      "execution_count": null,
      "outputs": [
        {
          "output_type": "stream",
          "name": "stdout",
          "text": [
            "torch.Size([64, 1, 28, 28]) torch.Size([64])\n",
            "Label = 2\n"
          ]
        },
        {
          "output_type": "display_data",
          "data": {
            "text/plain": [
              "<Figure size 640x480 with 1 Axes>"
            ],
            "image/png": "[encoded data removed]"
          },
          "metadata": {}
        }
      ]
    },
    {
      "cell_type": "code",
      "source": [
        "# Looking at more images\n",
        "figure = plt.figure()\n",
        "for index in range(1, len(images) + 1): # assumption: batch size would be atleast 8\n",
        "    plt.subplot(8, int(len(images)/8), index)\n",
        "    plt.axis('off')\n",
        "    plt.imshow(images[index-1].numpy().squeeze(), cmap='gray_r')"
      ],
      "metadata": {
        "id": "yT5FD4C5Gbc1",
        "colab": {
          "base_uri": "https://localhost:8080/",
          "height": 406
        },
        "outputId": "a9dba799-f584-404c-ac3f-83d4d2f70b56"
      },
      "execution_count": null,
      "outputs": [
        {
          "output_type": "display_data",
          "data": {
            "text/plain": [
              "<Figure size 640x480 with 64 Axes>"
            ],
            "image/png": "[encoded data removed]"
          },
          "metadata": {}
        }
      ]
    },
    {
      "cell_type": "markdown",
      "source": [
        "# Target Data"
      ],
      "metadata": {
        "id": "FG0LpIf51K_I"
      }
    },
    {
      "cell_type": "markdown",
      "source": [
        "## Data Transforms"
      ],
      "metadata": {
        "id": "thsqoNGA1NkI"
      }
    },
    {
      "cell_type": "code",
      "source": [
        "# Train Phase transformations\n",
        "target_train_transforms = transforms.Compose([\n",
        "                                       transforms.Resize(img_size),\n",
        "                                      #  transforms.RandomRotation((-7.0, 7.0), fill=(1,)),\n",
        "                                       transforms.ToTensor(), # converts to tesnor\n",
        "                                       transforms.Normalize((0.5,0.5,0.5), (0.5,0.5,0.5))\n",
        "                                       ])\n",
        "\n",
        "# Test Phase transformations\n",
        "target_test_transforms = transforms.Compose([\n",
        "                                       transforms.Resize(img_size),\n",
        "                                       transforms.ToTensor(),# converts to tesnor\n",
        "                                       transforms.Normalize((0.5,0.5,0.5), (0.5,0.5,0.5))\n",
        "                                       ])"
      ],
      "metadata": {
        "id": "UHo_jePN1NMA"
      },
      "execution_count": null,
      "outputs": []
    },
    {
      "cell_type": "markdown",
      "source": [
        "## Dataset Class"
      ],
      "metadata": {
        "id": "o7xb9jN96oFM"
      }
    },
    {
      "cell_type": "code",
      "source": [
        "class MNISTM(torch.utils.data.Dataset):\n",
        "    def __init__(self, data_root, data_list, transform=None):\n",
        "        self.root = data_root\n",
        "        self.transform = transform\n",
        "\n",
        "        f = open(data_list, 'r')\n",
        "        data_list = f.readlines()\n",
        "        f.close()\n",
        "\n",
        "        self.n_data = len(data_list)\n",
        "\n",
        "        self.img_paths = []\n",
        "        self.img_labels = []\n",
        "\n",
        "        for data in data_list:\n",
        "            self.img_paths.append(data[:-3])\n",
        "            self.img_labels.append(data[-2])\n",
        "\n",
        "    def __getitem__(self, item):\n",
        "        img_paths, labels = self.img_paths[item], self.img_labels[item]\n",
        "        imgs = Image.open(os.path.join(self.root, img_paths)).convert('RGB')\n",
        "\n",
        "        if self.transform is not None:\n",
        "            imgs = self.transform(imgs)\n",
        "            labels = int(labels)\n",
        "\n",
        "        return imgs, labels, img_paths\n",
        "\n",
        "    def __len__(self):\n",
        "        return self.n_data"
      ],
      "metadata": {
        "id": "l9LoxsJO6rSS"
      },
      "execution_count": null,
      "outputs": []
    },
    {
      "cell_type": "markdown",
      "source": [
        "## Dataset"
      ],
      "metadata": {
        "id": "JQeKNcY77VOm"
      }
    },
    {
      "cell_type": "code",
      "source": [
        "# checking the mounted drive and mounting if not done\n",
        "if not os.path.exists('/content/gdrive'):\n",
        "  from google.colab import drive\n",
        "  drive.mount('/content/gdrive')\n",
        "else:\n",
        "    print(\"Google Drive is already mounted.\")"
      ],
      "metadata": {
        "colab": {
          "base_uri": "https://localhost:8080/"
        },
        "id": "Lk5Qy5d78COu",
        "outputId": "5727df7c-5085-4d29-d217-ce5fb98d3330"
      },
      "execution_count": null,
      "outputs": [
        {
          "output_type": "stream",
          "name": "stdout",
          "text": [
            "Mounted at /content/gdrive\n"
          ]
        }
      ]
    },
    {
      "cell_type": "markdown",
      "source": [
        "## Extracting Dataset - one time"
      ],
      "metadata": {
        "id": "VUH_DY_Ygn4u"
      }
    },
    {
      "cell_type": "code",
      "source": [
        "import tarfile\n",
        "import os\n",
        "from pathlib import Path\n",
        "\n",
        "if os.path.exists(target_drive_path):\n",
        "    with tarfile.open(target_drive_path, 'r:gz') as tar:\n",
        "      tar.extractall(path=data_base_path)\n",
        "else:\n",
        "    print(f\"The directory {target_drive_path} does not exist.\")"
      ],
      "metadata": {
        "id": "9WPR3j_jgnRD"
      },
      "execution_count": null,
      "outputs": []
    },
    {
      "cell_type": "code",
      "source": [
        "train_list = os.path.join(target_image_root, 'mnist_m_train_labels.txt')\n",
        "train_root = os.path.join(target_image_root, 'mnist_m_train')\n",
        "test_list = os.path.join(target_image_root, 'mnist_m_test_labels.txt')\n",
        "test_root = os.path.join(target_image_root, 'mnist_m_test')\n",
        "\n",
        "dataset_target_train = MNISTM(data_root = train_root,\n",
        "                                 data_list = train_list,\n",
        "                                 transform = target_train_transforms,\n",
        "                                 )\n",
        "dataset_target_test = MNISTM(data_root = test_root,\n",
        "                                      data_list = test_list,\n",
        "                                      transform = target_test_transforms,\n",
        "                                      )"
      ],
      "metadata": {
        "id": "0uXIz8ct7Uhl"
      },
      "execution_count": null,
      "outputs": []
    },
    {
      "cell_type": "markdown",
      "source": [
        "## Dataloader"
      ],
      "metadata": {
        "id": "I26kd4Hm6-K9"
      }
    },
    {
      "cell_type": "code",
      "source": [
        "\n",
        "dataloader_target_train = torch.utils.data.DataLoader(\n",
        "    dataset=dataset_target_train,# train dataset\n",
        "    **dataloader_args # the dataloader arguments change dependent on cuda is available or not\n",
        "    )\n",
        "\n",
        "dataloader_target_test = torch.utils.data.DataLoader(\n",
        "    dataset = dataset_target_test,# test dataset\n",
        "    **dataloader_args # the dataloader arguments change dependent on cuda is available or not\n",
        ")"
      ],
      "metadata": {
        "id": "_QkvhQpL69on"
      },
      "execution_count": null,
      "outputs": []
    },
    {
      "cell_type": "markdown",
      "source": [
        "### Checking Dataloader"
      ],
      "metadata": {
        "id": "pXqnJO9ZplZU"
      }
    },
    {
      "cell_type": "code",
      "source": [
        "images, labels,img_names  = next(iter(dataloader_target_train))\n",
        "print(images.shape, labels.shape)\n",
        "# printing random image and seeing\n",
        "random_idx = random.randint(0,len(images))\n",
        "random_img = images[random_idx].permute(1,2,0).numpy()\n",
        "plt.imshow((random_img*0.5)+0.5)\n",
        "print(f'Label = {labels[random_idx].item()} \\nName = {img_names[random_idx]}' )"
      ],
      "metadata": {
        "colab": {
          "base_uri": "https://localhost:8080/",
          "height": 484
        },
        "id": "1cI2SjDfpqUi",
        "outputId": "de4cfaec-372c-4488-8054-2923f39ac219"
      },
      "execution_count": null,
      "outputs": [
        {
          "output_type": "stream",
          "name": "stdout",
          "text": [
            "torch.Size([64, 3, 28, 28]) torch.Size([64])\n",
            "Label = 7 \n",
            "Name = 00016272.png\n"
          ]
        },
        {
          "output_type": "display_data",
          "data": {
            "text/plain": [
              "<Figure size 640x480 with 1 Axes>"
            ],
            "image/png": "[encoded data removed]"
          },
          "metadata": {}
        }
      ]
    },
    {
      "cell_type": "markdown",
      "source": [
        "# Model"
      ],
      "metadata": {
        "id": "VNOv81RVGrgO"
      }
    },
    {
      "cell_type": "code",
      "source": [
        "# class Network(nn.Module):\n",
        "#   def __init__(self):\n",
        "#     super(Network,self).__init__() # extending super class method\n",
        "\n",
        "#     drop_out_value = 0.1\n",
        "\n",
        "#     # Input Block\n",
        "#     self.convblock1 = nn.Sequential(\n",
        "#         nn.Conv2d(3,16,3 , bias= False ), # In- 3x28x28, Out- 16x26x26, RF- 3x3, Jump_in -1, Jump_out -1\n",
        "#         nn.ReLU(),\n",
        "#         nn.BatchNorm2d(16),# affine=False),\n",
        "#         nn.Dropout(drop_out_value)\n",
        "#     )\n",
        "\n",
        "#     # Conv Block 2\n",
        "#     self.convblock2 = nn.Sequential(\n",
        "#         nn.Conv2d(16,16,3, bias= False ), # In- 16x26x26, Out- 16x24x24, RF- 5x5, Jump_in -1, Jump_out -1\n",
        "#         nn.ReLU(),\n",
        "#         nn.BatchNorm2d(16),# affine=False),\n",
        "#         nn.Dropout(drop_out_value)\n",
        "#     )\n",
        "\n",
        "#     # Conv Block 3\n",
        "#     self.convblock3 = nn.Sequential(\n",
        "#         nn.Conv2d(16,16,3, bias= False ), # In- 16x24x24, Out- 16x22x22, RF- 7x7, Jump_in -1, Jump_out -1\n",
        "#         nn.ReLU(),\n",
        "#         nn.BatchNorm2d(16),# affine=False),\n",
        "#         nn.Dropout(drop_out_value)\n",
        "#     )\n",
        "\n",
        "#     # Transition Block 1 (this also includes a conv block)\n",
        "#     self.pool1 = nn.MaxPool2d(kernel_size=2, stride=2) # In- 16x22x22, Out- 16x11x11, RF- 8x8, Jump_in -1, Jump_out -2\n",
        "\n",
        "\n",
        "#     # Conv Block 4\n",
        "#     self.convblock4 = nn.Sequential(\n",
        "#         nn.Conv2d(16,16,3, bias= False ), # In- 16x11x11, Out- 16x9x9, RF- 12x12, Jump_in -2, Jump_out -2\n",
        "#         nn.ReLU(),\n",
        "#         nn.BatchNorm2d(16),# affine=False),\n",
        "#         nn.Dropout(drop_out_value)\n",
        "#     )\n",
        "\n",
        "#     # Conv Block 5\n",
        "#     self.convblock5 = nn.Sequential(\n",
        "#         nn.Conv2d(16,32,3, bias= False ), # In- 16x9x9, Out- 32x7x7, RF- 16x16, Jump_in -2, Jump_out -2\n",
        "#         nn.ReLU(),\n",
        "#         nn.BatchNorm2d(32),# affine=False),\n",
        "#         nn.Dropout(drop_out_value)\n",
        "#     )\n",
        "\n",
        "#     # Output Block\n",
        "#     self.convblock6 = nn.Sequential(\n",
        "#         nn.Conv2d(32,64,1, bias= False ), # In- 32x7x7, Out- 64x7x7, RF- 16x16, Jump_in -2, Jump_out -2\n",
        "#     )\n",
        "\n",
        "#     self.gap = nn.AvgPool2d(7) # In- 64x7x7, Out- 64x1x1, RF- 16x16, Jump_in -2, Jump_out -2\n",
        "\n",
        "#     self.feature = nn.Sequential(self.convblock1,\n",
        "#                                  self.convblock2,\n",
        "#                                  self.convblock3,\n",
        "#                                  self.pool1,\n",
        "#                                  self.convblock4,\n",
        "#                                  self.convblock5,\n",
        "#                                  self.convblock6,\n",
        "#                                  self.gap\n",
        "#                                 )\n",
        "\n",
        "\n",
        "#   def forward(self,x):\n",
        "#     x = self.feature(x)\n",
        "\n",
        "#     # x = self.convblock1(x)\n",
        "#     # x = self.convblock2(x)\n",
        "#     # x = self.convblock3(x)\n",
        "\n",
        "#     # x = self.pool1(x)\n",
        "#     # # x = self.convblock4(x)\n",
        "#     # x = self.convblock5(x)\n",
        "#     # x = self.convblock6(x)\n",
        "\n",
        "#     # x = self.convblock7(x)\n",
        "\n",
        "#     # x = self.gap(x)\n",
        "\n",
        "#     # Flattening\n",
        "#     x = x.view(-1,64)\n",
        "#     return F.log_softmax(x,dim=-1)\n",
        "\n",
        "# model = Network()\n",
        "# print(model)"
      ],
      "metadata": {
        "id": "9_JHChueh7I5"
      },
      "execution_count": null,
      "outputs": []
    },
    {
      "cell_type": "code",
      "source": [
        "import torch\n",
        "import torch.nn as nn\n",
        "import torch.nn.functional as F\n",
        "from torch.autograd import Function\n",
        "\n",
        "\n",
        "class GradientReversalFn(Function):\n",
        "    @staticmethod\n",
        "    def forward(ctx, x, alpha):\n",
        "        ctx.alpha = alpha\n",
        "\n",
        "        return x.view_as(x)\n",
        "\n",
        "    @staticmethod\n",
        "    def backward(ctx, grad_output):\n",
        "        output = grad_output.neg() * ctx.alpha\n",
        "\n",
        "        return output, None\n",
        "\n",
        "class Network(nn.Module):\n",
        "    def __init__(self, num_classes = 10):\n",
        "        super(Network, self).__init__()  # Initialize the parent class\n",
        "\n",
        "        drop_out_value = 0.1\n",
        "\n",
        "        #---------------------Feature Extractor Network------------------------#\n",
        "        self.feature_extractor  = nn.Sequential(\n",
        "            # Input Block\n",
        "            nn.Conv2d(3, 16, 3, bias=False),  # In: 3x28x28, Out: 16x26x26, RF: 3x3, Stride: 1\n",
        "            nn.ReLU(),\n",
        "            nn.BatchNorm2d(16),\n",
        "            nn.Dropout(drop_out_value),\n",
        "\n",
        "            # Conv Block 2\n",
        "            nn.Conv2d(16, 16, 3, bias=False),  # In: 16x26x26, Out: 16x24x24, RF: 5x5, Stride: 1\n",
        "            nn.ReLU(),\n",
        "            nn.BatchNorm2d(16),\n",
        "            nn.Dropout(drop_out_value),\n",
        "\n",
        "            # Conv Block 3\n",
        "            nn.Conv2d(16, 16, 3, bias=False),  # In: 16x24x24, Out: 16x22x22, RF: 7x7, Stride: 1\n",
        "            nn.ReLU(),\n",
        "            nn.BatchNorm2d(16),\n",
        "            nn.Dropout(drop_out_value),\n",
        "\n",
        "            # Transition Block 1\n",
        "            nn.MaxPool2d(kernel_size=2, stride=2),  # In: 16x22x22, Out: 16x11x11, RF: 8x8, Stride: 2\n",
        "\n",
        "            # Conv Block 4\n",
        "            nn.Conv2d(16, 16, 3, bias=False),  # In: 16x11x11, Out: 16x9x9, RF: 12x12, Stride: 1\n",
        "            nn.ReLU(),\n",
        "            nn.BatchNorm2d(16),\n",
        "            nn.Dropout(drop_out_value),\n",
        "\n",
        "            # Conv Block 5\n",
        "            nn.Conv2d(16, 32, 3, bias=False),  # In: 16x9x9, Out: 32x7x7, RF: 16x16, Stride: 1\n",
        "            nn.ReLU(),\n",
        "            nn.BatchNorm2d(32),\n",
        "            nn.Dropout(drop_out_value),\n",
        "\n",
        "            # Output Block\n",
        "            nn.Conv2d(32, 64, 1, bias=False),  # In: 32x7x7, Out: 64x7x7, RF: 16x16, Stride: 1\n",
        "\n",
        "            # Global Average Pooling\n",
        "            nn.AvgPool2d(7)  # In: 64x7x7, Out: 64x1x1, RF: 16x16, Stride: 7\n",
        "        )\n",
        "\n",
        "        #---------------------Class Classifier Network------------------------#\n",
        "        self.class_classifier = nn.Sequential(nn.ReLU(),\n",
        "                                        nn.Dropout(p=drop_out_value),\n",
        "                                        nn.Linear(64,50),\n",
        "                                        nn.BatchNorm1d(50), # added batch norm to improve accuracy\n",
        "                                        nn.ReLU(),\n",
        "                                        nn.Dropout(p=drop_out_value),\n",
        "                                        nn.Linear(50,num_classes))\n",
        "\n",
        "        #---------------------Label Classifier Network------------------------#\n",
        "        self.domain_classifier = nn.Sequential(nn.ReLU(),\n",
        "                                        nn.Dropout(p=drop_out_value),\n",
        "                                        nn.Linear(64,50),\n",
        "                                        nn.BatchNorm1d(50), # added batch norm to improve accuracy\n",
        "                                        nn.ReLU(),\n",
        "                                        nn.Dropout(p=drop_out_value),\n",
        "                                        nn.Linear(50,2))\n",
        "    def forward(self, input_data, alpha = 1.0):\n",
        "      if input_data.data.shape[1] == 1:\n",
        "        input_data = input_data.expand(input_data.data.shape[0], 3, img_size, img_size)\n",
        "\n",
        "      input_data = self.feature_extractor(input_data)\n",
        "\n",
        "      features = input_data.view(input_data.size(0), -1)  # Flatten the output for fully connected layer\n",
        "\n",
        "      reverse_features = GradientReversalFn.apply(features, alpha)\n",
        "      class_output = self.class_classifier(features)\n",
        "      domain_output = self.domain_classifier(reverse_features)\n",
        "\n",
        "      return class_output, domain_output, features\n",
        "\n",
        "# Create an instance of the network and print it\n",
        "model = Network()\n",
        "print(model)\n"
      ],
      "metadata": {
        "colab": {
          "base_uri": "https://localhost:8080/"
        },
        "id": "RODNMMrSvDpA",
        "outputId": "464d1f43-69bd-47d8-fbf4-95a36409b5d4"
      },
      "execution_count": null,
      "outputs": [
        {
          "output_type": "stream",
          "name": "stdout",
          "text": [
            "Network(\n",
            "  (feature_extractor): Sequential(\n",
            "    (0): Conv2d(3, 16, kernel_size=(3, 3), stride=(1, 1), bias=False)\n",
            "    (1): ReLU()\n",
            "    (2): BatchNorm2d(16, eps=1e-05, momentum=0.1, affine=True, track_running_stats=True)\n",
            "    (3): Dropout(p=0.1, inplace=False)\n",
            "    (4): Conv2d(16, 16, kernel_size=(3, 3), stride=(1, 1), bias=False)\n",
            "    (5): ReLU()\n",
            "    (6): BatchNorm2d(16, eps=1e-05, momentum=0.1, affine=True, track_running_stats=True)\n",
            "    (7): Dropout(p=0.1, inplace=False)\n",
            "    (8): Conv2d(16, 16, kernel_size=(3, 3), stride=(1, 1), bias=False)\n",
            "    (9): ReLU()\n",
            "    (10): BatchNorm2d(16, eps=1e-05, momentum=0.1, affine=True, track_running_stats=True)\n",
            "    (11): Dropout(p=0.1, inplace=False)\n",
            "    (12): MaxPool2d(kernel_size=2, stride=2, padding=0, dilation=1, ceil_mode=False)\n",
            "    (13): Conv2d(16, 16, kernel_size=(3, 3), stride=(1, 1), bias=False)\n",
            "    (14): ReLU()\n",
            "    (15): BatchNorm2d(16, eps=1e-05, momentum=0.1, affine=True, track_running_stats=True)\n",
            "    (16): Dropout(p=0.1, inplace=False)\n",
            "    (17): Conv2d(16, 32, kernel_size=(3, 3), stride=(1, 1), bias=False)\n",
            "    (18): ReLU()\n",
            "    (19): BatchNorm2d(32, eps=1e-05, momentum=0.1, affine=True, track_running_stats=True)\n",
            "    (20): Dropout(p=0.1, inplace=False)\n",
            "    (21): Conv2d(32, 64, kernel_size=(1, 1), stride=(1, 1), bias=False)\n",
            "    (22): AvgPool2d(kernel_size=7, stride=7, padding=0)\n",
            "  )\n",
            "  (class_classifier): Sequential(\n",
            "    (0): ReLU()\n",
            "    (1): Dropout(p=0.1, inplace=False)\n",
            "    (2): Linear(in_features=64, out_features=50, bias=True)\n",
            "    (3): BatchNorm1d(50, eps=1e-05, momentum=0.1, affine=True, track_running_stats=True)\n",
            "    (4): ReLU()\n",
            "    (5): Dropout(p=0.1, inplace=False)\n",
            "    (6): Linear(in_features=50, out_features=10, bias=True)\n",
            "  )\n",
            "  (domain_classifier): Sequential(\n",
            "    (0): ReLU()\n",
            "    (1): Dropout(p=0.1, inplace=False)\n",
            "    (2): Linear(in_features=64, out_features=50, bias=True)\n",
            "    (3): BatchNorm1d(50, eps=1e-05, momentum=0.1, affine=True, track_running_stats=True)\n",
            "    (4): ReLU()\n",
            "    (5): Dropout(p=0.1, inplace=False)\n",
            "    (6): Linear(in_features=50, out_features=2, bias=True)\n",
            "  )\n",
            ")\n"
          ]
        }
      ]
    },
    {
      "cell_type": "markdown",
      "source": [
        "## Model Params\n",
        "\n",
        "Model moved to device"
      ],
      "metadata": {
        "id": "1QSCWlFoM5nf"
      }
    },
    {
      "cell_type": "code",
      "source": [
        "device = torch.device(\"cuda\" if cuda else \"cpu\")\n",
        "print(device)\n",
        "model = Network().to(device)\n",
        "# print(model)\n",
        "summary(model, input_size=(3, 28, 28))"
      ],
      "metadata": {
        "id": "37ziIa80M8-3",
        "colab": {
          "base_uri": "https://localhost:8080/"
        },
        "outputId": "f956d265-06d4-4f66-e4e3-50e75e5d7b86"
      },
      "execution_count": null,
      "outputs": [
        {
          "output_type": "stream",
          "name": "stdout",
          "text": [
            "cpu\n",
            "----------------------------------------------------------------\n",
            "        Layer (type)               Output Shape         Param #\n",
            "================================================================\n",
            "            Conv2d-1           [-1, 16, 26, 26]             432\n",
            "              ReLU-2           [-1, 16, 26, 26]               0\n",
            "       BatchNorm2d-3           [-1, 16, 26, 26]              32\n",
            "           Dropout-4           [-1, 16, 26, 26]               0\n",
            "            Conv2d-5           [-1, 16, 24, 24]           2,304\n",
            "              ReLU-6           [-1, 16, 24, 24]               0\n",
            "       BatchNorm2d-7           [-1, 16, 24, 24]              32\n",
            "           Dropout-8           [-1, 16, 24, 24]               0\n",
            "            Conv2d-9           [-1, 16, 22, 22]           2,304\n",
            "             ReLU-10           [-1, 16, 22, 22]               0\n",
            "      BatchNorm2d-11           [-1, 16, 22, 22]              32\n",
            "          Dropout-12           [-1, 16, 22, 22]               0\n",
            "        MaxPool2d-13           [-1, 16, 11, 11]               0\n",
            "           Conv2d-14             [-1, 16, 9, 9]           2,304\n",
            "             ReLU-15             [-1, 16, 9, 9]               0\n",
            "      BatchNorm2d-16             [-1, 16, 9, 9]              32\n",
            "          Dropout-17             [-1, 16, 9, 9]               0\n",
            "           Conv2d-18             [-1, 32, 7, 7]           4,608\n",
            "             ReLU-19             [-1, 32, 7, 7]               0\n",
            "      BatchNorm2d-20             [-1, 32, 7, 7]              64\n",
            "          Dropout-21             [-1, 32, 7, 7]               0\n",
            "           Conv2d-22             [-1, 64, 7, 7]           2,048\n",
            "        AvgPool2d-23             [-1, 64, 1, 1]               0\n",
            "             ReLU-24                   [-1, 64]               0\n",
            "          Dropout-25                   [-1, 64]               0\n",
            "           Linear-26                   [-1, 50]           3,250\n",
            "      BatchNorm1d-27                   [-1, 50]             100\n",
            "             ReLU-28                   [-1, 50]               0\n",
            "          Dropout-29                   [-1, 50]               0\n",
            "           Linear-30                   [-1, 10]             510\n",
            "             ReLU-31                   [-1, 64]               0\n",
            "          Dropout-32                   [-1, 64]               0\n",
            "           Linear-33                   [-1, 50]           3,250\n",
            "      BatchNorm1d-34                   [-1, 50]             100\n",
            "             ReLU-35                   [-1, 50]               0\n",
            "          Dropout-36                   [-1, 50]               0\n",
            "           Linear-37                    [-1, 2]             102\n",
            "================================================================\n",
            "Total params: 21,504\n",
            "Trainable params: 21,504\n",
            "Non-trainable params: 0\n",
            "----------------------------------------------------------------\n",
            "Input size (MB): 0.01\n",
            "Forward/backward pass size (MB): 0.98\n",
            "Params size (MB): 0.08\n",
            "Estimated Total Size (MB): 1.07\n",
            "----------------------------------------------------------------\n"
          ]
        }
      ]
    },
    {
      "cell_type": "markdown",
      "source": [
        "# Testing and Performance"
      ],
      "metadata": {
        "id": "BriahAKX-Qsh"
      }
    },
    {
      "cell_type": "markdown",
      "source": [
        "## UTIL Test Function"
      ],
      "metadata": {
        "id": "fhYu3DCQ5fa1"
      }
    },
    {
      "cell_type": "code",
      "source": [
        "def get_correct_preds(prediction, labels):\n",
        "    \"\"\"\n",
        "    Function to return total number of correct predictions\n",
        "    :param prediction: Model predictions on a given sample of data\n",
        "    :param labels: Correct labels of a given sample of data\n",
        "    :return: Number of correct predictions\n",
        "    \"\"\"\n",
        "    # print(\"prediction shape\", prediction.argmax(dim=1).shape)\n",
        "    # print(\"labels shape \", labels.shape)\n",
        "    return prediction.argmax(dim=1).eq(labels).sum().item()\n",
        "    # return prediction.argmax(dim=1).eq(labels.argmax(dim=1)).sum().item()"
      ],
      "metadata": {
        "id": "y4SGsRzJ5uZY"
      },
      "execution_count": null,
      "outputs": []
    },
    {
      "cell_type": "code",
      "source": [
        "def test_model_local(model, device, data_loader, mode= 'test',\n",
        "               class_loss_function = nn.CrossEntropyLoss() ):\n",
        "    model = model.to(device)\n",
        "    model.eval() # evaluation mode\n",
        "\n",
        "    # variables to track loss and accuracy\n",
        "    test_loss = 0.0\n",
        "    correct = 0\n",
        "    pbar = tqdm(data_loader) # putting the dataloader in progress bar\n",
        "\n",
        "\n",
        "    # Disable gradient updation\n",
        "    with torch.no_grad():\n",
        "        # Iterate over each batch and fetch images and labels from the batch\n",
        "        for batch_idx, batch in enumerate(pbar):\n",
        "        # for batch_idx, batch in enumerate(data_loader):\n",
        "            images, labels = batch[0].to(device), batch[1].to(device)\n",
        "\n",
        "            class_output,_,_  = model((images)) # forward pass, output = {class}\n",
        "            class_loss = class_loss_function(class_output,labels) # Calculate Loss\n",
        "\n",
        "            test_loss += class_loss.item() # sum up batch loss\n",
        "\n",
        "            # Sum up batch correct predictions\n",
        "            correct += get_correct_preds(class_output, labels)\n",
        "\n",
        "    # Calculate test loss for a epoch\n",
        "    test_loss /= len(data_loader.dataset)\n",
        "\n",
        "    pbar.set_description(desc= f'Test / Val: Average loss={test_loss} Accuracy={correct}/{len(data_loader.dataset)}({100*correct/len(data_loader.dataset):0.2f}%)')\n",
        "\n",
        "    return correct, test_loss"
      ],
      "metadata": {
        "id": "j-OfBkkb5vFv"
      },
      "execution_count": null,
      "outputs": []
    },
    {
      "cell_type": "markdown",
      "source": [
        "Checking accuracy before training"
      ],
      "metadata": {
        "id": "iUweZOjc7BVP"
      }
    },
    {
      "cell_type": "code",
      "source": [
        "correct, test_loss = test_model_local(model = model,\n",
        "                                      device = device,\n",
        "                                      data_loader = train_loader)\n",
        "correct, test_loss"
      ],
      "metadata": {
        "colab": {
          "base_uri": "https://localhost:8080/"
        },
        "id": "t3mn2oWx7EHr",
        "outputId": "de3bab8c-8f1b-4348-a63e-74ac565298a1"
      },
      "execution_count": null,
      "outputs": [
        {
          "output_type": "stream",
          "name": "stderr",
          "text": [
            "100%|██████████| 938/938 [00:42<00:00, 22.32it/s]\n"
          ]
        },
        {
          "output_type": "execute_result",
          "data": {
            "text/plain": [
              "(6742, 0.03601807407538096)"
            ]
          },
          "metadata": {},
          "execution_count": 39
        }
      ]
    },
    {
      "cell_type": "markdown",
      "source": [
        "## UTIL Performance Metric"
      ],
      "metadata": {
        "id": "sl3XiBCm-v43"
      }
    },
    {
      "cell_type": "code",
      "source": [
        "#TODO: Move to Utils\n",
        "\n",
        "# labels_map={0:0,\n",
        "#             1:1,\n",
        "#             2:2,\n",
        "#             3:3,\n",
        "#             4:4,\n",
        "#             5:\"Surprise\",\n",
        "#             6:\"Neutral\"}\n",
        "from sklearn.metrics import accuracy_score, precision_score, confusion_matrix, classification_report\n",
        "import pandas as pd\n",
        "\n",
        "\n",
        "def performance_metric(model,\n",
        "                       device,\n",
        "                       data_loader):\n",
        "    model = model.to(device)\n",
        "    model.eval() # evaluation mode\n",
        "\n",
        "    # variables to track loss and accuracy\n",
        "    test_loss = 0.0\n",
        "    correct = 0\n",
        "    true_labels = []\n",
        "    predicted_labels = []\n",
        "\n",
        "    # Disable gradient updation\n",
        "    with torch.no_grad():\n",
        "        # Iterate over each batch and fetch images and labels from the batch\n",
        "        for batch_idx, batch in enumerate(data_loader):\n",
        "          images, labels = batch[0].to(device), batch[1].to(device)\n",
        "\n",
        "          class_output,_,_  = model((images)) # forward pass, output = {class}\n",
        "          true_labels.extend(labels.cpu().numpy())\n",
        "          predicted_labels.extend(class_output.argmax(dim=1).cpu().numpy())\n",
        "\n",
        "    # true_labels = [labels_map[int_label] for int_label in true_labels]\n",
        "    # predicted_labels= [labels_map[int_label] for int_label in predicted_labels]\n",
        "\n",
        "    # Compute accuracy\n",
        "    accuracy = accuracy_score(true_labels, predicted_labels)\n",
        "    print(\"Accuracy:\", accuracy)\n",
        "\n",
        "    # Compute precision\n",
        "    precision = precision_score(true_labels, predicted_labels, average='weighted')\n",
        "    print(\"Precision:\", precision)\n",
        "\n",
        "    # Generate confusion matrix\n",
        "    conf_matrix = confusion_matrix(true_labels, predicted_labels)\n",
        "    # class_names = list(labels_map.values())\n",
        "    class_names = ['0', '1', '2', '3', '4', '5', '6', '7', '8', '9']\n",
        "    cm_df = pd.DataFrame(conf_matrix, index=class_names, columns=class_names)\n",
        "    print(\"Confusion Matrix:\")\n",
        "    # print(conf_matrix)\n",
        "    print(cm_df)\n",
        "\n",
        "    # Generate classification report\n",
        "    class_report = classification_report(true_labels, predicted_labels)\n",
        "    print(\"Classification Report:\")\n",
        "    print(class_report)\n",
        "\n",
        "    return true_labels, predicted_labels, accuracy, precision, cm_df, class_report"
      ],
      "metadata": {
        "id": "ky1FXqG4-zBJ"
      },
      "execution_count": null,
      "outputs": []
    },
    {
      "cell_type": "markdown",
      "source": [
        "## UTIL Misclassified Images"
      ],
      "metadata": {
        "id": "x2biQ81eNk8G"
      }
    },
    {
      "cell_type": "code",
      "source": [
        "# def get_misclassified_images_list_v2(model,\n",
        "#                                   device,\n",
        "#                                   test_loader,\n",
        "#                                   num_image = None,\n",
        "#                                   class_names = ['0', '1', '2', '3', '4', '5', '6', '7', '8', '9']):\n",
        "#   '''\n",
        "#   returns list of misclassified images, it does not display the images\n",
        "#   '''\n",
        "#   model = model.to(device)\n",
        "#   model.eval() # setting the model in evaluation mode\n",
        "#   wrong_images = []\n",
        "#   wrong_label = []\n",
        "#   correct_label = []\n",
        "\n",
        "\n",
        "\n"
      ],
      "metadata": {
        "id": "gqvqfhFvxdDO"
      },
      "execution_count": null,
      "outputs": []
    },
    {
      "cell_type": "code",
      "source": [
        "def get_misclassified_images_list(model,\n",
        "                                  device,\n",
        "                                  test_loader,\n",
        "                                  num_image = 10,\n",
        "                                  class_names = ['0', '1', '2', '3', '4', '5', '6', '7', '8', '9']):\n",
        "  '''\n",
        "  returns list of misclassified images, it does not display the images\n",
        "  '''\n",
        "  model = model.to(device)\n",
        "  model.eval() # setting the model in evaluation mode\n",
        "\n",
        "  if num_image is None or num_image == 'all': num_image = len(test_loader.dataset)\n",
        "\n",
        "  list_misclassified_images, labels_list, preds_list = [],[],[] # initialize\n",
        "  with torch.no_grad():\n",
        "    for epoch in range (1):\n",
        "      for batch in test_loader:\n",
        "        images, labels = batch[0].to(device),batch[1].to(device) #sending data to CPU or GPU as per device\n",
        "        outputs = model(images) # forward pass, result captured in outputs (plural as there are many images in a batch)\n",
        "        preds = outputs[0].argmax(dim=1, keepdim=True)  # get the index of the max log-probability\n",
        "\n",
        "        output_match_list = preds.eq(labels.view_as(preds)).squeeze().tolist()\n",
        "\n",
        "        labels_list = labels.squeeze().tolist()\n",
        "        preds_list = preds.squeeze().tolist()\n",
        "\n",
        "        for index, bool_value in enumerate(output_match_list):\n",
        "          if not bool_value: # looking for misclassified\n",
        "            if len(batch) == 3:\n",
        "              list_misclassified_images.append((batch[0][index],batch[1][index],preds[index],batch[2][index]))\n",
        "            else:\n",
        "              list_misclassified_images.append((batch[0][index],batch[1][index],preds[index]))\n",
        "            if len(list_misclassified_images) == num_image: break\n",
        "        if len(list_misclassified_images) == num_image: break\n",
        "  return list_misclassified_images\n"
      ],
      "metadata": {
        "id": "fcO7fRajNq4Q"
      },
      "execution_count": null,
      "outputs": []
    },
    {
      "cell_type": "markdown",
      "source": [
        "## UTIL Plot Misclassified Images"
      ],
      "metadata": {
        "id": "n8KK4uhWRUk-"
      }
    },
    {
      "cell_type": "code",
      "source": [
        "import numpy as np\n",
        "\n",
        "def unnormalize(image_tensor, mean = [0.5,0.5,0.5], std = [0.5,0.5,0.5]):\n",
        "    \"\"\"\n",
        "    Unnormalize a tensor image.\n",
        "    Args:\n",
        "        image_tensor (Tensor): Tensor image of size (C, H, W) to be unnormalized.\n",
        "        mean (list): Mean values for each channel.\n",
        "        std (list): Standard deviation values for each channel.\n",
        "    Returns:\n",
        "        np.ndarray: Unnormalized image as a numpy array.\n",
        "    \"\"\"\n",
        "    for t, m, s in zip(image_tensor, mean, std):\n",
        "        t.mul_(s).add_(m)\n",
        "    image = image_tensor.permute(1, 2, 0).numpy()  # (C, H, W) to (H, W, C) and convert to numpy array\n",
        "    image = np.clip(image, 0, 1)  # clip to [0, 1]\n",
        "    return image"
      ],
      "metadata": {
        "id": "fQT0gHHt6qeb"
      },
      "execution_count": null,
      "outputs": []
    },
    {
      "cell_type": "code",
      "source": [
        "def plot_misclassified_images (list_misclassified_images,\n",
        "                               num_image = 10,\n",
        "                               mean = [0.5,0.5,0.5],\n",
        "                               std = [0.5,0.5,0.5],\n",
        "                               class_names = ['0', '1', '2', '3', '4', '5', '6', '7', '8', '9']):\n",
        "  '''\n",
        "  Plotting misclassified images function\n",
        "  '''\n",
        "  if len(list_misclassified_images) == 0: return\n",
        "\n",
        "  if num_image > len(list_misclassified_images) or num_image is None:\n",
        "    num_image = len(list_misclassified_images)\n",
        "\n",
        "\n",
        "  bool_image_name_present = False\n",
        "  if len(list_misclassified_images[0]) > 3:\n",
        "    bool_image_name_present = True\n",
        "\n",
        "  figure = plt.figure(figsize = (10,5))\n",
        "  for index in range(1, num_image + 1):\n",
        "      plt.subplot(2, int(num_image/2), index)\n",
        "      plt.axis('off')\n",
        "      image = unnormalize(list_misclassified_images[index-1][0], mean, std)\n",
        "      # image = np.transpose(list_misclassified_images[index-1][0], (1, 2, 0))\n",
        "      # plt.imshow(list_misclassified_images[index-1][0].cpu().numpy().squeeze(), cmap='gray_r')\n",
        "      # plt.imshow(image, cmap='gray_r') # gray scale\n",
        "      plt.imshow(image) # coloured\n",
        "      GT_label = class_names[list_misclassified_images[index-1][1].item()]\n",
        "      Pred_Label = class_names[list_misclassified_images[index-1][2].item()]\n",
        "      if bool_image_name_present:\n",
        "        file_name = list_misclassified_images[index-1][3].split(os.path.sep)[-1]\n",
        "        plt.title(f'{file_name}\\nGT: {GT_label} \\nPred: {Pred_Label}',fontdict={'fontsize': 6})\n",
        "      else:\n",
        "        plt.title(f'GT: {GT_label} \\nPred: {Pred_Label} ')\n",
        "  plt.show()\n"
      ],
      "metadata": {
        "id": "OUdFZ2sXNkgK"
      },
      "execution_count": null,
      "outputs": []
    },
    {
      "cell_type": "code",
      "source": [
        "true_labels, predicted_labels, accuracy, precision, conf_matrix, class_report = performance_metric(model= model,\n",
        "                                                                                                   device= device,\n",
        "                                                                                                   data_loader = train_loader, # source val loader\n",
        "                                                                                                   )"
      ],
      "metadata": {
        "colab": {
          "base_uri": "https://localhost:8080/"
        },
        "id": "aIGxrBIx-lqU",
        "outputId": "f45bc3e6-d551-4a0f-a7f1-7a747dfcc943"
      },
      "execution_count": null,
      "outputs": [
        {
          "output_type": "stream",
          "name": "stdout",
          "text": [
            "Accuracy: 0.11236666666666667\n",
            "Precision: 0.01262626777777778\n",
            "Confusion Matrix:\n",
            "   0     1  2  3  4  5  6  7  8  9\n",
            "0  0  5923  0  0  0  0  0  0  0  0\n",
            "1  0  6742  0  0  0  0  0  0  0  0\n",
            "2  0  5958  0  0  0  0  0  0  0  0\n",
            "3  0  6131  0  0  0  0  0  0  0  0\n",
            "4  0  5842  0  0  0  0  0  0  0  0\n",
            "5  0  5421  0  0  0  0  0  0  0  0\n",
            "6  0  5918  0  0  0  0  0  0  0  0\n",
            "7  0  6265  0  0  0  0  0  0  0  0\n",
            "8  0  5851  0  0  0  0  0  0  0  0\n",
            "9  0  5949  0  0  0  0  0  0  0  0\n",
            "Classification Report:\n",
            "              precision    recall  f1-score   support\n",
            "\n",
            "           0       0.00      0.00      0.00      5923\n",
            "           1       0.11      1.00      0.20      6742\n",
            "           2       0.00      0.00      0.00      5958\n",
            "           3       0.00      0.00      0.00      6131\n",
            "           4       0.00      0.00      0.00      5842\n",
            "           5       0.00      0.00      0.00      5421\n",
            "           6       0.00      0.00      0.00      5918\n",
            "           7       0.00      0.00      0.00      6265\n",
            "           8       0.00      0.00      0.00      5851\n",
            "           9       0.00      0.00      0.00      5949\n",
            "\n",
            "    accuracy                           0.11     60000\n",
            "   macro avg       0.01      0.10      0.02     60000\n",
            "weighted avg       0.01      0.11      0.02     60000\n",
            "\n"
          ]
        },
        {
          "output_type": "stream",
          "name": "stderr",
          "text": [
            "/usr/local/lib/python3.10/dist-packages/sklearn/metrics/_classification.py:1344: UndefinedMetricWarning: Precision is ill-defined and being set to 0.0 in labels with no predicted samples. Use `zero_division` parameter to control this behavior.\n",
            "  _warn_prf(average, modifier, msg_start, len(result))\n",
            "/usr/local/lib/python3.10/dist-packages/sklearn/metrics/_classification.py:1344: UndefinedMetricWarning: Precision and F-score are ill-defined and being set to 0.0 in labels with no predicted samples. Use `zero_division` parameter to control this behavior.\n",
            "  _warn_prf(average, modifier, msg_start, len(result))\n",
            "/usr/local/lib/python3.10/dist-packages/sklearn/metrics/_classification.py:1344: UndefinedMetricWarning: Precision and F-score are ill-defined and being set to 0.0 in labels with no predicted samples. Use `zero_division` parameter to control this behavior.\n",
            "  _warn_prf(average, modifier, msg_start, len(result))\n",
            "/usr/local/lib/python3.10/dist-packages/sklearn/metrics/_classification.py:1344: UndefinedMetricWarning: Precision and F-score are ill-defined and being set to 0.0 in labels with no predicted samples. Use `zero_division` parameter to control this behavior.\n",
            "  _warn_prf(average, modifier, msg_start, len(result))\n"
          ]
        }
      ]
    },
    {
      "cell_type": "markdown",
      "source": [
        "# Non DANN"
      ],
      "metadata": {
        "id": "nMxqBtExHUAZ"
      }
    },
    {
      "cell_type": "markdown",
      "source": [
        "## Training Function with LR Scheduler"
      ],
      "metadata": {
        "id": "Ftl5booTAl8K"
      }
    },
    {
      "cell_type": "code",
      "source": [
        "def train_model_local_lr(model,device, data_loader, optimizer, epoch,\n",
        "                class_loss_function = nn.CrossEntropyLoss() ):\n",
        "    print(f'epoch = {epoch+1}...in training function')\n",
        "    model.to(device)\n",
        "    model.train() # setting model to training\n",
        "\n",
        "\n",
        "    pbar = tqdm(data_loader) # putting the dataloader in progress bar\n",
        "\n",
        "    processed = 0 # to understand accuracy, used in denominator\n",
        "    epoch_loss = 0.0\n",
        "    correct = 0\n",
        "\n",
        "    for batch_idx, batch in enumerate(pbar):\n",
        "        batch[0] = batch[0]\n",
        "        images, labels = batch[0].to(device), batch[1].to(device) # batch of images and labels\n",
        "\n",
        "\n",
        "        optimizer.zero_grad() # setting gradients to zero to avoid accumulation\n",
        "\n",
        "        class_output, _ , _ = model(images) # forward pass, output = {class, domain, feature}\n",
        "\n",
        "        class_loss = class_loss_function(class_output,labels) # Calculate Loss\n",
        "        epoch_loss += class_loss.item()\n",
        "        # Sum up batch correct predictions\n",
        "        correct += get_correct_preds(class_output, labels)\n",
        "\n",
        "        class_loss.backward() #backpropogation, creating gradients\n",
        "\n",
        "        optimizer.step() # updating the params\n",
        "\n",
        "        processed += len(images)\n",
        "        curr_lr = optimizer.param_groups[0]['lr']\n",
        "\n",
        "        pbar.set_description(desc= f'Loss={class_loss.item()} Accuracy={correct}/{processed}({100*correct/processed:0.2f}%) Epoch Avg loss={epoch_loss/processed:0.8f} LR={curr_lr:0.6f}')\n",
        "\n",
        "    return float(\"{:.8f}\".format(epoch_loss/processed)),  curr_lr\n"
      ],
      "metadata": {
        "id": "vsboQAcdAh-I"
      },
      "execution_count": null,
      "outputs": []
    },
    {
      "cell_type": "markdown",
      "source": [
        "### Execution of Training Function"
      ],
      "metadata": {
        "id": "3-ffQ8plBGtV"
      }
    },
    {
      "cell_type": "code",
      "source": [
        "\n",
        "model = Network().to(device=device)\n",
        "best_model = Network().to(device=device)\n",
        "\n",
        "#learning rate\n",
        "lr =  0.4\n",
        "\n",
        "# Epochs\n",
        "print(\"EPOCHS\", EPOCHS)\n",
        "\n",
        "# ReduceLRonPlateau Scheduler Params\n",
        "scheduler_patience = 1\n",
        "scheduler_factor = 0.1\n",
        "scheduler_threshold = 0.0002\n",
        "\n",
        "# # Early stopping params\n",
        "# early_stop_patience = 15 #runconfig.early_stop_patience\n",
        "# early_stop_difference = 15 #runconfig.early_stop_difference\n",
        "\n",
        "# optimizer\n",
        "optimizer = optim.SGD(model.parameters(), lr = lr, momentum = 0.9)\n",
        "\n",
        "# Set up the ReduceLROnPlateau scheduler\n",
        "scheduler = ReduceLROnPlateau(optimizer,\n",
        "                              # mode='min',\n",
        "                              mode='max',\n",
        "                              factor=scheduler_factor,\n",
        "                              patience=scheduler_patience,\n",
        "                              threshold = scheduler_threshold,\n",
        "                              threshold_mode='abs',\n",
        "                              min_lr=1e-6,\n",
        "                              verbose= True)\n",
        "\n",
        "# Initialize variables to track the best validation loss and the best model state\n",
        "best_val_loss = float('inf')\n",
        "best_val_acc = 0\n",
        "best_model_state = None\n",
        "\n",
        "# loss functions\n",
        "criterion_class = nn.CrossEntropyLoss().to(device=device)\n",
        "\n",
        "# loss accumulation\n",
        "train_losses = [] # to capture train losses over training epochs\n",
        "val_losses = [] # to capture validation loss over epochs\n",
        "lr_schedule = [] # to capture learning rate over epochs\n",
        "epoch_converge = 0 #TODO: run config based\n",
        "list_val_correct = [] # to capture validation accuracy over epochs\n",
        "list_best_val_correct = [] # to capture best validtion accuracy over epochs"
      ],
      "metadata": {
        "colab": {
          "base_uri": "https://localhost:8080/"
        },
        "id": "5KshQ9b9A9aI",
        "outputId": "834db0f6-60f3-4aa4-ba8b-75d49071477e"
      },
      "execution_count": null,
      "outputs": [
        {
          "output_type": "stream",
          "name": "stdout",
          "text": [
            "EPOCHS 1\n"
          ]
        },
        {
          "output_type": "stream",
          "name": "stderr",
          "text": [
            "/usr/local/lib/python3.10/dist-packages/torch/optim/lr_scheduler.py:28: UserWarning: The verbose parameter is deprecated. Please use get_last_lr() to access the learning rate.\n",
            "  warnings.warn(\"The verbose parameter is deprecated. Please use get_last_lr() \"\n"
          ]
        }
      ]
    },
    {
      "cell_type": "code",
      "source": [
        "# Training block\n",
        "print('------ Training started for Non DANN Model ---- ')\n",
        "print(f'starting LR : {lr}')\n",
        "for epoch in range(EPOCHS):\n",
        "    print(\"EPOCH:\", epoch+1, \" of \", EPOCHS)\n",
        "\n",
        "    #Train Model\n",
        "    avg_epoch_loss, curr_lr = train_model_local_lr (model = model,\n",
        "                                          device = device,\n",
        "                                          data_loader = train_loader,\n",
        "                                          optimizer = optimizer,\n",
        "                                          epoch = epoch,\n",
        "                                          class_loss_function = criterion_class)\n",
        "    train_losses.append(avg_epoch_loss)\n",
        "    lr_schedule.append(curr_lr)\n",
        "\n",
        "    #Validate Model\n",
        "    correct, avg_epoch_val_loss = test_model_local(model= model,\n",
        "                                    device= device,\n",
        "                                    data_loader = test_loader,\n",
        "                                    class_loss_function = criterion_class\n",
        "                                    )\n",
        "\n",
        "    val_losses.append(avg_epoch_val_loss)\n",
        "    list_val_correct.append(correct)\n",
        "\n",
        "    #Adding Scheduler #TODO: ADD SCHEDULER\n",
        "    scheduler.step(correct) #applying scheduler on accuracy proxy, i.e. correct\n",
        "\n",
        "    # # Check if the current model has the best validation loss\n",
        "    # print(f'Last Epoch Val Loss = {avg_epoch_val_loss} | Best Val Loss = {best_val_loss}' )\n",
        "    # if avg_epoch_val_loss < best_val_loss:\n",
        "    #   best_val_loss = avg_epoch_val_loss\n",
        "    #   # save the current model state as the best model state\n",
        "    #   best_model_state = deepcopy(non_dann_model.state_dict())\n",
        "    #   print(f'Updated the best model with validation loss: {best_val_loss}\\n')\n",
        "\n",
        "    # check if the current model has the best accuracy\n",
        "    print (f'last correct ={correct} | best correct = {best_val_acc}')\n",
        "    if correct > best_val_acc:\n",
        "      best_val_acc = correct\n",
        "      # save the current model state as the best model state\n",
        "      best_model_state = deepcopy(model.state_dict())\n",
        "      print(f'Updated the best model with correct: {correct}\\n')\n",
        "\n",
        "    list_best_val_correct.append(best_val_acc)\n",
        "\n",
        "    # early stopping\n",
        "    # if early_stopping_difference(val_losses,\n",
        "    #                              patience = early_stop_patience,\n",
        "    #                              difference= early_stop_difference):\n",
        "    #   print (f'-------Early Stopping at epoch {epoch+1}---')\n",
        "    #   epoch_converge = epoch+1\n",
        "    #   break\n",
        "\n",
        "    # if early_stopping_difference(list_val_correct,\n",
        "    #                              patience = early_stop_patience,\n",
        "    #                              difference= early_stop_difference):\n",
        "    #   print (f'-------Early Stopping at epoch {epoch+1}---')\n",
        "    #   epoch_converge = epoch+1\n",
        "    #   break\n",
        "\n",
        "    # if early_stopping_difference(list_best_val_correct,\n",
        "    #                              patience = 2*early_stop_patience,\n",
        "    #                              difference= 0):\n",
        "    #   print (f'-------Early Stopping at epoch {epoch+1}---')\n",
        "    #   epoch_converge = epoch+1\n",
        "    #   break\n",
        "\n",
        "\n",
        "\n",
        "    # ## showing misclassification images after every 10 epochs\n",
        "    # if epoch % 10 == 0:\n",
        "    #   list_misclassified_images = get_misclassified_images_list(model= model,\n",
        "    #                                                             device = device,\n",
        "    #                                                             test_loader = data_loader['source']['val'],\n",
        "    #                                                             num_image = 10)\n",
        "    #   plot_misclassified_images(list_misclassified_images)\n",
        "\n",
        "## using params of best model to update model\n",
        "if best_model_state: # only update if best model has been saved, else the last one would be picked up\n",
        "  # best_non_dann_model.load_state_dict(best_model_state)\n",
        "  best_model.load_state_dict(best_model_state)\n",
        "  print('Best model loaded')\n",
        "\n",
        "\n",
        "\n",
        "\n",
        "dict_non_dann_losses = {'train_losses' : train_losses,\n",
        "                                       'val_losses': val_losses,\n",
        "                                      #  'test_loss_source' : test_loss_source,\n",
        "                                      #  'test_loss_target' : test_loss_target,\n",
        "                                       'epoch_convergence' : epoch_converge,\n",
        "                                       'lr': lr_schedule}\n"
      ],
      "metadata": {
        "colab": {
          "base_uri": "https://localhost:8080/"
        },
        "id": "rrZVrIpXD7YQ",
        "outputId": "99d493f2-f6c8-4087-de06-1e0d1d1ac3be"
      },
      "execution_count": null,
      "outputs": [
        {
          "output_type": "stream",
          "name": "stdout",
          "text": [
            "------ Training started for Non DANN Model ---- \n",
            "starting LR : 0.4\n",
            "EPOCH: 1  of  1\n",
            "epoch = 1...in training function\n"
          ]
        },
        {
          "output_type": "stream",
          "name": "stderr",
          "text": [
            "Loss=0.028497328981757164 Accuracy=54805/60000(91.34%) Epoch Avg loss=0.00448121 LR=0.400000: 100%|██████████| 938/938 [01:44<00:00,  8.98it/s]\n",
            "100%|██████████| 157/157 [00:06<00:00, 23.81it/s]"
          ]
        },
        {
          "output_type": "stream",
          "name": "stdout",
          "text": [
            "last correct =9830 | best correct = 0\n",
            "Updated the best model with correct: 9830\n",
            "\n",
            "Best model loaded\n"
          ]
        },
        {
          "output_type": "stream",
          "name": "stderr",
          "text": [
            "\n"
          ]
        }
      ]
    },
    {
      "cell_type": "markdown",
      "source": [
        "## Performance on source validation dataset\n",
        "\n",
        "> Add blockquote\n",
        "\n"
      ],
      "metadata": {
        "id": "ZM6GUC0SBTY0"
      }
    },
    {
      "cell_type": "code",
      "source": [
        "true_labels, predicted_labels, accuracy, precision, conf_matrix, class_report = performance_metric(model= best_model,\n",
        "                                                                                                   device= device,\n",
        "                                                                                                   data_loader = test_loader ,\n",
        "                                                                                                   )"
      ],
      "metadata": {
        "colab": {
          "base_uri": "https://localhost:8080/"
        },
        "id": "c4ofpvExBZhR",
        "outputId": "0b87e8a2-ff02-4bb2-e1f3-8788a385ef5c"
      },
      "execution_count": null,
      "outputs": [
        {
          "output_type": "stream",
          "name": "stdout",
          "text": [
            "Accuracy: 0.983\n",
            "Precision: 0.983107670243715\n",
            "Confusion Matrix:\n",
            "     0     1     2    3    4    5    6     7    8    9\n",
            "0  972     1     2    0    0    0    3     2    0    0\n",
            "1    0  1124     4    0    0    1    5     1    0    0\n",
            "2    2     0  1017    0    2    0    6     3    2    0\n",
            "3    0     0     4  990    0    5    0     7    4    0\n",
            "4    0     0     0    0  971    0    7     2    0    2\n",
            "5    0     0     1    5    0  872    4     2    6    2\n",
            "6    9     2     0    0    1    1  943     0    2    0\n",
            "7    0     3     4    1    0    0    0  1018    0    2\n",
            "8    3     0     2    0    4    1    1     3  958    2\n",
            "9    8     0     1    0   17    2    2     7    7  965\n",
            "Classification Report:\n",
            "              precision    recall  f1-score   support\n",
            "\n",
            "           0       0.98      0.99      0.98       980\n",
            "           1       0.99      0.99      0.99      1135\n",
            "           2       0.98      0.99      0.98      1032\n",
            "           3       0.99      0.98      0.99      1010\n",
            "           4       0.98      0.99      0.98       982\n",
            "           5       0.99      0.98      0.98       892\n",
            "           6       0.97      0.98      0.98       958\n",
            "           7       0.97      0.99      0.98      1028\n",
            "           8       0.98      0.98      0.98       974\n",
            "           9       0.99      0.96      0.97      1009\n",
            "\n",
            "    accuracy                           0.98     10000\n",
            "   macro avg       0.98      0.98      0.98     10000\n",
            "weighted avg       0.98      0.98      0.98     10000\n",
            "\n"
          ]
        }
      ]
    },
    {
      "cell_type": "markdown",
      "source": [
        "## Performance on target validation dataset\n",
        "\n",
        "\n",
        "\n"
      ],
      "metadata": {
        "id": "4z7mrCi9BovU"
      }
    },
    {
      "cell_type": "code",
      "source": [
        "true_labels, predicted_labels, accuracy, precision, conf_matrix, class_report = performance_metric(model= best_model,\n",
        "                                                                                                   device= device,\n",
        "                                                                                                   data_loader = dataloader_target_test ,\n",
        "                                                                                                   )"
      ],
      "metadata": {
        "colab": {
          "base_uri": "https://localhost:8080/",
          "height": 198
        },
        "id": "GMkwXUfMBwsY",
        "outputId": "52f8cc6f-b086-4e0d-cc27-cedff6aba352"
      },
      "execution_count": null,
      "outputs": [
        {
          "output_type": "error",
          "ename": "NameError",
          "evalue": "name 'best_model' is not defined",
          "traceback": [
            "\u001b[0;31m---------------------------------------------------------------------------\u001b[0m",
            "\u001b[0;31mNameError\u001b[0m                                 Traceback (most recent call last)",
            "\u001b[0;32m<ipython-input-49-5ee63ea68042>\u001b[0m in \u001b[0;36m<cell line: 1>\u001b[0;34m()\u001b[0m\n\u001b[0;32m----> 1\u001b[0;31m true_labels, predicted_labels, accuracy, precision, conf_matrix, class_report = performance_metric(model= best_model,\n\u001b[0m\u001b[1;32m      2\u001b[0m                                                                                                    \u001b[0mdevice\u001b[0m\u001b[0;34m=\u001b[0m \u001b[0mdevice\u001b[0m\u001b[0;34m,\u001b[0m\u001b[0;34m\u001b[0m\u001b[0;34m\u001b[0m\u001b[0m\n\u001b[1;32m      3\u001b[0m                                                                                                    \u001b[0mdata_loader\u001b[0m \u001b[0;34m=\u001b[0m \u001b[0mdataloader_target_test\u001b[0m \u001b[0;34m,\u001b[0m\u001b[0;34m\u001b[0m\u001b[0;34m\u001b[0m\u001b[0m\n\u001b[1;32m      4\u001b[0m                                                                                                    )\n",
            "\u001b[0;31mNameError\u001b[0m: name 'best_model' is not defined"
          ]
        }
      ]
    },
    {
      "cell_type": "markdown",
      "source": [
        "## Saving NON DANN MODEL"
      ],
      "metadata": {
        "id": "uwP9TwBOCCUz"
      }
    },
    {
      "cell_type": "code",
      "source": [
        "dir_suffix = str(time.strftime(\"%d_%m\"))\n",
        "\n",
        "SPECIFIC_MODEL_DIR = Path(os.path.join(model_drive_path, dir_suffix))\n",
        "if not SPECIFIC_MODEL_DIR.exists():\n",
        "    # Create the directory\n",
        "    SPECIFIC_MODEL_DIR.mkdir(parents=True, exist_ok=True)\n",
        "    print(f'Directory {SPECIFIC_MODEL_DIR} created successfully.')\n",
        "else:\n",
        "    print(f'Directory {SPECIFIC_MODEL_DIR} already exists.')\n"
      ],
      "metadata": {
        "colab": {
          "base_uri": "https://localhost:8080/"
        },
        "id": "i44bCDbRDH_u",
        "outputId": "60296ded-05a3-4e1e-f126-d7f919aad0a6"
      },
      "execution_count": null,
      "outputs": [
        {
          "output_type": "stream",
          "name": "stdout",
          "text": [
            "Directory /content/gdrive/MyDrive/da_demo/cv/models/26_06 already exists.\n"
          ]
        }
      ]
    },
    {
      "cell_type": "code",
      "source": [
        "model_name = f'non_dann_{dir_suffix}.pt'\n",
        "print(\"\\nDO VERIFY THE MODEL NAME BEFORE MOVING AHEAD: \", model_name)"
      ],
      "metadata": {
        "colab": {
          "base_uri": "https://localhost:8080/"
        },
        "id": "hlI4owQiDqIx",
        "outputId": "d93e4e0c-7ce1-4b8a-e945-0504f73fa87b"
      },
      "execution_count": null,
      "outputs": [
        {
          "output_type": "stream",
          "name": "stdout",
          "text": [
            "\n",
            "DO VERIFY THE MODEL NAME BEFORE MOVING AHEAD:  non_dann_26_06.pt\n"
          ]
        }
      ]
    },
    {
      "cell_type": "code",
      "source": [
        "torch.save(best_model.state_dict(), Path(SPECIFIC_MODEL_DIR,model_name))"
      ],
      "metadata": {
        "id": "rv6A4uzBD1dx"
      },
      "execution_count": null,
      "outputs": []
    },
    {
      "cell_type": "markdown",
      "source": [
        "# Loading Non DANN for DANN, DANN EWC"
      ],
      "metadata": {
        "id": "s-EHabGJI6QF"
      }
    },
    {
      "cell_type": "code",
      "source": [
        "# dann_model_name = model_name # f'non_dann_{str(time.strftime(\"%d_%m\"))}.pt'\n",
        "\n",
        "dann_model_name = 'non_dann_26_06.pt'\n",
        "dir_suffix = '26_06' # str(time.strftime(\"%d_%m\"))\n",
        "\n",
        "SPECIFIC_MODEL_DIR = Path(os.path.join(model_drive_path, dir_suffix))\n",
        "dann_model_path = Path(SPECIFIC_MODEL_DIR,dann_model_name)\n",
        "print(\"\\n**** model name that would be used for loading: \", dann_model_path)"
      ],
      "metadata": {
        "colab": {
          "base_uri": "https://localhost:8080/"
        },
        "id": "BzfKNs-9I5fG",
        "outputId": "01d60beb-58f4-4afe-97b6-62c59b563592"
      },
      "execution_count": null,
      "outputs": [
        {
          "output_type": "stream",
          "name": "stdout",
          "text": [
            "\n",
            "**** model name that would be used for loading:  /content/gdrive/MyDrive/da_demo/cv/models/26_06/non_dann_26_06.pt\n"
          ]
        }
      ]
    },
    {
      "cell_type": "code",
      "source": [
        "if not device:\n",
        "  use_cuda = torch.cuda.is_available()\n",
        "  device = torch.device(\"cuda\" if use_cuda else \"cpu\")\n",
        "print(device)"
      ],
      "metadata": {
        "colab": {
          "base_uri": "https://localhost:8080/"
        },
        "id": "S87xaf7JJEyC",
        "outputId": "d029b4a4-54ec-4b02-b2c8-164e64fc18cb"
      },
      "execution_count": null,
      "outputs": [
        {
          "output_type": "stream",
          "name": "stdout",
          "text": [
            "cpu\n"
          ]
        }
      ]
    },
    {
      "cell_type": "markdown",
      "source": [
        "### DANN loaded with Non DANN weights"
      ],
      "metadata": {
        "id": "OEd56f32Jb1E"
      }
    },
    {
      "cell_type": "code",
      "source": [
        "model_dann = Network().to(device)\n",
        "model_dann.load_state_dict(torch.load(dann_model_path,map_location = torch.device(device)))"
      ],
      "metadata": {
        "colab": {
          "base_uri": "https://localhost:8080/"
        },
        "id": "m7yVQvDiJJXT",
        "outputId": "2a6b280b-96de-4f0d-c528-cb9f59c05577"
      },
      "execution_count": null,
      "outputs": [
        {
          "output_type": "execute_result",
          "data": {
            "text/plain": [
              "<All keys matched successfully>"
            ]
          },
          "metadata": {},
          "execution_count": 45
        }
      ]
    },
    {
      "cell_type": "code",
      "source": [
        "true_labels, predicted_labels, accuracy, precision, conf_matrix, class_report = performance_metric(model= model_dann,\n",
        "                                                                                                   device= device,\n",
        "                                                                                                   data_loader = dataloader_target_test ,\n",
        "                                                                                                   )"
      ],
      "metadata": {
        "colab": {
          "base_uri": "https://localhost:8080/"
        },
        "id": "08_S3jLmZbvQ",
        "outputId": "e73b14af-4e6e-4bc2-94ec-481b219712c7"
      },
      "execution_count": null,
      "outputs": [
        {
          "output_type": "stream",
          "name": "stdout",
          "text": [
            "Accuracy: 0.33985112765248304\n",
            "Precision: 0.7484327284691743\n",
            "Confusion Matrix:\n",
            "     0    1    2    3    4    5    6    7    8    9\n",
            "0  290    0    0    0    8   37    7    0  532    4\n",
            "1   27  306    2    0   20    1   15    6  634    5\n",
            "2    3    0  252    0   21   51    7    5  591    3\n",
            "3    4    1   22  179    3   29    0   11  658    1\n",
            "4    8    1    0    1  303   29    5    2  528   13\n",
            "5    3    1    1    1    3  199    2    1  594    2\n",
            "6   36    0    4    0   40   20  233    0  519    4\n",
            "7    1    8    5    4   17   12    0  268  592    7\n",
            "8    8    0    0    0    3   10    1    1  857    0\n",
            "9    6    2    2    0   51   13    1    3  669  172\n",
            "Classification Report:\n",
            "              precision    recall  f1-score   support\n",
            "\n",
            "           0       0.75      0.33      0.46       878\n",
            "           1       0.96      0.30      0.46      1016\n",
            "           2       0.88      0.27      0.41       933\n",
            "           3       0.97      0.20      0.33       908\n",
            "           4       0.65      0.34      0.45       890\n",
            "           5       0.50      0.25      0.33       807\n",
            "           6       0.86      0.27      0.41       856\n",
            "           7       0.90      0.29      0.44       914\n",
            "           8       0.14      0.97      0.24       880\n",
            "           9       0.82      0.19      0.30       919\n",
            "\n",
            "    accuracy                           0.34      9001\n",
            "   macro avg       0.74      0.34      0.38      9001\n",
            "weighted avg       0.75      0.34      0.39      9001\n",
            "\n"
          ]
        }
      ]
    },
    {
      "cell_type": "code",
      "source": [],
      "metadata": {
        "id": "xNiKhoCyZkxz"
      },
      "execution_count": null,
      "outputs": []
    },
    {
      "cell_type": "markdown",
      "source": [
        "### DANN EWC loaded with Non DANN weights"
      ],
      "metadata": {
        "id": "iwDZTEHZJdym"
      }
    },
    {
      "cell_type": "code",
      "source": [
        "model_dann_ewc = Network().to(device)\n",
        "model_dann_ewc.load_state_dict(torch.load(dann_model_path,map_location = torch.device(device)))"
      ],
      "metadata": {
        "colab": {
          "base_uri": "https://localhost:8080/"
        },
        "id": "YP9J_T7OJ8bw",
        "outputId": "bdd704e8-1c21-40b1-99f6-295f982892f8"
      },
      "execution_count": null,
      "outputs": [
        {
          "output_type": "execute_result",
          "data": {
            "text/plain": [
              "<All keys matched successfully>"
            ]
          },
          "metadata": {},
          "execution_count": 46
        }
      ]
    },
    {
      "cell_type": "markdown",
      "source": [
        "# DANN Model"
      ],
      "metadata": {
        "id": "zW0MRJAlLDJI"
      }
    },
    {
      "cell_type": "markdown",
      "source": [
        "## DANN Training function"
      ],
      "metadata": {
        "id": "3_mqWVRjYDoa"
      }
    },
    {
      "cell_type": "code",
      "source": [
        "def train_dann(model,\n",
        "                device,\n",
        "                source_train_loader, source_val_loader,\n",
        "                target_train_loader, target_val_loader,\n",
        "                optimizer,\n",
        "                n_epochs, # total number of epochs (different from individual epoch)\n",
        "                class_loss_function = nn.CrossEntropyLoss(),\n",
        "                domain_loss_function = nn.BCEWithLogitsLoss(),\n",
        "                scheduler = None,\n",
        "                early_stop_patience = None,\n",
        "                early_stop_difference = None\n",
        "                ):\n",
        "\n",
        "    train_losses = [] # to capture train losses over training epochs\n",
        "    val_losses = [] # to capture validation loss over epochs\n",
        "    list_lr =[] # to capture lr over epochs\n",
        "    list_val_correct = [] # to capture validation accuracy over epochs\n",
        "    list_best_val_correct = [] # to capture best validtion accuracy over epochs\n",
        "\n",
        "\n",
        "    epoch_converge = 0\n",
        "    max_batches = min(len(source_train_loader), len(target_train_loader)) # Trying to check which is having less batches.\n",
        "    model = model.to(device)\n",
        "\n",
        "    # model.apply(weights_init) # TODO: skipping weights update - we can experimentation later on, and see if this helps\n",
        "    list_alpha =[]\n",
        "\n",
        "\n",
        "    # for best model\n",
        "    best_model = deepcopy(model).to(device) # for best model\n",
        "    best_val_loss = float('inf') # Initialize variables to track the best validation loss\n",
        "    best_val_acc = 0 # Initialize variable to track best accuracy\n",
        "    best_model_state = None # Initialize variables to track the best model state\n",
        "\n",
        "\n",
        "    for epoch_idx in range(n_epochs):\n",
        "        print(f'epoch = {epoch_idx+1}...in DANN execution function')\n",
        "        source_iterator = iter(source_train_loader)\n",
        "        target_iterator = iter (target_train_loader)\n",
        "        epoch_task_loss = 0\n",
        "        epoch_domain_loss =  0\n",
        "        epoch_total_loss = 0\n",
        "        processed = 0\n",
        "\n",
        "        for batch_idx in range(max_batches-1):\n",
        "            p = float(batch_idx + epoch_idx * max_batches) / (n_epochs * max_batches)\n",
        "            alpha = 2. / (1. + np.exp(-10 * p)) - 1\n",
        "            # alpha = 1.0\n",
        "            list_alpha.append(alpha)\n",
        "            alpha = torch.tensor(alpha)\n",
        "\n",
        "            model.train() # everytime ?\n",
        "            optimizer.zero_grad() # flushing out the accumulated gradients\n",
        "\n",
        "            #---------------------Source Dataset Training ------------------------#\n",
        "            source_batch = next(source_iterator)\n",
        "\n",
        "            source_images, source_labels = source_batch[0].to(device), source_batch[1].to(device) # getting images and labels, on device\n",
        "            source_class_outputs, source_domain_outputs, _ = model(source_images, alpha=alpha) # forward pass, output = {class, domain, feature}\n",
        "\n",
        "            loss_source_class = class_loss_function(source_class_outputs, source_labels) # calculating class loss\n",
        "\n",
        "            source_domain_inputs = torch.tensor([1., 0.]*len(source_batch[0])).view(-1,2).to(device) # Source Image == [1., 0.]\n",
        "\n",
        "            loss_source_domain = domain_loss_function(source_domain_outputs, source_domain_inputs) # calculating domain loss\n",
        "\n",
        "            processed += len(source_batch[0])\n",
        "\n",
        "            #---------------------Target Dataset Training ------------------------#\n",
        "            target_batch = next (target_iterator)\n",
        "            target_images = target_batch[0].to(device) # getting images, on device. There are no labels for target\n",
        "            _, target_domain_outputs, _ = model(target_images, alpha=alpha) # forward pass, output = {class, domain, feature}\n",
        "\n",
        "            target_domain_inputs = torch.tensor([0., 1.]*len(source_batch[0])).view(-1,2).to(device)  # Target Image == [0., 1.]\n",
        "\n",
        "            loss_target_domain = domain_loss_function(target_domain_outputs,target_domain_inputs)  # calculating domain loss\n",
        "\n",
        "            #---------------------Combining Loss ------------------------#\n",
        "            total_loss = loss_source_class + (loss_source_domain + loss_target_domain)\n",
        "            total_loss.backward() #backpropogation, creating gradients\n",
        "            optimizer.step() # updating the params\n",
        "\n",
        "            epoch_task_loss += loss_source_class.item()\n",
        "            epoch_domain_loss += loss_source_domain.item() + loss_target_domain.item()\n",
        "            epoch_total_loss += total_loss.item()\n",
        "\n",
        "            curr_lr = optimizer.param_groups[0]['lr'] # current learning rate\n",
        "            list_lr.append(curr_lr)\n",
        "\n",
        "            # after 100 batches\n",
        "            if (batch_idx % 100 == 0):\n",
        "                print(\"Epoch[{}/{}] Step[{}/{}]: loss_total={:.4f} / domain_loss_target={:.4f} / domain_loss_source={:.4f} / task_loss={:.4f} / domain_loss={:.4f} / alpha={:.2f} / lr={:.6f}\"\n",
        "              .format(epoch_idx + 1,\n",
        "                      n_epochs,\n",
        "                      batch_idx + 1,\n",
        "                      max_batches,\n",
        "                      total_loss.item(),\n",
        "                      loss_target_domain.item()\n",
        "                      ,loss_source_domain.item()\n",
        "                      ,loss_source_class.item()\n",
        "                      ,loss_source_domain.item()+loss_source_class.item(),\n",
        "                      alpha,\n",
        "                      curr_lr\n",
        "                      ))\n",
        "        # After every epoch\n",
        "        avg_train_task_loss =  float(\"{:.6f}\".format(epoch_task_loss/processed))\n",
        "        train_losses.append(avg_train_task_loss)\n",
        "\n",
        "        # #Scheduler\n",
        "        # if scheduler:\n",
        "        #   scheduler.step(avg_train_task_loss) ## applying scheduler on training loss\n",
        "\n",
        "        #Validate Model after every epoch\n",
        "        correct, avg_val_task_loss = test_model_local(model= model,\n",
        "                                                device= device,\n",
        "                                                data_loader = source_val_loader,\n",
        "                                                class_loss_function = class_loss_function)\n",
        "        val_losses.append(avg_val_task_loss)\n",
        "\n",
        "        # # Check if the current model has the best validation loss\n",
        "        # print(f'Last Epoch Val Loss = {avg_val_task_loss} | Best Val Loss = {best_val_loss}' )\n",
        "        # if avg_val_task_loss < best_val_loss:\n",
        "        #   best_val_loss = avg_val_task_loss\n",
        "        #   # save the current model state as the best model state\n",
        "        #   best_model_state = deepcopy(model.state_dict())\n",
        "        #   print(f'Updated the best model with validation loss: {best_val_loss}\\n')\n",
        "\n",
        "        list_val_correct.append(correct)\n",
        "\n",
        "        #Adding Scheduler #TODO: ADD SCHEDULER\n",
        "        if scheduler:\n",
        "          scheduler.step(correct) #applying scheduler on accuracy proxy, i.e. correct\n",
        "\n",
        "\n",
        "        # check if the current model has the best accuracy\n",
        "        print (f'last correct ={correct} | best correct = {best_val_acc}')\n",
        "        if correct > best_val_acc:\n",
        "          best_val_acc = correct\n",
        "          # save the current model state as the best model state\n",
        "          best_model_state = deepcopy(model.state_dict())\n",
        "          print(f'Updated the best model with correct: {correct}\\n')\n",
        "\n",
        "        list_best_val_correct.append(best_val_acc) # appending the best one for early stopping\n",
        "\n",
        "\n",
        "\n",
        "        # #TODO: Early Stopping\n",
        "        # if early_stop_patience and early_stop_difference: # early stopping required\n",
        "        #   if early_stopping_difference(list_val_correct,\n",
        "        #                                patience = early_stop_patience,\n",
        "        #                                difference= early_stop_difference):\n",
        "        #     print (f'-------Early Stopping at epoch {epoch_idx+1}---')\n",
        "        #     epoch_converge = epoch_idx+1\n",
        "        #     break # break from epoch loop\n",
        "\n",
        "        # if early_stop_patience and early_stop_difference: # early stopping based on best accuracy\n",
        "        #   if early_stopping_difference(val_losses,\n",
        "        #                                patience = 2*early_stop_patience,\n",
        "        #                                difference= 0):\n",
        "        #     print (f'-------Early Stopping at epoch {epoch_idx+1}---')\n",
        "        #     epoch_converge = epoch_idx+1\n",
        "        #     break # break from epoch loop\n",
        "\n",
        "            ## showing misclassification images after every 10 epochs\n",
        "        # if epoch_idx % 10 == 0:\n",
        "        #   list_misclassified_images = get_misclassified_images_list(model= model,\n",
        "        #                                                             device = device,\n",
        "        #                                                             test_loader = source_val_loader,\n",
        "        #                                                             num_image = 10)\n",
        "        #   plot_misclassified_images(list_misclassified_images)\n",
        "\n",
        "\n",
        "    # Testing when the training is over - completed or early stopped\n",
        "    ## using params of best model to update model\n",
        "    if best_model_state: # only update if best model has been saved, else the last one would be picked up\n",
        "      model.load_state_dict(best_model_state)\n",
        "      print('Best model loaded')\n",
        "\n",
        "    # correct, test_loss_source = test_model_local(model= model,\n",
        "    #                         device= device,\n",
        "    #                         data_loader = source_val_loader, # source val loader\n",
        "    #                         class_loss_function = class_loss_function)\n",
        "\n",
        "    # correct, test_loss_target = test_model_local(model= model,\n",
        "    #                         device= device,\n",
        "    #                         data_loader = target_val_loader, # target val loader\n",
        "    #                         class_loss_function = class_loss_function)\n",
        "\n",
        "    dict_dann_losses = {'train_losses' : train_losses,\n",
        "                        'val_losses': val_losses,\n",
        "                        # 'test_loss_source' : test_loss_source,\n",
        "                        # 'test_loss_target' : test_loss_target,\n",
        "                        'epoch_convergence' : epoch_converge,\n",
        "                        'list_alpha' : list_alpha,\n",
        "                        'lr':list_lr}\n",
        "\n",
        "    print(f'alpha list \\n {list_alpha}')\n",
        "    return model, dict_dann_losses\n"
      ],
      "metadata": {
        "id": "4-j-lrVBL3qW"
      },
      "execution_count": null,
      "outputs": []
    },
    {
      "cell_type": "markdown",
      "source": [
        "### DANN Execution Config"
      ],
      "metadata": {
        "id": "v-iCYUpJwlSR"
      }
    },
    {
      "cell_type": "code",
      "source": [
        "\n",
        "#learning rate\n",
        "lr_dann =  0.04 # slow rate as the weights are already optimized\n",
        "\n",
        "# Epochs\n",
        "print(\"EPOCHS\", EPOCHS)\n",
        "n_epochs = EPOCHS\n",
        "\n",
        "# ReduceLRonPlateau Scheduler Params\n",
        "scheduler_patience = 1\n",
        "scheduler_factor = 0.1\n",
        "scheduler_threshold = 0.0002\n",
        "\n",
        "\n",
        "# optimizer\n",
        "optimizer_dann = optim.SGD(model_dann.parameters(), lr = lr_dann, momentum = 0.9)\n",
        "\n",
        "# Set up the ReduceLROnPlateau scheduler\n",
        "scheduler = ReduceLROnPlateau(optimizer_dann,\n",
        "                              # mode='min',\n",
        "                              mode='max',\n",
        "                              factor=scheduler_factor,\n",
        "                              patience=scheduler_patience,\n",
        "                              threshold = scheduler_threshold,\n",
        "                              threshold_mode='abs',\n",
        "                              min_lr=1e-6,\n",
        "                              verbose= True)\n"
      ],
      "metadata": {
        "colab": {
          "base_uri": "https://localhost:8080/"
        },
        "id": "QHOzKiP2wxks",
        "outputId": "ce0b695f-4f2b-4cc0-e875-5d9f6ace5bfb"
      },
      "execution_count": null,
      "outputs": [
        {
          "output_type": "stream",
          "name": "stdout",
          "text": [
            "EPOCHS 1\n"
          ]
        },
        {
          "output_type": "stream",
          "name": "stderr",
          "text": [
            "/usr/local/lib/python3.10/dist-packages/torch/optim/lr_scheduler.py:28: UserWarning: The verbose parameter is deprecated. Please use get_last_lr() to access the learning rate.\n",
            "  warnings.warn(\"The verbose parameter is deprecated. Please use get_last_lr() \"\n"
          ]
        }
      ]
    },
    {
      "cell_type": "code",
      "source": [
        "print(f'------------training started for DANN Model ------------------')\n",
        "\n",
        "dann_model_trained, dict_dann_losses = train_dann(model=model_dann,\n",
        "                                                    device=device,\n",
        "                                                    source_train_loader = train_loader,\n",
        "                                                    source_val_loader = test_loader,\n",
        "                                                    target_train_loader = dataloader_target_train,\n",
        "                                                    target_val_loader = dataloader_target_test,\n",
        "                                                    optimizer = optimizer_dann,\n",
        "                                                    n_epochs = n_epochs,\n",
        "                                                    class_loss_function = nn.CrossEntropyLoss().to(device=device),\n",
        "                                                    domain_loss_function = nn.BCEWithLogitsLoss(),\n",
        "                                                    scheduler = scheduler,\n",
        "                                                    early_stop_patience = None,\n",
        "                                                    early_stop_difference = None\n",
        "                                                    )"
      ],
      "metadata": {
        "colab": {
          "base_uri": "https://localhost:8080/"
        },
        "id": "UqMgMw4dxxsp",
        "outputId": "fdc40a09-ef39-4522-e4d1-1cebdc1709dd"
      },
      "execution_count": null,
      "outputs": [
        {
          "output_type": "stream",
          "name": "stdout",
          "text": [
            "------------training started for DANN Model ------------------\n",
            "epoch = 1...in DANN execution function\n",
            "Epoch[1/1] Step[1/922]: loss_total=1.4887 / domain_loss_target=0.8108 / domain_loss_source=0.6051 / task_loss=0.0729 / domain_loss=0.6780 / alpha=0.00 / lr=0.040000\n",
            "Epoch[1/1] Step[101/922]: loss_total=1.3433 / domain_loss_target=0.6512 / domain_loss_source=0.6283 / task_loss=0.0638 / domain_loss=0.6920 / alpha=0.49 / lr=0.040000\n",
            "Epoch[1/1] Step[201/922]: loss_total=1.1947 / domain_loss_target=0.5341 / domain_loss_source=0.5569 / task_loss=0.1037 / domain_loss=0.6606 / alpha=0.79 / lr=0.040000\n",
            "Epoch[1/1] Step[301/922]: loss_total=1.1593 / domain_loss_target=0.5584 / domain_loss_source=0.5874 / task_loss=0.0135 / domain_loss=0.6009 / alpha=0.93 / lr=0.040000\n",
            "Epoch[1/1] Step[401/922]: loss_total=1.4260 / domain_loss_target=0.5630 / domain_loss_source=0.6612 / task_loss=0.2018 / domain_loss=0.8630 / alpha=0.97 / lr=0.040000\n",
            "Epoch[1/1] Step[501/922]: loss_total=1.4372 / domain_loss_target=0.6897 / domain_loss_source=0.6145 / task_loss=0.1330 / domain_loss=0.7475 / alpha=0.99 / lr=0.040000\n",
            "Epoch[1/1] Step[601/922]: loss_total=1.2826 / domain_loss_target=0.5930 / domain_loss_source=0.5770 / task_loss=0.1125 / domain_loss=0.6896 / alpha=1.00 / lr=0.040000\n",
            "Epoch[1/1] Step[701/922]: loss_total=1.4622 / domain_loss_target=0.6405 / domain_loss_source=0.6963 / task_loss=0.1255 / domain_loss=0.8218 / alpha=1.00 / lr=0.040000\n",
            "Epoch[1/1] Step[801/922]: loss_total=1.2968 / domain_loss_target=0.6541 / domain_loss_source=0.5504 / task_loss=0.0923 / domain_loss=0.6427 / alpha=1.00 / lr=0.040000\n",
            "Epoch[1/1] Step[901/922]: loss_total=1.4466 / domain_loss_target=0.6780 / domain_loss_source=0.6248 / task_loss=0.1439 / domain_loss=0.7686 / alpha=1.00 / lr=0.040000\n"
          ]
        },
        {
          "output_type": "stream",
          "name": "stderr",
          "text": [
            "100%|██████████| 157/157 [00:07<00:00, 20.29it/s]"
          ]
        },
        {
          "output_type": "stream",
          "name": "stdout",
          "text": [
            "last correct =9709 | best correct = 0\n",
            "Updated the best model with correct: 9709\n",
            "\n",
            "Best model loaded\n",
            "alpha list \n",
            " [0.0, 0.00542294033168389, 0.01084556171403217, 0.01626754527274077, 0.021688572283530272, 0.027108324247066662, 0.03252648296376526, 0.037942730608450104, 0.04335674980482218, 0.048768223699706015, 0.05417683603703494, 0.059582271231539474, 0.0649842144421009, 0.07038235164473616, 0.07577636970517654, 0.0811659564510061, 0.08655080074332333, 0.09193059254789282, 0.09730502300575128, 0.10267378450323661, 0.10803657074140349, 0.1133930768047946, 0.1187429992295368, 0.12408603607072655, 0.1294218869690773, 0.134750253216797, 0.14007083782266516, 0.1453833455762812, 0.1506874831114573, 0.15598295896872316, 0.1612694836569204, 0.1665467697138594, 0.17181453176601091, 0.17707248658720798, 0.18232035315633843, 0.18755785271399827, 0.19278470881808896, 0.1980006473983329, 0.20320539680969185, 0.20839868788466065, 0.2135802539844267, 0.2187498310488678, 0.22390715764537839, 0.22905197501650365, 0.2341840271263691, 0.23930306070588703, 0.24440882529673114, 0.24950107329406346, 0.2545795599880014, 0.2596440436038179, 0.2646942853408596, 0.2697300494101782, 0.2747511030708645, 0.2797572166650788, 0.28474816365177236, 0.28972372063909124, 0.2946836674154616, 0.29962778697935244, 0.3045558655677101, 0.3094676926830655, 0.314363061119314, 0.31924176698616336, 0.3241036097322545, 0.32894839216695626, 0.3337759204808357, 0.338586004264805, 0.3433784565279545, 0.34815309371407066, 0.3529097357168489, 0.3576482058938062, 0.3623683310788979, 0.36706994159385276, 0.37175287125822787, 0.37641695739819836, 0.38106204085408635, 0.38568796598664634, 0.3902945806821103, 0.39488173635601354, 0.3994492879558029, 0.4039970939622519, 0.4085250163896874, 0.4130329207850456, 0.4175206762257726, 0.42198815531658296, 0.4264352341850939, 0.4308617924763485, 0.4352677133462479, 0.43965288345390596, 0.4440171929529473, 0.44836053548176413, 0.45268280815274964, 0.4569839115405292, 0.46126374966920625, 0.46552222999864123, 0.46975926340978624, 0.47397476418908946, 0.47816865001199793, 0.48234084192556836, 0.48649126433021594, 0.49061984496061517, 0.4947265148657767, 0.4988112083883207, 0.5028738631429648, 0.5069144199942541, 0.510932823033547, 0.5149290195552843, 0.518902960032557, 0.5228545980920016, 0.526783890488038, 0.5306907970764727, 0.5345752807874922, 0.5384373075980626, 0.5422768465037633, 0.5460938694900674, 0.5498883515030999, 0.5536602704198867, 0.5574096070181207, 0.561136344945462, 0.5648404706883967, 0.5685219735406726, 0.5721808455713315, 0.5758170815923629, 0.5794306791259933, 0.5830216383716349, 0.5865899621725146, 0.5901356559819975, 0.5936587278296297, 0.5971591882869192, 0.6006370504328673, 0.6040923298192804, 0.6075250444358693, 0.6109352146751614, 0.6143228632972413, 0.6176880153943372, 0.6210306983552727, 0.6243509418297966, 0.6276487776928119, 0.6309242400085198, 0.634177364994492, 0.6374081909856892, 0.6406167583984446, 0.6438031096944203, 0.6469672893445582, 0.650109343793037, 0.6532293214212512, 0.6563272725118241, 0.6594032492126694, 0.662457305501116, 0.6654894971481093, 0.6684998816824963, 0.671488518355416, 0.6744554681048001, 0.6774007935199962, 0.6803245588065308, 0.6832268297510156, 0.6861076736862128, 0.6889671594562696, 0.6918053573821279, 0.6946223392271242, 0.6974181781627864, 0.7001929487348391, 0.7029467268294196, 0.7056795896395238, 0.7083916156316792, 0.7110828845128625, 0.7137534771976626, 0.7164034757756976, 0.7190329634792976, 0.7216420246514541, 0.7242307447140439, 0.7267992101363363, 0.7293475084037875, 0.7318757279871253, 0.7343839583117378, 0.7368722897273572, 0.7393408134780599, 0.7417896216725721, 0.7442188072548979, 0.7466284639752634, 0.7490186863613888, 0.7513895696900865, 0.7537412099591907, 0.7560737038598209, 0.7583871487489842, 0.7606816426225134, 0.7629572840883521, 0.7652141723401777, 0.7674524071313753, 0.7696720887493562, 0.7718733179902264, 0.7740561961338039, 0.7762208249189908, 0.778367306519492, 0.7804957435198938, 0.7826062388920874, 0.7846988959720553, 0.7867738184370032, 0.7888311102828534, 0.7908708758020842, 0.7928932195619305, 0.7948982463829317, 0.7968860613178343, 0.7988567696308457, 0.8008104767772397, 0.8027472883833107, 0.8046673102266744, 0.8065706482169224, 0.8084574083766145, 0.8103276968226212, 0.8121816197478056, 0.8140192834030493, 0.8158407940796144, 0.8176462580918449, 0.8194357817602025, 0.8212094713946352, 0.8229674332782766, 0.8247097736514755, 0.826436598696149, 0.8281480145204612, 0.8298441271438226, 0.8315250424822069, 0.8331908663337866, 0.8348417043648775, 0.8364776620961987, 0.8380988448894335, 0.8397053579341032, 0.841297306234734, 0.8428747945983306, 0.844437927622137, 0.845986809681698, 0.8475215449192055, 0.8490422372321296, 0.8505489902621388, 0.8520419073842935, 0.8535210916965192, 0.8549866460093547, 0.8564386728359656, 0.8578772743824294, 0.8593025525382805, 0.8607146088673165, 0.8621135445986616, 0.8634994606180828, 0.8648724574595548, 0.8662326352970744, 0.8675800939367138, 0.8689149328089185, 0.8702372509610361, 0.8715471470500824, 0.872844719335736, 0.8741300656735549, 0.8754032835084233, 0.8766644698682113, 0.877913721357652, 0.8791511341524332, 0.8803768039934963, 0.8815908261815433, 0.8827932955717406, 0.8839843065686304, 0.8851639531212312, 0.8863323287183329, 0.8874895263839835, 0.8886356386731571, 0.8897707576676095, 0.8908949749719113, 0.8920083817096565, 0.8931110685198445, 0.8942031255534366, 0.8952846424700707, 0.8963557084349496, 0.8974164121158827, 0.89846684168049, 0.8995070847935562, 0.9005372286145439, 0.9015573597952471, 0.9025675644775961, 0.9035679282916045, 0.9045585363534543, 0.9055394732637199, 0.9065108231057253, 0.9074726694440347, 0.9084250953230704, 0.909368183265856, 0.9103020152728862, 0.911226672821114, 0.912142236863057, 0.913048787826021, 0.9139464056114324, 0.9148351695942873, 0.9157151586227013, 0.9165864510175696, 0.9174491245723302, 0.9183032565528215, 0.9191489236972485, 0.9199862022162344, 0.9208151677929715, 0.9216358955834631, 0.922448460216853, 0.923252935795841, 0.9240493958971843, 0.9248379135722824, 0.92561856134784, 0.9263914112266083, 0.9271565346882047, 0.9279140026900052, 0.9286638856681064, 0.9294062535383636, 0.9301411756974911, 0.9308687210242332, 0.931588957880596, 0.9323019541131461, 0.9330077770543657, 0.9337064935240695, 0.934398169830879, 0.93508287177375, 0.9357606646435572, 0.936431613224729, 0.9370957817969319, 0.9377532341368076, 0.9384040335197532, 0.9390482427217515, 0.9396859240212412, 0.9403171392010341, 0.9409419495502716, 0.9415604158664206, 0.9421725984573102, 0.9427785571432032, 0.943378351258906, 0.9439720396559099, 0.9445596807045693, 0.9451413322963083, 0.94571705184586, 0.9462868962935354, 0.9468509221075199, 0.9474091852861972, 0.9479617413604982, 0.948508645396277, 0.9490499519967077, 0.9495857153047058, 0.9501159890053719, 0.9506408263284529, 0.9511602800508252, 0.9516744024989965, 0.9521832455516235, 0.9526868606420473, 0.9531852987608447, 0.9536786104583939, 0.9541668458474541, 0.9546500546057572, 0.9551282859786141, 0.9556015887815299, 0.9560700114028302, 0.9565336018062991, 0.9569924075338216, 0.9574464757080414, 0.9578958530350177, 0.9583405858068956, 0.9587807199045806, 0.9592163008004144, 0.959647373560863, 0.960073982849202, 0.9604961729282089, 0.9609139876628578, 0.9613274705230155, 0.9617366645861392, 0.9621416125399771, 0.9625423566852656, 0.9629389389384324, 0.9633314008342919, 0.9637197835287461, 0.9641041278014786, 0.9644844740586505, 0.9648608623355925, 0.9652333322994917, 0.9656019232520794, 0.9659666741323096, 0.9663276235190397, 0.9666848096337, 0.9670382703429616, 0.9673880431614004, 0.9677341652541496, 0.9680766734395525, 0.9684156041918037, 0.9687509936435872, 0.9690828775887026, 0.9694112914846897, 0.9697362704554409, 0.9700578492938046, 0.9703760624641855, 0.970690944105131, 0.971002528031911, 0.9713108477390855, 0.9716159364030699, 0.9719178268846802, 0.9722165517316779, 0.9725121431812982, 0.9728046331627702, 0.9730940532998273, 0.973380434913204, 0.9736638090231255, 0.9739442063517818, 0.9742216573257938, 0.9744961920786666, 0.9747678404532294, 0.975036632004068, 0.9753025959999393, 0.9755657614261783, 0.9758261569870919, 0.9760838111083365, 0.9763387519392894, 0.9765910073554025, 0.976840604960544, 0.9770875720893293, 0.9773319358094368, 0.9775737229239119, 0.9778129599734566, 0.9780496732387063, 0.9782838887424941, 0.9785156322521007, 0.9787449292814896, 0.9789718050935319, 0.9791962847022149, 0.9794183928748379, 0.9796381541341934, 0.9798555927607364, 0.9800707327947371, 0.9802835980384226, 0.980494212058103, 0.9807025981862838, 0.9809087795237641, 0.9811127789417216, 0.9813146190837823, 0.9815143223680789, 0.9817119109892904, 0.9819074069206735, 0.9821008319160738, 0.9822922075119289, 0.9824815550292523, 0.9826688955756069, 0.9828542500470625, 0.9830376391301399, 0.9832190833037397, 0.9833986028410606, 0.9835762178114991, 0.9837519480825379, 0.98392581332162, 0.984097832998009, 0.9842680263846342, 0.9844364125599239, 0.9846030104096213, 0.9847678386285919, 0.9849309157226116, 0.9850922600101453, 0.985251889624108, 0.9854098225136154, 0.9855660764457197, 0.985720669007131, 0.985873617605926, 0.986024939473243, 0.9861746516649628, 0.9863227710633775, 0.986469314378845, 0.9866142981514305, 0.9867577387525321, 0.9868996523865001, 0.9870400550922347, 0.9871789627447756, 0.9873163910568787, 0.9874523555805761, 0.9875868717087282, 0.9877199546765578, 0.9878516195631761, 0.9879818812930921, 0.988110754637711, 0.9882382542168213, 0.9883643945000662, 0.9884891898084043, 0.9886126543155591, 0.9887348020494531, 0.988855646893632, 0.9889752025886769, 0.9890934827336006, 0.989210500787238, 0.9893262700696179, 0.9894408037633278, 0.9895541149148637, 0.98966621643597, 0.9897771211049675, 0.9898868415680673, 0.9899953903406777, 0.9901027798086939, 0.9902090222297801, 0.9903141297346416, 0.9904181143282789, 0.9905209878912378, 0.9906227621808454, 0.9907234488324341, 0.9908230593605554, 0.990921605160183, 0.991019097507905, 0.9911155475631053, 0.9912109663691338, 0.9913053648544659, 0.9913987538338527, 0.9914911440094576, 0.9915825459719885, 0.9916729702018112, 0.9917624270700607, 0.991850926839736, 0.9919384796667896, 0.9920250956012027, 0.9921107845880546, 0.9921955564685769, 0.9922794209812054, 0.9923623877626129, 0.9924444663487415, 0.9925256661758179, 0.9926059965813647, 0.9926854668051976, 0.9927640859904165, 0.9928418631843856, 0.9929188073397062, 0.9929949273151764, 0.993070231876747, 0.9931447296984623, 0.9932184293633994, 0.9932913393645897, 0.9933634681059391, 0.9934348239031372, 0.9935054149845537, 0.9935752494921344, 0.993644335482279, 0.9937126809267196, 0.9937802937133846, 0.9938471816472547, 0.9939133524512154, 0.9939788137668966, 0.9940435731555046, 0.9941076380986471, 0.9941710159991526, 0.9942337141818756, 0.9942957398945005, 0.9943571003083334, 0.994417802519088, 0.994477853547663, 0.994537260340915, 0.9945960297724175, 0.9946541686432171, 0.9947116836825844, 0.9947685815487506, 0.994824868829643, 0.9948805520436108, 0.9949356376401439, 0.9949901320005834, 0.9950440414388282, 0.9950973722020333, 0.995150130471298, 0.9952023223623527, 0.9952539539262355, 0.9953050311499609, 0.9953555599571877, 0.995405546208872, 0.9954549957039212, 0.9955039141798367, 0.9955523073133532, 0.9956001807210682, 0.9956475399600697, 0.9956943905285527, 0.995740737866434, 0.9957865873559588, 0.9958319443222994, 0.9958768140341523, 0.9959212017043246, 0.9959651124903182, 0.9960085514949062, 0.996051523766704, 0.9960940343007347, 0.9961360880389873, 0.9961776898709733, 0.9962188446342728, 0.9962595571150787, 0.9962998320487328, 0.9963396741202599, 0.996379087964891, 0.996418078168587, 0.9964566492685547, 0.9964948057537562, 0.996532552065414, 0.9965698925975139, 0.9966068316972978, 0.9966433736657543, 0.9966795227581047, 0.9967152831842843, 0.9967506591094142, 0.9967856546542755, 0.9968202738957741, 0.9968545208674, 0.9968883995596853, 0.9969219139206564, 0.9969550678562789, 0.9969878652309008, 0.9970203098676917, 0.9970524055490746, 0.9970841560171559, 0.9971155649741483, 0.9971466360827936, 0.9971773729667768, 0.9972077792111369, 0.9972378583626766, 0.9972676139303647, 0.9972970493857332, 0.9973261681632752, 0.9973549736608329, 0.9973834692399874, 0.9974116582264383, 0.9974395439103858, 0.9974671295469024, 0.9974944183563064, 0.9975214135245292, 0.9975481182034767, 0.9975745355113912, 0.9976006685332048, 0.9976265203208956, 0.997652093893832, 0.9976773922391209, 0.9977024183119476, 0.9977271750359138, 0.9977516653033722, 0.9977758919757589, 0.9977998578839167, 0.9978235658284249, 0.9978470185799144, 0.9978702188793895, 0.9978931694385396, 0.9979158729400506, 0.9979383320379116, 0.9979605493577217, 0.9979825274969878, 0.9980042690254254, 0.9980257764852525, 0.9980470523914811, 0.9980680992322066, 0.9980889194688933, 0.9981095155366575, 0.9981298898445468, 0.9981500447758171, 0.998169982688208, 0.998189705914212, 0.9982092167613443, 0.9982285175124066, 0.998247610425752, 0.9982664977355433, 0.9982851816520115, 0.99830366436171, 0.9983219480277645, 0.9983400347901263, 0.9983579267658149, 0.9983756260491647, 0.9983931347120658, 0.9984104548042017, 0.9984275883532878, 0.9984445373653039, 0.9984613038247263, 0.9984778896947568, 0.9984942969175483, 0.9985105274144319, 0.9985265830861356, 0.9985424658130051, 0.9985581774552221, 0.9985737198530178, 0.9985890948268861, 0.9986043041777943, 0.9986193496873919, 0.9986342331182145, 0.9986489562138905, 0.9986635206993413, 0.9986779282809797, 0.9986921806469109, 0.998706279467124, 0.9987202263936885, 0.9987340230609434, 0.9987476710856875, 0.9987611720673673, 0.9987745275882602, 0.9987877392136604, 0.9988008084920583, 0.9988137369553218, 0.9988265261188718, 0.9988391774818597, 0.998851692527341, 0.9988640727224452, 0.9988763195185493, 0.9988884343514448, 0.9989004186415023, 0.9989122737938403, 0.9989240011984848, 0.9989356022305318, 0.9989470782503089, 0.9989584306035295, 0.9989696606214524, 0.9989807696210347, 0.9989917589050861, 0.9990026297624179, 0.999013383467996, 0.9990240212830859, 0.9990345444554021, 0.9990449542192512, 0.9990552517956761, 0.9990654383925983, 0.9990755152049571, 0.9990854834148508, 0.9990953441916717, 0.9991050986922443, 0.9991147480609588, 0.9991242934299034, 0.9991337359189982, 0.9991430766361247, 0.9991523166772533, 0.999161457126573, 0.9991704990566159, 0.9991794435283841, 0.9991882915914712, 0.9991970442841858, 0.9992057026336714, 0.9992142676560278, 0.9992227403564276, 0.9992311217292347, 0.9992394127581192, 0.9992476144161722, 0.9992557276660208, 0.9992637534599371, 0.9992716927399525, 0.9992795464379662, 0.9992873154758526, 0.9992950007655717, 0.9993026032092716, 0.9993101236993984, 0.9993175631187952, 0.99932492234081, 0.9993322022293938, 0.9993394036392036, 0.9993465274157012, 0.9993535743952513, 0.9993605454052217, 0.9993674412640758, 0.9993742627814726, 0.9993810107583567, 0.9993876859870567, 0.9993942892513732, 0.9994008213266725, 0.9994072829799778, 0.9994136749700566, 0.9994199980475122, 0.9994262529548681, 0.9994324404266577, 0.9994385611895082, 0.9994446159622261, 0.9994506054558805, 0.9994565303738892, 0.9994623914120955, 0.9994681892588557, 0.9994739245951134, 0.9994795980944842, 0.999485210423332, 0.9994907622408469, 0.9994962541991226, 0.9995016869432329, 0.9995070611113073, 0.9995123773346042, 0.9995176362375866, 0.9995228384379944, 0.9995279845469154, 0.9995330751688587, 0.9995381109018249, 0.9995430923373749, 0.9995480200606999, 0.9995528946506911, 0.9995577166800051, 0.9995624867151318, 0.9995672053164624, 0.9995718730383523, 0.9995764904291868, 0.999581058031447, 0.9995855763817707, 0.999590046011017, 0.999594467444328, 0.9995988412011896, 0.9996031677954929, 0.9996074477355947, 0.9996116815243774, 0.9996158696593054, 0.9996200126324857, 0.9996241109307247, 0.9996281650355869, 0.9996321754234474, 0.9996361425655518, 0.9996400669280692, 0.999643948972146, 0.9996477891539635, 0.9996515879247867, 0.9996553457310213, 0.9996590630142628, 0.9996627402113503, 0.9996663777544166, 0.9996699760709393, 0.9996735355837905, 0.9996770567112876, 0.9996805398672397, 0.9996839854609993, 0.9996873938975075, 0.9996907655773435, 0.9996941008967697, 0.9996974002477808, 0.9997006640181454, 0.9997038925914568, 0.999707086347174, 0.9997102456606672, 0.9997133709032633, 0.9997164624422863, 0.999719520641104, 0.9997225458591681, 0.9997255384520567, 0.9997284987715174, 0.9997314271655062, 0.999734323978231, 0.9997371895501899, 0.9997400242182113, 0.9997428283154945, 0.999745602171648, 0.9997483461127288, 0.9997510604612796, 0.9997537455363672, 0.9997564016536207, 0.999759029125266, 0.9997616282601658, 0.9997641993638542, 0.9997667427385712, 0.9997692586833, 0.9997717474938028, 0.9997742094626525, 0.99977664487927, 0.9997790540299556, 0.9997814371979252, 0.9997837946633412, 0.9997861267033479, 0.9997884335921015, 0.9997907156008019, 0.9997929729977293, 0.9997952060482691, 0.9997974150149476, 0.9997996001574616, 0.9998017617327086, 0.9998038999948162, 0.9998060151951744, 0.9998081075824616, 0.9998101774026777, 0.9998122248991692, 0.9998142503126604, 0.9998162538812798, 0.9998182358405909, 0.9998201964236166, 0.9998221358608672, 0.99982405438037, 0.9998259522076931, 0.9998278295659733, 0.9998296866759413, 0.9998315237559496, 0.9998333410219962, 0.9998351386877504, 0.9998369169645782, 0.9998386760615676, 0.9998404161855512, 0.9998421375411339, 0.9998438403307126, 0.999845524754504, 0.9998471910105651, 0.9998488392948188, 0.9998504698010748, 0.9998520827210537, 0.9998536782444098, 0.999855256558752, 0.9998568178496665, 0.9998583623007391, 0.9998598900935758, 0.9998614014078251, 0.9998628964211993, 0.9998643753094929, 0.9998658382466064, 0.9998672854045656, 0.9998687169535403, 0.9998701330618667, 0.999871533896066, 0.9998729196208633, 0.9998742903992086, 0.9998756463922933, 0.9998769877595732, 0.9998783146587829, 0.9998796272459569, 0.9998809256754482, 0.999882210099944, 0.9998834806704866, 0.9998847375364883, 0.9998859808457516, 0.9998872107444847, 0.9998884273773196, 0.9998896308873284, 0.9998908214160411, 0.9998919991034612, 0.9998931640880824, 0.9998943165069061, 0.9998954564954547, 0.9998965841877911, 0.9998976997165316, 0.9998988032128622, 0.9998998948065554, 0.9999009746259837, 0.9999020427981351, 0.9999030994486289, 0.9999041447017298, 0.9999051786803612, 0.9999062015061233, 0.9999072132993028]\n"
          ]
        },
        {
          "output_type": "stream",
          "name": "stderr",
          "text": [
            "\n"
          ]
        }
      ]
    },
    {
      "cell_type": "markdown",
      "source": [
        "## Performance on source validation dataset\n"
      ],
      "metadata": {
        "id": "JWgUpvmiz4Ip"
      }
    },
    {
      "cell_type": "code",
      "source": [
        "true_labels, predicted_labels, accuracy, precision, conf_matrix, class_report = performance_metric(model= dann_model_trained,\n",
        "                                                                                                   device= device,\n",
        "                                                                                                   data_loader = test_loader ,\n",
        "                                                                                                   )"
      ],
      "metadata": {
        "colab": {
          "base_uri": "https://localhost:8080/"
        },
        "id": "Gpk2yb-8z6yd",
        "outputId": "3c6fc4ee-47c9-4fb1-f329-d0739fbbef05"
      },
      "execution_count": null,
      "outputs": [
        {
          "output_type": "stream",
          "name": "stdout",
          "text": [
            "Accuracy: 0.9709\n",
            "Precision: 0.9715403511428155\n",
            "Confusion Matrix:\n",
            "     0     1     2    3    4    5    6     7    8    9\n",
            "0  971     1     2    0    1    0    1     4    0    0\n",
            "1    0  1131     3    1    0    0    0     0    0    0\n",
            "2    3     4  1014    1    1    0    0     9    0    0\n",
            "3    0     0     7  990    0    2    0    11    0    0\n",
            "4    0     1     0    0  976    0    2     3    0    0\n",
            "5    0     0     4   14    0  869    3     1    1    0\n",
            "6   18     7     0    0    5    2  925     0    1    0\n",
            "7    0    12     3    1    0    0    0  1011    0    1\n",
            "8   13     7     6   20    6    9    1     4  905    3\n",
            "9   10     4     2    1   43   11    1    15    5  917\n",
            "Classification Report:\n",
            "              precision    recall  f1-score   support\n",
            "\n",
            "           0       0.96      0.99      0.97       980\n",
            "           1       0.97      1.00      0.98      1135\n",
            "           2       0.97      0.98      0.98      1032\n",
            "           3       0.96      0.98      0.97      1010\n",
            "           4       0.95      0.99      0.97       982\n",
            "           5       0.97      0.97      0.97       892\n",
            "           6       0.99      0.97      0.98       958\n",
            "           7       0.96      0.98      0.97      1028\n",
            "           8       0.99      0.93      0.96       974\n",
            "           9       1.00      0.91      0.95      1009\n",
            "\n",
            "    accuracy                           0.97     10000\n",
            "   macro avg       0.97      0.97      0.97     10000\n",
            "weighted avg       0.97      0.97      0.97     10000\n",
            "\n"
          ]
        }
      ]
    },
    {
      "cell_type": "markdown",
      "source": [
        "## Performance on target validation dataset\n"
      ],
      "metadata": {
        "id": "ZTMibhbs0TTr"
      }
    },
    {
      "cell_type": "code",
      "source": [
        "true_labels, predicted_labels, accuracy, precision, conf_matrix, class_report = performance_metric(model= dann_model_trained,\n",
        "                                                                                                   device= device,\n",
        "                                                                                                   data_loader = dataloader_target_test ,\n",
        "                                                                                                   )"
      ],
      "metadata": {
        "colab": {
          "base_uri": "https://localhost:8080/"
        },
        "id": "2VGr7bTu0bji",
        "outputId": "8ff998fe-5b3e-4cfe-f4dd-3afb6f37571b"
      },
      "execution_count": null,
      "outputs": [
        {
          "output_type": "stream",
          "name": "stdout",
          "text": [
            "Accuracy: 0.47405843795133873\n",
            "Precision: 0.5923742192869561\n",
            "Confusion Matrix:\n",
            "     0    1    2    3    4    5    6    7    8    9\n",
            "0  485   46   10    1   14    6   66   15  126  109\n",
            "1   46  524   10    3   46    1    5   22  248  111\n",
            "2   79   38  352    1   20   10   71   49  183  130\n",
            "3   53   49   14  312    5   32    5   76  259  103\n",
            "4   39   48   18    1  388   13   21   26  190  146\n",
            "5   88   36    9    4    5  279   34   24  183  145\n",
            "6   90   49   25    0   39    5  378   16  146  108\n",
            "7   30   61   11    3   31    3    8  424  165  178\n",
            "8   59   48    5    3    9    7   14   26  636   73\n",
            "9   49   56    8    1   52    2    6   46  210  489\n",
            "Classification Report:\n",
            "              precision    recall  f1-score   support\n",
            "\n",
            "           0       0.48      0.55      0.51       878\n",
            "           1       0.55      0.52      0.53      1016\n",
            "           2       0.76      0.38      0.50       933\n",
            "           3       0.95      0.34      0.50       908\n",
            "           4       0.64      0.44      0.52       890\n",
            "           5       0.78      0.35      0.48       807\n",
            "           6       0.62      0.44      0.52       856\n",
            "           7       0.59      0.46      0.52       914\n",
            "           8       0.27      0.72      0.39       880\n",
            "           9       0.31      0.53      0.39       919\n",
            "\n",
            "    accuracy                           0.47      9001\n",
            "   macro avg       0.59      0.47      0.49      9001\n",
            "weighted avg       0.59      0.47      0.49      9001\n",
            "\n"
          ]
        }
      ]
    },
    {
      "cell_type": "markdown",
      "source": [
        "## Saving DANN model\n"
      ],
      "metadata": {
        "id": "GfBnKOb5zkER"
      }
    },
    {
      "cell_type": "code",
      "source": [
        "dir_suffix = str(time.strftime(\"%d_%m\"))\n",
        "\n",
        "SPECIFIC_MODEL_DIR = Path(os.path.join(model_drive_path, dir_suffix))\n",
        "if not SPECIFIC_MODEL_DIR.exists():\n",
        "    # Create the directory\n",
        "    SPECIFIC_MODEL_DIR.mkdir(parents=True, exist_ok=True)\n",
        "    print(f'Directory {SPECIFIC_MODEL_DIR} created successfully.')\n",
        "else:\n",
        "    print(f'Directory {SPECIFIC_MODEL_DIR} already exists.')"
      ],
      "metadata": {
        "colab": {
          "base_uri": "https://localhost:8080/"
        },
        "id": "rEVlQdlBzoSE",
        "outputId": "6fc592fc-66a5-4163-888b-aec06fbc709d"
      },
      "execution_count": null,
      "outputs": [
        {
          "output_type": "stream",
          "name": "stdout",
          "text": [
            "Directory /content/gdrive/MyDrive/da_demo/cv/models/26_06 already exists.\n"
          ]
        }
      ]
    },
    {
      "cell_type": "code",
      "source": [
        "dann_model_name = f'dann_{dir_suffix}.pt'\n",
        "print(\"\\nDO VERIFY THE MODEL NAME BEFORE MOVING AHEAD: \", dann_model_name)"
      ],
      "metadata": {
        "colab": {
          "base_uri": "https://localhost:8080/"
        },
        "id": "TlbMV8xSzrri",
        "outputId": "4252799d-9dcd-4703-8774-4dcf8621d35d"
      },
      "execution_count": null,
      "outputs": [
        {
          "output_type": "stream",
          "name": "stdout",
          "text": [
            "\n",
            "DO VERIFY THE MODEL NAME BEFORE MOVING AHEAD:  dann_26_06.pt\n"
          ]
        }
      ]
    },
    {
      "cell_type": "code",
      "source": [
        "\n",
        "try:\n",
        "    torch.save(dann_model_trained.state_dict(), Path(SPECIFIC_MODEL_DIR,dann_model_name))\n",
        "    print(f'{dann_model_name} SAVED at {Path(SPECIFIC_MODEL_DIR,dann_model_name)}!')\n",
        "except:\n",
        "    print(f'Problem in saving {dann_model_name}, NOT SAVED!')"
      ],
      "metadata": {
        "colab": {
          "base_uri": "https://localhost:8080/"
        },
        "id": "rWSkqPPbzzr_",
        "outputId": "4d22aada-e86a-4cd5-8a40-b2f9b4d08755"
      },
      "execution_count": null,
      "outputs": [
        {
          "output_type": "stream",
          "name": "stdout",
          "text": [
            "dann_26_06.pt SAVED at /content/gdrive/MyDrive/da_demo/cv/models/26_06/dann_26_06.pt!\n"
          ]
        }
      ]
    },
    {
      "cell_type": "markdown",
      "source": [
        "# INFERENCE Loading Saved Models"
      ],
      "metadata": {
        "id": "yEn1lvf3El4A"
      }
    },
    {
      "cell_type": "code",
      "source": [
        "infer_non_dann_model_name = 'non_dann_26_06.pt'\n",
        "infer_dann_model_name = 'dann_26_06.pt'\n",
        "\n",
        "dir_suffix = '26_06' # str(time.strftime(\"%d_%m\"))\n",
        "\n",
        "SPECIFIC_MODEL_DIR = Path(os.path.join(model_drive_path, dir_suffix))\n",
        "\n",
        "infer_non_dann_model_path = Path(SPECIFIC_MODEL_DIR,infer_non_dann_model_name)\n",
        "infer_dann_model_path = Path(SPECIFIC_MODEL_DIR,infer_dann_model_name)\n",
        "\n",
        "print(\"\\n**** NON DANN model name that would be used for loading: \", infer_non_dann_model_path)\n",
        "\n",
        "print(\"\\n**** DANN model name that would be used for loading: \", infer_dann_model_path)\n"
      ],
      "metadata": {
        "colab": {
          "base_uri": "https://localhost:8080/"
        },
        "id": "iCUbBzBdExla",
        "outputId": "aac566c3-7c12-4ee7-b723-1d775ebf6486"
      },
      "execution_count": null,
      "outputs": [
        {
          "output_type": "stream",
          "name": "stdout",
          "text": [
            "\n",
            "**** NON DANN model name that would be used for loading:  /content/gdrive/MyDrive/da_demo/cv/models/26_06/non_dann_26_06.pt\n",
            "\n",
            "**** DANN model name that would be used for loading:  /content/gdrive/MyDrive/da_demo/cv/models/26_06/dann_26_06.pt\n"
          ]
        }
      ]
    },
    {
      "cell_type": "markdown",
      "source": [
        "## Load structure of models & state dictionary\n"
      ],
      "metadata": {
        "id": "59UP69C7FBUS"
      }
    },
    {
      "cell_type": "code",
      "source": [
        "if not device:\n",
        "  use_cuda = torch.cuda.is_available()\n",
        "  device = torch.device(\"cuda\" if use_cuda else \"cpu\")\n",
        "print(device)"
      ],
      "metadata": {
        "colab": {
          "base_uri": "https://localhost:8080/"
        },
        "id": "YphGHGhuFFoW",
        "outputId": "8a2fee68-4868-4eac-febf-0466524ba9ef"
      },
      "execution_count": null,
      "outputs": [
        {
          "output_type": "stream",
          "name": "stdout",
          "text": [
            "cpu\n"
          ]
        }
      ]
    },
    {
      "cell_type": "code",
      "source": [
        "infer_model_non_dann = Network().to(device)\n",
        "infer_model_non_dann.load_state_dict(torch.load(infer_non_dann_model_path,map_location = torch.device(device)))\n"
      ],
      "metadata": {
        "colab": {
          "base_uri": "https://localhost:8080/"
        },
        "id": "PIWEGHEBFKRf",
        "outputId": "c2c7cdc8-7deb-4f9c-adb8-b9510a1ff8e3"
      },
      "execution_count": null,
      "outputs": [
        {
          "output_type": "execute_result",
          "data": {
            "text/plain": [
              "<All keys matched successfully>"
            ]
          },
          "metadata": {},
          "execution_count": 84
        }
      ]
    },
    {
      "cell_type": "code",
      "source": [
        "infer_model_dann = Network().to(device)\n",
        "infer_model_dann.load_state_dict(torch.load(infer_dann_model_path,map_location = torch.device(device)))"
      ],
      "metadata": {
        "colab": {
          "base_uri": "https://localhost:8080/"
        },
        "id": "zJIJhMA6F-3o",
        "outputId": "bf914dfc-805c-463f-8ff9-f9c2e182b262"
      },
      "execution_count": null,
      "outputs": [
        {
          "output_type": "execute_result",
          "data": {
            "text/plain": [
              "<All keys matched successfully>"
            ]
          },
          "metadata": {},
          "execution_count": 85
        }
      ]
    },
    {
      "cell_type": "code",
      "source": [
        "infer_model_non_dann"
      ],
      "metadata": {
        "colab": {
          "base_uri": "https://localhost:8080/"
        },
        "id": "mdh0Ql0kFcn2",
        "outputId": "73ef095f-6cc5-443b-b05d-1f33be48f19b"
      },
      "execution_count": null,
      "outputs": [
        {
          "output_type": "execute_result",
          "data": {
            "text/plain": [
              "Network(\n",
              "  (feature_extractor): Sequential(\n",
              "    (0): Conv2d(3, 16, kernel_size=(3, 3), stride=(1, 1), bias=False)\n",
              "    (1): ReLU()\n",
              "    (2): BatchNorm2d(16, eps=1e-05, momentum=0.1, affine=True, track_running_stats=True)\n",
              "    (3): Dropout(p=0.1, inplace=False)\n",
              "    (4): Conv2d(16, 16, kernel_size=(3, 3), stride=(1, 1), bias=False)\n",
              "    (5): ReLU()\n",
              "    (6): BatchNorm2d(16, eps=1e-05, momentum=0.1, affine=True, track_running_stats=True)\n",
              "    (7): Dropout(p=0.1, inplace=False)\n",
              "    (8): Conv2d(16, 16, kernel_size=(3, 3), stride=(1, 1), bias=False)\n",
              "    (9): ReLU()\n",
              "    (10): BatchNorm2d(16, eps=1e-05, momentum=0.1, affine=True, track_running_stats=True)\n",
              "    (11): Dropout(p=0.1, inplace=False)\n",
              "    (12): MaxPool2d(kernel_size=2, stride=2, padding=0, dilation=1, ceil_mode=False)\n",
              "    (13): Conv2d(16, 16, kernel_size=(3, 3), stride=(1, 1), bias=False)\n",
              "    (14): ReLU()\n",
              "    (15): BatchNorm2d(16, eps=1e-05, momentum=0.1, affine=True, track_running_stats=True)\n",
              "    (16): Dropout(p=0.1, inplace=False)\n",
              "    (17): Conv2d(16, 32, kernel_size=(3, 3), stride=(1, 1), bias=False)\n",
              "    (18): ReLU()\n",
              "    (19): BatchNorm2d(32, eps=1e-05, momentum=0.1, affine=True, track_running_stats=True)\n",
              "    (20): Dropout(p=0.1, inplace=False)\n",
              "    (21): Conv2d(32, 64, kernel_size=(1, 1), stride=(1, 1), bias=False)\n",
              "    (22): AvgPool2d(kernel_size=7, stride=7, padding=0)\n",
              "  )\n",
              "  (class_classifier): Sequential(\n",
              "    (0): ReLU()\n",
              "    (1): Dropout(p=0.1, inplace=False)\n",
              "    (2): Linear(in_features=64, out_features=50, bias=True)\n",
              "    (3): BatchNorm1d(50, eps=1e-05, momentum=0.1, affine=True, track_running_stats=True)\n",
              "    (4): ReLU()\n",
              "    (5): Dropout(p=0.1, inplace=False)\n",
              "    (6): Linear(in_features=50, out_features=10, bias=True)\n",
              "  )\n",
              "  (domain_classifier): Sequential(\n",
              "    (0): ReLU()\n",
              "    (1): Dropout(p=0.1, inplace=False)\n",
              "    (2): Linear(in_features=64, out_features=50, bias=True)\n",
              "    (3): BatchNorm1d(50, eps=1e-05, momentum=0.1, affine=True, track_running_stats=True)\n",
              "    (4): ReLU()\n",
              "    (5): Dropout(p=0.1, inplace=False)\n",
              "    (6): Linear(in_features=50, out_features=2, bias=True)\n",
              "  )\n",
              ")"
            ]
          },
          "metadata": {},
          "execution_count": 86
        }
      ]
    },
    {
      "cell_type": "code",
      "source": [
        "infer_model_dann"
      ],
      "metadata": {
        "colab": {
          "base_uri": "https://localhost:8080/"
        },
        "id": "V4LRO_WJGQeN",
        "outputId": "1ab808f9-0cd3-4c41-c5fb-d9b5c7a2e33e"
      },
      "execution_count": null,
      "outputs": [
        {
          "output_type": "execute_result",
          "data": {
            "text/plain": [
              "Network(\n",
              "  (feature_extractor): Sequential(\n",
              "    (0): Conv2d(3, 16, kernel_size=(3, 3), stride=(1, 1), bias=False)\n",
              "    (1): ReLU()\n",
              "    (2): BatchNorm2d(16, eps=1e-05, momentum=0.1, affine=True, track_running_stats=True)\n",
              "    (3): Dropout(p=0.1, inplace=False)\n",
              "    (4): Conv2d(16, 16, kernel_size=(3, 3), stride=(1, 1), bias=False)\n",
              "    (5): ReLU()\n",
              "    (6): BatchNorm2d(16, eps=1e-05, momentum=0.1, affine=True, track_running_stats=True)\n",
              "    (7): Dropout(p=0.1, inplace=False)\n",
              "    (8): Conv2d(16, 16, kernel_size=(3, 3), stride=(1, 1), bias=False)\n",
              "    (9): ReLU()\n",
              "    (10): BatchNorm2d(16, eps=1e-05, momentum=0.1, affine=True, track_running_stats=True)\n",
              "    (11): Dropout(p=0.1, inplace=False)\n",
              "    (12): MaxPool2d(kernel_size=2, stride=2, padding=0, dilation=1, ceil_mode=False)\n",
              "    (13): Conv2d(16, 16, kernel_size=(3, 3), stride=(1, 1), bias=False)\n",
              "    (14): ReLU()\n",
              "    (15): BatchNorm2d(16, eps=1e-05, momentum=0.1, affine=True, track_running_stats=True)\n",
              "    (16): Dropout(p=0.1, inplace=False)\n",
              "    (17): Conv2d(16, 32, kernel_size=(3, 3), stride=(1, 1), bias=False)\n",
              "    (18): ReLU()\n",
              "    (19): BatchNorm2d(32, eps=1e-05, momentum=0.1, affine=True, track_running_stats=True)\n",
              "    (20): Dropout(p=0.1, inplace=False)\n",
              "    (21): Conv2d(32, 64, kernel_size=(1, 1), stride=(1, 1), bias=False)\n",
              "    (22): AvgPool2d(kernel_size=7, stride=7, padding=0)\n",
              "  )\n",
              "  (class_classifier): Sequential(\n",
              "    (0): ReLU()\n",
              "    (1): Dropout(p=0.1, inplace=False)\n",
              "    (2): Linear(in_features=64, out_features=50, bias=True)\n",
              "    (3): BatchNorm1d(50, eps=1e-05, momentum=0.1, affine=True, track_running_stats=True)\n",
              "    (4): ReLU()\n",
              "    (5): Dropout(p=0.1, inplace=False)\n",
              "    (6): Linear(in_features=50, out_features=10, bias=True)\n",
              "  )\n",
              "  (domain_classifier): Sequential(\n",
              "    (0): ReLU()\n",
              "    (1): Dropout(p=0.1, inplace=False)\n",
              "    (2): Linear(in_features=64, out_features=50, bias=True)\n",
              "    (3): BatchNorm1d(50, eps=1e-05, momentum=0.1, affine=True, track_running_stats=True)\n",
              "    (4): ReLU()\n",
              "    (5): Dropout(p=0.1, inplace=False)\n",
              "    (6): Linear(in_features=50, out_features=2, bias=True)\n",
              "  )\n",
              ")"
            ]
          },
          "metadata": {},
          "execution_count": 87
        }
      ]
    },
    {
      "cell_type": "code",
      "source": [
        "params = {name: param for name, param in model_non_dann_infer.named_parameters() if param.requires_grad}\n",
        "params.keys()"
      ],
      "metadata": {
        "colab": {
          "base_uri": "https://localhost:8080/"
        },
        "id": "cARm4ndKFkPm",
        "outputId": "900b5b55-4d8a-4fe0-f975-c1f0d453737b"
      },
      "execution_count": null,
      "outputs": [
        {
          "output_type": "execute_result",
          "data": {
            "text/plain": [
              "dict_keys(['feature_extractor.0.weight', 'feature_extractor.2.weight', 'feature_extractor.2.bias', 'feature_extractor.4.weight', 'feature_extractor.6.weight', 'feature_extractor.6.bias', 'feature_extractor.8.weight', 'feature_extractor.10.weight', 'feature_extractor.10.bias', 'feature_extractor.13.weight', 'feature_extractor.15.weight', 'feature_extractor.15.bias', 'feature_extractor.17.weight', 'feature_extractor.19.weight', 'feature_extractor.19.bias', 'feature_extractor.21.weight', 'class_classifier.2.weight', 'class_classifier.2.bias', 'class_classifier.3.weight', 'class_classifier.3.bias', 'class_classifier.6.weight', 'class_classifier.6.bias', 'domain_classifier.2.weight', 'domain_classifier.2.bias', 'domain_classifier.3.weight', 'domain_classifier.3.bias', 'domain_classifier.6.weight', 'domain_classifier.6.bias'])"
            ]
          },
          "metadata": {},
          "execution_count": 63
        }
      ]
    },
    {
      "cell_type": "markdown",
      "source": [
        "# Infer on loaded models"
      ],
      "metadata": {
        "id": "FQJZ7SFSF904"
      }
    },
    {
      "cell_type": "markdown",
      "source": [
        "### Source Test Dataset"
      ],
      "metadata": {
        "id": "Wa-FdqDiGIEn"
      }
    },
    {
      "cell_type": "code",
      "source": [
        "true_labels, predicted_labels, accuracy, precision, conf_matrix, class_report = performance_metric(model= infer_model_non_dann,\n",
        "                                                                                                   device= device,\n",
        "                                                                                                   data_loader = test_loader ,\n",
        "                                                                                                   )"
      ],
      "metadata": {
        "colab": {
          "base_uri": "https://localhost:8080/"
        },
        "id": "lu94CJ0wGLx5",
        "outputId": "11e88ef0-29f8-4834-82c9-a01692e28b4b"
      },
      "execution_count": null,
      "outputs": [
        {
          "output_type": "stream",
          "name": "stdout",
          "text": [
            "Accuracy: 0.983\n",
            "Precision: 0.983107670243715\n",
            "Confusion Matrix:\n",
            "     0     1     2    3    4    5    6     7    8    9\n",
            "0  972     1     2    0    0    0    3     2    0    0\n",
            "1    0  1124     4    0    0    1    5     1    0    0\n",
            "2    2     0  1017    0    2    0    6     3    2    0\n",
            "3    0     0     4  990    0    5    0     7    4    0\n",
            "4    0     0     0    0  971    0    7     2    0    2\n",
            "5    0     0     1    5    0  872    4     2    6    2\n",
            "6    9     2     0    0    1    1  943     0    2    0\n",
            "7    0     3     4    1    0    0    0  1018    0    2\n",
            "8    3     0     2    0    4    1    1     3  958    2\n",
            "9    8     0     1    0   17    2    2     7    7  965\n",
            "Classification Report:\n",
            "              precision    recall  f1-score   support\n",
            "\n",
            "           0       0.98      0.99      0.98       980\n",
            "           1       0.99      0.99      0.99      1135\n",
            "           2       0.98      0.99      0.98      1032\n",
            "           3       0.99      0.98      0.99      1010\n",
            "           4       0.98      0.99      0.98       982\n",
            "           5       0.99      0.98      0.98       892\n",
            "           6       0.97      0.98      0.98       958\n",
            "           7       0.97      0.99      0.98      1028\n",
            "           8       0.98      0.98      0.98       974\n",
            "           9       0.99      0.96      0.97      1009\n",
            "\n",
            "    accuracy                           0.98     10000\n",
            "   macro avg       0.98      0.98      0.98     10000\n",
            "weighted avg       0.98      0.98      0.98     10000\n",
            "\n"
          ]
        }
      ]
    },
    {
      "cell_type": "markdown",
      "source": [
        "### Target Test Dataset on Non DANN"
      ],
      "metadata": {
        "id": "wt-egjikGGFj"
      }
    },
    {
      "cell_type": "code",
      "source": [
        "true_labels, predicted_labels, accuracy, precision, conf_matrix, class_report = performance_metric(model= infer_model_non_dann,\n",
        "                                                                                                   device= device,\n",
        "                                                                                                   data_loader = dataloader_target_test ,\n",
        "                                                                                                   )"
      ],
      "metadata": {
        "colab": {
          "base_uri": "https://localhost:8080/"
        },
        "id": "vlqBh7jnFtEM",
        "outputId": "1433a059-8eb3-483a-f70c-a53366e43ab7"
      },
      "execution_count": null,
      "outputs": [
        {
          "output_type": "stream",
          "name": "stdout",
          "text": [
            "Accuracy: 0.33985112765248304\n",
            "Precision: 0.7484327284691743\n",
            "Confusion Matrix:\n",
            "     0    1    2    3    4    5    6    7    8    9\n",
            "0  290    0    0    0    8   37    7    0  532    4\n",
            "1   27  306    2    0   20    1   15    6  634    5\n",
            "2    3    0  252    0   21   51    7    5  591    3\n",
            "3    4    1   22  179    3   29    0   11  658    1\n",
            "4    8    1    0    1  303   29    5    2  528   13\n",
            "5    3    1    1    1    3  199    2    1  594    2\n",
            "6   36    0    4    0   40   20  233    0  519    4\n",
            "7    1    8    5    4   17   12    0  268  592    7\n",
            "8    8    0    0    0    3   10    1    1  857    0\n",
            "9    6    2    2    0   51   13    1    3  669  172\n",
            "Classification Report:\n",
            "              precision    recall  f1-score   support\n",
            "\n",
            "           0       0.75      0.33      0.46       878\n",
            "           1       0.96      0.30      0.46      1016\n",
            "           2       0.88      0.27      0.41       933\n",
            "           3       0.97      0.20      0.33       908\n",
            "           4       0.65      0.34      0.45       890\n",
            "           5       0.50      0.25      0.33       807\n",
            "           6       0.86      0.27      0.41       856\n",
            "           7       0.90      0.29      0.44       914\n",
            "           8       0.14      0.97      0.24       880\n",
            "           9       0.82      0.19      0.30       919\n",
            "\n",
            "    accuracy                           0.34      9001\n",
            "   macro avg       0.74      0.34      0.38      9001\n",
            "weighted avg       0.75      0.34      0.39      9001\n",
            "\n"
          ]
        }
      ]
    },
    {
      "cell_type": "markdown",
      "source": [
        "### Target test data on DANN model"
      ],
      "metadata": {
        "id": "YXCC5BdcHXuB"
      }
    },
    {
      "cell_type": "code",
      "source": [
        "true_labels, predicted_labels, accuracy, precision, conf_matrix, class_report = performance_metric(model= infer_model_dann,\n",
        "                                                                                                   device= device,\n",
        "                                                                                                   data_loader = dataloader_target_test ,\n",
        "                                                                                                   )"
      ],
      "metadata": {
        "colab": {
          "base_uri": "https://localhost:8080/"
        },
        "id": "ZEnm2pEcHTVI",
        "outputId": "a72227b6-39c1-4664-dc0a-43baa614780a"
      },
      "execution_count": null,
      "outputs": [
        {
          "output_type": "stream",
          "name": "stdout",
          "text": [
            "Accuracy: 0.47405843795133873\n",
            "Precision: 0.5923742192869561\n",
            "Confusion Matrix:\n",
            "     0    1    2    3    4    5    6    7    8    9\n",
            "0  485   46   10    1   14    6   66   15  126  109\n",
            "1   46  524   10    3   46    1    5   22  248  111\n",
            "2   79   38  352    1   20   10   71   49  183  130\n",
            "3   53   49   14  312    5   32    5   76  259  103\n",
            "4   39   48   18    1  388   13   21   26  190  146\n",
            "5   88   36    9    4    5  279   34   24  183  145\n",
            "6   90   49   25    0   39    5  378   16  146  108\n",
            "7   30   61   11    3   31    3    8  424  165  178\n",
            "8   59   48    5    3    9    7   14   26  636   73\n",
            "9   49   56    8    1   52    2    6   46  210  489\n",
            "Classification Report:\n",
            "              precision    recall  f1-score   support\n",
            "\n",
            "           0       0.48      0.55      0.51       878\n",
            "           1       0.55      0.52      0.53      1016\n",
            "           2       0.76      0.38      0.50       933\n",
            "           3       0.95      0.34      0.50       908\n",
            "           4       0.64      0.44      0.52       890\n",
            "           5       0.78      0.35      0.48       807\n",
            "           6       0.62      0.44      0.52       856\n",
            "           7       0.59      0.46      0.52       914\n",
            "           8       0.27      0.72      0.39       880\n",
            "           9       0.31      0.53      0.39       919\n",
            "\n",
            "    accuracy                           0.47      9001\n",
            "   macro avg       0.59      0.47      0.49      9001\n",
            "weighted avg       0.59      0.47      0.49      9001\n",
            "\n"
          ]
        }
      ]
    },
    {
      "cell_type": "markdown",
      "source": [
        "### Plot misclassified images"
      ],
      "metadata": {
        "id": "Lu0hXlGwSmsG"
      }
    },
    {
      "cell_type": "code",
      "source": [
        "a= get_misclassified_images_list(model = infer_model_non_dann,\n",
        "                                  device = device,\n",
        "                                  test_loader = test_loader,\n",
        "                                  num_image = 20,\n",
        "                                  class_names = ['0', '1', '2', '3', '4', '5', '6', '7', '8', '9'])\n",
        "plot_misclassified_images(a)"
      ],
      "metadata": {
        "colab": {
          "base_uri": "https://localhost:8080/",
          "height": 423
        },
        "id": "vTV3fWvXPqvu",
        "outputId": "ac65fe19-b40e-41d7-b963-3c50591e3703"
      },
      "execution_count": null,
      "outputs": [
        {
          "output_type": "display_data",
          "data": {
            "text/plain": [
              "<Figure size 1000x500 with 10 Axes>"
            ],
            "image/png": "[encoded data removed]"
          },
          "metadata": {}
        }
      ]
    },
    {
      "cell_type": "code",
      "source": [
        "target_misclassified_images= get_misclassified_images_list(model = infer_model_non_dann,\n",
        "                                  device = device,\n",
        "                                  test_loader = dataloader_target_test,\n",
        "                                  num_image = 20,\n",
        "                                  class_names = ['0', '1', '2', '3', '4', '5', '6', '7', '8', '9'])\n",
        "plot_misclassified_images(target_misclassified_images, num_image = 20)"
      ],
      "metadata": {
        "colab": {
          "base_uri": "https://localhost:8080/",
          "height": 348
        },
        "id": "Wl34EZKQVgUD",
        "outputId": "d9384c76-837d-4367-bb9a-068a8f1a90a7"
      },
      "execution_count": null,
      "outputs": [
        {
          "output_type": "display_data",
          "data": {
            "text/plain": [
              "<Figure size 1000x500 with 20 Axes>"
            ],
            "image/png": "[encoded data removed]"
          },
          "metadata": {}
        }
      ]
    },
    {
      "cell_type": "markdown",
      "source": [
        "### Saving the misclassified images"
      ],
      "metadata": {
        "id": "WElWws-WBEt9"
      }
    },
    {
      "cell_type": "code",
      "source": [
        "torch.save(target_misclassified_images, Path(SPECIFIC_MODEL_DIR,'target_misclassified_images.pt'))"
      ],
      "metadata": {
        "id": "jbFVi-8lBEPP"
      },
      "execution_count": null,
      "outputs": []
    },
    {
      "cell_type": "code",
      "source": [
        "# Load the list of tensors from the file\n",
        "loaded_misclassified_image_list = torch.load(Path(Path(SPECIFIC_MODEL_DIR,'target_misclassified_images.pt')))\n",
        "\n",
        "# Verify the loaded tensors\n",
        "for batch in loaded_misclassified_image_list:\n",
        "    print(batch[0],batch[1],batch[2])\n",
        "    break"
      ],
      "metadata": {
        "colab": {
          "base_uri": "https://localhost:8080/"
        },
        "id": "Fd_fridACwI-",
        "outputId": "2c6d650a-423e-469c-e3b1-0e79721941c2"
      },
      "execution_count": null,
      "outputs": [
        {
          "output_type": "stream",
          "name": "stdout",
          "text": [
            "tensor([[[0.8039, 0.6314, 0.6510,  ..., 0.9569, 0.9843, 0.9922],\n",
            "         [0.6510, 0.6627, 0.7176,  ..., 0.7294, 0.8667, 0.9412],\n",
            "         [0.4824, 0.6118, 0.6863,  ..., 0.5020, 0.6157, 0.7608],\n",
            "         ...,\n",
            "         [0.6078, 0.5569, 0.6824,  ..., 0.9216, 0.9804, 0.9843],\n",
            "         [0.5059, 0.5333, 0.6392,  ..., 0.6667, 0.6902, 0.7176],\n",
            "         [0.4667, 0.4902, 0.5569,  ..., 0.6235, 0.5098, 0.4000]],\n",
            "\n",
            "        [[0.8510, 0.6824, 0.7216,  ..., 0.9804, 0.9961, 0.9961],\n",
            "         [0.6784, 0.6824, 0.7608,  ..., 0.8039, 0.9176, 0.9686],\n",
            "         [0.5176, 0.6392, 0.7294,  ..., 0.5843, 0.6902, 0.8196],\n",
            "         ...,\n",
            "         [0.6196, 0.5725, 0.7020,  ..., 0.9569, 0.9922, 0.9961],\n",
            "         [0.5176, 0.5569, 0.6706,  ..., 0.7020, 0.7098, 0.7333],\n",
            "         [0.4784, 0.5137, 0.5882,  ..., 0.6627, 0.5451, 0.4392]],\n",
            "\n",
            "        [[0.8275, 0.6745, 0.7294,  ..., 0.9529, 0.9804, 0.9922],\n",
            "         [0.6157, 0.6627, 0.7725,  ..., 0.7255, 0.8745, 0.9490],\n",
            "         [0.4549, 0.6039, 0.7176,  ..., 0.4941, 0.6275, 0.7843],\n",
            "         ...,\n",
            "         [0.4824, 0.4549, 0.6353,  ..., 0.9490, 0.9843, 0.9843],\n",
            "         [0.3451, 0.4078, 0.5725,  ..., 0.6863, 0.6902, 0.7020],\n",
            "         [0.3098, 0.3569, 0.4627,  ..., 0.6275, 0.5020, 0.3804]]]) tensor(5) tensor([8])\n"
          ]
        }
      ]
    },
    {
      "cell_type": "code",
      "source": [
        "plot_misclassified_images(loaded_misclassified_image_list, num_image = 20)"
      ],
      "metadata": {
        "colab": {
          "base_uri": "https://localhost:8080/",
          "height": 348
        },
        "id": "j6hlhUzdD4ms",
        "outputId": "fdb287fa-a8ea-40f0-bc88-badca89d6e38"
      },
      "execution_count": null,
      "outputs": [
        {
          "output_type": "display_data",
          "data": {
            "text/plain": [
              "<Figure size 1000x500 with 20 Axes>"
            ],
            "image/png": "[encoded data removed]"
          },
          "metadata": {}
        }
      ]
    },
    {
      "cell_type": "code",
      "source": [
        "loaded_misclassified_image_list"
      ],
      "metadata": {
        "id": "w_FuychUEQz5"
      },
      "execution_count": null,
      "outputs": []
    },
    {
      "cell_type": "code",
      "source": [
        "for idx, data in enumerate(a):\n",
        "  print (idx,data[3])"
      ],
      "metadata": {
        "colab": {
          "base_uri": "https://localhost:8080/"
        },
        "id": "ImQJhKWycaRM",
        "outputId": "5f1e0390-42a3-4f80-b3e1-ab9ea257cd1d"
      },
      "execution_count": null,
      "outputs": [
        {
          "output_type": "stream",
          "name": "stdout",
          "text": [
            "0 00001139.png\n",
            "1 00002847.png\n",
            "2 00008441.png\n",
            "3 00004754.png\n",
            "4 00003746.png\n",
            "5 00004250.png\n",
            "6 00008507.png\n",
            "7 00007218.png\n",
            "8 00007493.png\n",
            "9 00004365.png\n",
            "10 00001507.png\n",
            "11 00003029.png\n",
            "12 00004191.png\n",
            "13 00005718.png\n",
            "14 00008274.png\n",
            "15 00005779.png\n",
            "16 00008430.png\n",
            "17 00008709.png\n",
            "18 00001172.png\n",
            "19 00008192.png\n"
          ]
        }
      ]
    },
    {
      "cell_type": "code",
      "source": [],
      "metadata": {
        "id": "ofBX5LXNdNo2"
      },
      "execution_count": null,
      "outputs": []
    }
  ]
}