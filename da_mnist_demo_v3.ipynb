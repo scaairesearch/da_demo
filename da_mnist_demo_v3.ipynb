{
  "nbformat": 4,
  "nbformat_minor": 0,
  "metadata": {
    "colab": {
      "provenance": [],
      "collapsed_sections": [
        "FG0LpIf51K_I",
        "sl3XiBCm-v43"
      ],
      "toc_visible": true,
      "include_colab_link": true
    },
    "kernelspec": {
      "name": "python3",
      "display_name": "Python 3"
    },
    "language_info": {
      "name": "python"
    }
  },
  "cells": [
    {
      "cell_type": "markdown",
      "metadata": {
        "id": "view-in-github",
        "colab_type": "text"
      },
      "source": [
        "<a href=\"https://colab.research.google.com/github/scaairesearch/da_demo/blob/main/da_mnist_demo_v3.ipynb\" target=\"_parent\"><img src=\"https://colab.research.google.com/assets/colab-badge.svg\" alt=\"Open In Colab\"/></a>"
      ]
    },
    {
      "cell_type": "markdown",
      "source": [
        "# Domain Adaptation Demonstration\n",
        "- get data (v1)\n",
        "- create model architecture (v1)\n",
        "- train baseline and non-da (v2)\n",
        "- save baseline model (v3)\n",
        "- train and test DANN\n",
        "- save DANN\n",
        "- train and test DANN EWC\n",
        "- save DANN EWC\n",
        "- infer model from the saved model (v3 - baseline)\n",
        "- grad cam on correctly classified and misclassified images\n",
        "- mis classified images"
      ],
      "metadata": {
        "id": "dhu3y_IwfiBS"
      }
    },
    {
      "cell_type": "markdown",
      "source": [
        "# Objective / Target\n",
        "**Objective / Target**\n",
        "* Increase accuracy by increasing capacity\n",
        "* Play with LR\n",
        "\n",
        "**Results**\n",
        "\n",
        "* Parameters: 7,900\n",
        "* Best Train Accuracy: 98.91\n",
        "* Best Test Accuracy: 99.31\n",
        "\n",
        "**Analysis**\n",
        "\n",
        "* Not Able to hit the accuracy mark\n",
        "* Overfitting (train - test accuracy) < 0 is largely containted, model underfits (Target not achieved)\n",
        "* LR has played its role to move up the accuracy\n",
        "* Number of params < 8K\n",
        "* Adding params near output helped much, so did removing input\n",
        "\n",
        "**Next Steps**\n",
        "\n",
        "* Play with large LR\n"
      ],
      "metadata": {
        "id": "y1FTBU_m-bRm"
      }
    },
    {
      "cell_type": "markdown",
      "source": [
        "# Importing Libraries"
      ],
      "metadata": {
        "id": "xcGwRKr5_lZw"
      }
    },
    {
      "cell_type": "code",
      "execution_count": 36,
      "metadata": {
        "id": "D6yRS8Pc-GUk",
        "colab": {
          "base_uri": "https://localhost:8080/"
        },
        "outputId": "45f90208-5551-43ce-a2f9-1f9c8bc78394"
      },
      "outputs": [
        {
          "output_type": "stream",
          "name": "stdout",
          "text": [
            "Requirement already satisfied: torchsummary in /usr/local/lib/python3.10/dist-packages (1.5.1)\n"
          ]
        }
      ],
      "source": [
        "import torch\n",
        "from torchvision import datasets,transforms\n",
        "%matplotlib inline\n",
        "import numpy as np\n",
        "import matplotlib.pyplot as plt # for visualizing images\n",
        "import random # for random image index\n",
        "import torch.nn as nn # for network\n",
        "import torch.nn.functional as F # for forward method\n",
        "import torch.optim as optim # for optimizer\n",
        "!pip install torchsummary\n",
        "from torchsummary import summary # for model summary and params\n",
        "from tqdm import tqdm # for beautiful model training updates\n",
        "# from torch.utils.data import dataset # for MNISTM dataset\n",
        "from PIL import Image\n",
        "import os\n",
        "from torch.optim.lr_scheduler import ReduceLROnPlateau\n",
        "from copy import deepcopy\n",
        "import time\n"
      ]
    },
    {
      "cell_type": "code",
      "source": [
        "str(time.strftime(\"%d_%m\"))"
      ],
      "metadata": {
        "colab": {
          "base_uri": "https://localhost:8080/",
          "height": 35
        },
        "id": "wPRONx7kC90L",
        "outputId": "e0b319d9-31d6-466c-d42b-3c8067db32f7"
      },
      "execution_count": 38,
      "outputs": [
        {
          "output_type": "execute_result",
          "data": {
            "text/plain": [
              "'26_06'"
            ],
            "application/vnd.google.colaboratory.intrinsic+json": {
              "type": "string"
            }
          },
          "metadata": {},
          "execution_count": 38
        }
      ]
    },
    {
      "cell_type": "markdown",
      "source": [
        "## Seed and Cuda"
      ],
      "metadata": {
        "id": "S0aDMenbFZMj"
      }
    },
    {
      "cell_type": "code",
      "source": [
        "# check for cuda\n",
        "cuda = torch.cuda.is_available()\n",
        "print (f' Cuda Status : {cuda}')\n",
        "\n",
        "# setting seed\n",
        "SEED = 42 # arbit seed, why 42 - because in hitch hikers guide to galaxy it is answer to everything\n",
        "# torch.cuda.seed(SEED)\n",
        "torch.cuda.manual_seed_all(SEED) if cuda else torch.manual_seed(SEED)\n",
        "\n",
        "device = torch.device(\"cuda\" if cuda else \"cpu\")\n",
        "print(device)"
      ],
      "metadata": {
        "id": "Y9TiFsydFcRz",
        "colab": {
          "base_uri": "https://localhost:8080/"
        },
        "outputId": "2af7640c-5ac9-4711-fb28-2505071968b8"
      },
      "execution_count": 2,
      "outputs": [
        {
          "output_type": "stream",
          "name": "stdout",
          "text": [
            " Cuda Status : False\n",
            "cpu\n"
          ]
        }
      ]
    },
    {
      "cell_type": "markdown",
      "source": [
        "## Constants"
      ],
      "metadata": {
        "id": "_ua7eqK-zJF4"
      }
    },
    {
      "cell_type": "code",
      "source": [
        "img_size = 28 # for mnist\n",
        "cpu_batch_size = 64\n",
        "cuda_batch_size = 128\n",
        "EPOCHS = 1 # 15 if cuda else 2\n",
        "\n",
        "target_drive_path = '/content/gdrive/MyDrive/mnist_m/dataset/mnist_m.tar.gz'\n",
        "model_drive_path = '/content/gdrive/MyDrive/da_demo/cv/models'\n",
        "\n",
        "data_base_path = '/content/data'\n",
        "source_dataset_name = 'MNIST'\n",
        "target_dataset_name = 'mnist_m'\n",
        "source_image_root = os.path.join(data_base_path, source_dataset_name)\n",
        "target_image_root = os.path.join(data_base_path, target_dataset_name)\n",
        "model_root = 'models'\n",
        "# cuda = True\n",
        "# cudnn.benchmark = True\n",
        "lr = 1e-3\n",
        "# batch_size = 128\n",
        "# image_size = 28\n",
        "# n_epoch = 100"
      ],
      "metadata": {
        "id": "G4Q0mS4rzJkJ"
      },
      "execution_count": 35,
      "outputs": []
    },
    {
      "cell_type": "markdown",
      "source": [
        "# Source Data"
      ],
      "metadata": {
        "id": "kgga8EeQFB_r"
      }
    },
    {
      "cell_type": "markdown",
      "source": [
        "## Data Transforms"
      ],
      "metadata": {
        "id": "20lhLNsq1Agx"
      }
    },
    {
      "cell_type": "code",
      "source": [
        "# Train Phase transformations\n",
        "train_transforms = transforms.Compose([\n",
        "                                       transforms.Resize(img_size),\n",
        "                                      #  transforms.RandomRotation((-7.0, 7.0), fill=(1,)),\n",
        "                                       transforms.ToTensor(), # converts to tesnor\n",
        "                                       transforms.Normalize((0.1307,), (0.3081,)) # Note the difference between (0.1307) and (0.1307,)\n",
        "                                       ])\n",
        "\n",
        "# Test Phase transformations\n",
        "test_transforms = transforms.Compose([\n",
        "                                       transforms.Resize(img_size),\n",
        "                                       transforms.ToTensor(),# converts to tesnor\n",
        "                                       transforms.Normalize((0.1307,), (0.3081,))\n",
        "                                       ])\n"
      ],
      "metadata": {
        "id": "nrRWWXKsFBn7"
      },
      "execution_count": 4,
      "outputs": []
    },
    {
      "cell_type": "markdown",
      "source": [
        "## Dataset and Creating Train / Test Split"
      ],
      "metadata": {
        "id": "YvKkBT1KFIc9"
      }
    },
    {
      "cell_type": "code",
      "source": [
        "train = datasets.MNIST('./data', # directory where data needs to be stored\n",
        "                       train=True, # get the training portion of the dataset\n",
        "                       download=True, # downloads\n",
        "                       transform=train_transforms)\n",
        "test = datasets.MNIST('./data',\n",
        "                      train=False,\n",
        "                      download=True,\n",
        "                      transform=test_transforms)"
      ],
      "metadata": {
        "id": "TdSmKv7XFNAY",
        "colab": {
          "base_uri": "https://localhost:8080/"
        },
        "outputId": "2cede56d-1529-47e6-e2fe-ebcf0022eba2"
      },
      "execution_count": 5,
      "outputs": [
        {
          "output_type": "stream",
          "name": "stdout",
          "text": [
            "Downloading http://yann.lecun.com/exdb/mnist/train-images-idx3-ubyte.gz\n",
            "Failed to download (trying next):\n",
            "HTTP Error 403: Forbidden\n",
            "\n",
            "Downloading https://ossci-datasets.s3.amazonaws.com/mnist/train-images-idx3-ubyte.gz\n",
            "Downloading https://ossci-datasets.s3.amazonaws.com/mnist/train-images-idx3-ubyte.gz to ./data/MNIST/raw/train-images-idx3-ubyte.gz\n"
          ]
        },
        {
          "output_type": "stream",
          "name": "stderr",
          "text": [
            "100%|██████████| 9912422/9912422 [00:00<00:00, 55566827.06it/s]\n"
          ]
        },
        {
          "output_type": "stream",
          "name": "stdout",
          "text": [
            "Extracting ./data/MNIST/raw/train-images-idx3-ubyte.gz to ./data/MNIST/raw\n",
            "\n",
            "Downloading http://yann.lecun.com/exdb/mnist/train-labels-idx1-ubyte.gz\n",
            "Failed to download (trying next):\n",
            "HTTP Error 403: Forbidden\n",
            "\n",
            "Downloading https://ossci-datasets.s3.amazonaws.com/mnist/train-labels-idx1-ubyte.gz\n",
            "Downloading https://ossci-datasets.s3.amazonaws.com/mnist/train-labels-idx1-ubyte.gz to ./data/MNIST/raw/train-labels-idx1-ubyte.gz\n"
          ]
        },
        {
          "output_type": "stream",
          "name": "stderr",
          "text": [
            "100%|██████████| 28881/28881 [00:00<00:00, 1728608.44it/s]\n"
          ]
        },
        {
          "output_type": "stream",
          "name": "stdout",
          "text": [
            "Extracting ./data/MNIST/raw/train-labels-idx1-ubyte.gz to ./data/MNIST/raw\n",
            "\n",
            "Downloading http://yann.lecun.com/exdb/mnist/t10k-images-idx3-ubyte.gz\n",
            "Failed to download (trying next):\n",
            "HTTP Error 403: Forbidden\n",
            "\n",
            "Downloading https://ossci-datasets.s3.amazonaws.com/mnist/t10k-images-idx3-ubyte.gz\n",
            "Downloading https://ossci-datasets.s3.amazonaws.com/mnist/t10k-images-idx3-ubyte.gz to ./data/MNIST/raw/t10k-images-idx3-ubyte.gz\n"
          ]
        },
        {
          "output_type": "stream",
          "name": "stderr",
          "text": [
            "100%|██████████| 1648877/1648877 [00:00<00:00, 13434497.82it/s]\n"
          ]
        },
        {
          "output_type": "stream",
          "name": "stdout",
          "text": [
            "Extracting ./data/MNIST/raw/t10k-images-idx3-ubyte.gz to ./data/MNIST/raw\n",
            "\n",
            "Downloading http://yann.lecun.com/exdb/mnist/t10k-labels-idx1-ubyte.gz\n",
            "Failed to download (trying next):\n",
            "HTTP Error 403: Forbidden\n",
            "\n",
            "Downloading https://ossci-datasets.s3.amazonaws.com/mnist/t10k-labels-idx1-ubyte.gz\n",
            "Downloading https://ossci-datasets.s3.amazonaws.com/mnist/t10k-labels-idx1-ubyte.gz to ./data/MNIST/raw/t10k-labels-idx1-ubyte.gz\n"
          ]
        },
        {
          "output_type": "stream",
          "name": "stderr",
          "text": [
            "100%|██████████| 4542/4542 [00:00<00:00, 951242.26it/s]"
          ]
        },
        {
          "output_type": "stream",
          "name": "stdout",
          "text": [
            "Extracting ./data/MNIST/raw/t10k-labels-idx1-ubyte.gz to ./data/MNIST/raw\n",
            "\n"
          ]
        },
        {
          "output_type": "stream",
          "name": "stderr",
          "text": [
            "\n"
          ]
        }
      ]
    },
    {
      "cell_type": "markdown",
      "source": [
        "## Data Loader"
      ],
      "metadata": {
        "id": "b0mo-0V2GBUH"
      }
    },
    {
      "cell_type": "code",
      "source": [
        "dataloader_args = dict(shuffle=True, batch_size=cuda_batch_size, num_workers=4, pin_memory = True) if cuda else dict(shuffle=True, batch_size=cpu_batch_size)\n",
        "\n",
        "train_loader = torch.utils.data.DataLoader(\n",
        "    dataset=train,# train dataset\n",
        "    **dataloader_args # the dataloader arguments change dependent on cuda is available or not\n",
        "    )\n",
        "\n",
        "test_loader = torch.utils.data.DataLoader(\n",
        "    dataset = test,# test dataset\n",
        "    **dataloader_args # the dataloader arguments change dependent on cuda is available or not\n",
        ")"
      ],
      "metadata": {
        "id": "YFW6q5hWGDrb"
      },
      "execution_count": 6,
      "outputs": []
    },
    {
      "cell_type": "markdown",
      "source": [
        "## Checking Dataloader"
      ],
      "metadata": {
        "id": "nR15hQnnGPuD"
      }
    },
    {
      "cell_type": "code",
      "source": [
        "# next(iter(train_loader))"
      ],
      "metadata": {
        "id": "A45nqwKXgXoJ"
      },
      "execution_count": 7,
      "outputs": []
    },
    {
      "cell_type": "code",
      "source": [
        "images, labels  = next(iter(train_loader))\n",
        "print(images.shape, labels.shape)\n",
        "# printing random image and seeing\n",
        "random_idx = random.randint(0,len(images))\n",
        "plt.imshow(images[random_idx].numpy().squeeze(), cmap='gray_r')\n",
        "print(f'Label = {labels[random_idx].item()}' )"
      ],
      "metadata": {
        "id": "FjuqXyw9GTDv",
        "colab": {
          "base_uri": "https://localhost:8080/",
          "height": 465
        },
        "outputId": "6ee7de93-9f69-42e6-c952-5ea35c4275c0"
      },
      "execution_count": 8,
      "outputs": [
        {
          "output_type": "stream",
          "name": "stdout",
          "text": [
            "torch.Size([64, 1, 28, 28]) torch.Size([64])\n",
            "Label = 8\n"
          ]
        },
        {
          "output_type": "display_data",
          "data": {
            "text/plain": [
              "<Figure size 640x480 with 1 Axes>"
            ],
            "image/png": "[encoded data removed]"
          },
          "metadata": {}
        }
      ]
    },
    {
      "cell_type": "code",
      "source": [
        "# Looking at more images\n",
        "figure = plt.figure()\n",
        "for index in range(1, len(images) + 1): # assumption: batch size would be atleast 8\n",
        "    plt.subplot(8, int(len(images)/8), index)\n",
        "    plt.axis('off')\n",
        "    plt.imshow(images[index-1].numpy().squeeze(), cmap='gray_r')"
      ],
      "metadata": {
        "id": "yT5FD4C5Gbc1",
        "colab": {
          "base_uri": "https://localhost:8080/",
          "height": 406
        },
        "outputId": "b8b58f89-3250-49e7-e2d8-fcca2d203879"
      },
      "execution_count": 9,
      "outputs": [
        {
          "output_type": "display_data",
          "data": {
            "text/plain": [
              "<Figure size 640x480 with 64 Axes>"
            ],
            "image/png": "[encoded data removed]"
          },
          "metadata": {}
        }
      ]
    },
    {
      "cell_type": "markdown",
      "source": [
        "# Target Data"
      ],
      "metadata": {
        "id": "FG0LpIf51K_I"
      }
    },
    {
      "cell_type": "markdown",
      "source": [
        "## Data Transforms"
      ],
      "metadata": {
        "id": "thsqoNGA1NkI"
      }
    },
    {
      "cell_type": "code",
      "source": [
        "# Train Phase transformations\n",
        "target_train_transforms = transforms.Compose([\n",
        "                                       transforms.Resize(img_size),\n",
        "                                      #  transforms.RandomRotation((-7.0, 7.0), fill=(1,)),\n",
        "                                       transforms.ToTensor(), # converts to tesnor\n",
        "                                       transforms.Normalize((0.5,0.5,0.5), (0.5,0.5,0.5))\n",
        "                                       ])\n",
        "\n",
        "# Test Phase transformations\n",
        "target_test_transforms = transforms.Compose([\n",
        "                                       transforms.Resize(img_size),\n",
        "                                       transforms.ToTensor(),# converts to tesnor\n",
        "                                       transforms.Normalize((0.5,0.5,0.5), (0.5,0.5,0.5))\n",
        "                                       ])"
      ],
      "metadata": {
        "id": "UHo_jePN1NMA"
      },
      "execution_count": 10,
      "outputs": []
    },
    {
      "cell_type": "markdown",
      "source": [
        "## Dataset Class"
      ],
      "metadata": {
        "id": "o7xb9jN96oFM"
      }
    },
    {
      "cell_type": "code",
      "source": [
        "class MNISTM(torch.utils.data.Dataset):\n",
        "    def __init__(self, data_root, data_list, transform=None):\n",
        "        self.root = data_root\n",
        "        self.transform = transform\n",
        "\n",
        "        f = open(data_list, 'r')\n",
        "        data_list = f.readlines()\n",
        "        f.close()\n",
        "\n",
        "        self.n_data = len(data_list)\n",
        "\n",
        "        self.img_paths = []\n",
        "        self.img_labels = []\n",
        "\n",
        "        for data in data_list:\n",
        "            self.img_paths.append(data[:-3])\n",
        "            self.img_labels.append(data[-2])\n",
        "\n",
        "    def __getitem__(self, item):\n",
        "        img_paths, labels = self.img_paths[item], self.img_labels[item]\n",
        "        imgs = Image.open(os.path.join(self.root, img_paths)).convert('RGB')\n",
        "\n",
        "        if self.transform is not None:\n",
        "            imgs = self.transform(imgs)\n",
        "            labels = int(labels)\n",
        "\n",
        "        return imgs, labels\n",
        "\n",
        "    def __len__(self):\n",
        "        return self.n_data"
      ],
      "metadata": {
        "id": "l9LoxsJO6rSS"
      },
      "execution_count": 11,
      "outputs": []
    },
    {
      "cell_type": "markdown",
      "source": [
        "## Dataset"
      ],
      "metadata": {
        "id": "JQeKNcY77VOm"
      }
    },
    {
      "cell_type": "code",
      "source": [
        "# checking the mounted drive and mounting if not done\n",
        "if not os.path.exists('/content/gdrive'):\n",
        "  from google.colab import drive\n",
        "  drive.mount('/content/gdrive')\n",
        "else:\n",
        "    print(\"Google Drive is already mounted.\")"
      ],
      "metadata": {
        "colab": {
          "base_uri": "https://localhost:8080/"
        },
        "id": "Lk5Qy5d78COu",
        "outputId": "9e088d6e-c9ec-4182-ced2-a4ac2f1d2568"
      },
      "execution_count": 12,
      "outputs": [
        {
          "output_type": "stream",
          "name": "stdout",
          "text": [
            "Mounted at /content/gdrive\n"
          ]
        }
      ]
    },
    {
      "cell_type": "markdown",
      "source": [
        "## Extracting Dataset - one time"
      ],
      "metadata": {
        "id": "VUH_DY_Ygn4u"
      }
    },
    {
      "cell_type": "code",
      "source": [
        "import tarfile\n",
        "import os\n",
        "from pathlib import Path\n",
        "\n",
        "if os.path.exists(target_drive_path):\n",
        "    with tarfile.open(target_drive_path, 'r:gz') as tar:\n",
        "      tar.extractall(path=data_base_path)\n",
        "else:\n",
        "    print(f\"The directory {target_drive_path} does not exist.\")"
      ],
      "metadata": {
        "id": "9WPR3j_jgnRD"
      },
      "execution_count": 13,
      "outputs": []
    },
    {
      "cell_type": "code",
      "source": [
        "train_list = os.path.join(target_image_root, 'mnist_m_train_labels.txt')\n",
        "train_root = os.path.join(target_image_root, 'mnist_m_train')\n",
        "test_list = os.path.join(target_image_root, 'mnist_m_test_labels.txt')\n",
        "test_root = os.path.join(target_image_root, 'mnist_m_test')\n",
        "\n",
        "dataset_target_train = MNISTM(data_root = train_root,\n",
        "                                 data_list = train_list,\n",
        "                                 transform = target_train_transforms,\n",
        "                                 )\n",
        "dataset_target_test = MNISTM(data_root = test_root,\n",
        "                                      data_list = test_list,\n",
        "                                      transform = target_test_transforms,\n",
        "                                      )"
      ],
      "metadata": {
        "id": "0uXIz8ct7Uhl"
      },
      "execution_count": 14,
      "outputs": []
    },
    {
      "cell_type": "markdown",
      "source": [
        "## Dataloader"
      ],
      "metadata": {
        "id": "I26kd4Hm6-K9"
      }
    },
    {
      "cell_type": "code",
      "source": [
        "\n",
        "dataloader_target_train = torch.utils.data.DataLoader(\n",
        "    dataset=dataset_target_train,# train dataset\n",
        "    **dataloader_args # the dataloader arguments change dependent on cuda is available or not\n",
        "    )\n",
        "\n",
        "dataloader_target_test = torch.utils.data.DataLoader(\n",
        "    dataset = dataset_target_test,# test dataset\n",
        "    **dataloader_args # the dataloader arguments change dependent on cuda is available or not\n",
        ")"
      ],
      "metadata": {
        "id": "_QkvhQpL69on"
      },
      "execution_count": 33,
      "outputs": []
    },
    {
      "cell_type": "markdown",
      "source": [
        "### Checking Dataloader"
      ],
      "metadata": {
        "id": "pXqnJO9ZplZU"
      }
    },
    {
      "cell_type": "code",
      "source": [
        "images, labels  = next(iter(dataloader_target_train))\n",
        "print(images.shape, labels.shape)\n",
        "# printing random image and seeing\n",
        "random_idx = random.randint(0,len(images))\n",
        "random_img = images[random_idx].permute(1,2,0).numpy()\n",
        "plt.imshow((random_img*0.5)+0.5)\n",
        "print(f'Label = {labels[random_idx].item()}' )"
      ],
      "metadata": {
        "colab": {
          "base_uri": "https://localhost:8080/",
          "height": 465
        },
        "id": "1cI2SjDfpqUi",
        "outputId": "24d36067-de7f-4149-f5de-1b6e68b78db9"
      },
      "execution_count": 16,
      "outputs": [
        {
          "output_type": "stream",
          "name": "stdout",
          "text": [
            "torch.Size([64, 3, 28, 28]) torch.Size([64])\n",
            "Label = 8\n"
          ]
        },
        {
          "output_type": "display_data",
          "data": {
            "text/plain": [
              "<Figure size 640x480 with 1 Axes>"
            ],
            "image/png": "[encoded data removed]"
          },
          "metadata": {}
        }
      ]
    },
    {
      "cell_type": "markdown",
      "source": [
        "# Model"
      ],
      "metadata": {
        "id": "VNOv81RVGrgO"
      }
    },
    {
      "cell_type": "code",
      "source": [
        "# class Network(nn.Module):\n",
        "#   def __init__(self):\n",
        "#     super(Network,self).__init__() # extending super class method\n",
        "\n",
        "#     drop_out_value = 0.1\n",
        "\n",
        "#     # Input Block\n",
        "#     self.convblock1 = nn.Sequential(\n",
        "#         nn.Conv2d(3,16,3 , bias= False ), # In- 3x28x28, Out- 16x26x26, RF- 3x3, Jump_in -1, Jump_out -1\n",
        "#         nn.ReLU(),\n",
        "#         nn.BatchNorm2d(16),# affine=False),\n",
        "#         nn.Dropout(drop_out_value)\n",
        "#     )\n",
        "\n",
        "#     # Conv Block 2\n",
        "#     self.convblock2 = nn.Sequential(\n",
        "#         nn.Conv2d(16,16,3, bias= False ), # In- 16x26x26, Out- 16x24x24, RF- 5x5, Jump_in -1, Jump_out -1\n",
        "#         nn.ReLU(),\n",
        "#         nn.BatchNorm2d(16),# affine=False),\n",
        "#         nn.Dropout(drop_out_value)\n",
        "#     )\n",
        "\n",
        "#     # Conv Block 3\n",
        "#     self.convblock3 = nn.Sequential(\n",
        "#         nn.Conv2d(16,16,3, bias= False ), # In- 16x24x24, Out- 16x22x22, RF- 7x7, Jump_in -1, Jump_out -1\n",
        "#         nn.ReLU(),\n",
        "#         nn.BatchNorm2d(16),# affine=False),\n",
        "#         nn.Dropout(drop_out_value)\n",
        "#     )\n",
        "\n",
        "#     # Transition Block 1 (this also includes a conv block)\n",
        "#     self.pool1 = nn.MaxPool2d(kernel_size=2, stride=2) # In- 16x22x22, Out- 16x11x11, RF- 8x8, Jump_in -1, Jump_out -2\n",
        "\n",
        "\n",
        "#     # Conv Block 4\n",
        "#     self.convblock4 = nn.Sequential(\n",
        "#         nn.Conv2d(16,16,3, bias= False ), # In- 16x11x11, Out- 16x9x9, RF- 12x12, Jump_in -2, Jump_out -2\n",
        "#         nn.ReLU(),\n",
        "#         nn.BatchNorm2d(16),# affine=False),\n",
        "#         nn.Dropout(drop_out_value)\n",
        "#     )\n",
        "\n",
        "#     # Conv Block 5\n",
        "#     self.convblock5 = nn.Sequential(\n",
        "#         nn.Conv2d(16,32,3, bias= False ), # In- 16x9x9, Out- 32x7x7, RF- 16x16, Jump_in -2, Jump_out -2\n",
        "#         nn.ReLU(),\n",
        "#         nn.BatchNorm2d(32),# affine=False),\n",
        "#         nn.Dropout(drop_out_value)\n",
        "#     )\n",
        "\n",
        "#     # Output Block\n",
        "#     self.convblock6 = nn.Sequential(\n",
        "#         nn.Conv2d(32,64,1, bias= False ), # In- 32x7x7, Out- 64x7x7, RF- 16x16, Jump_in -2, Jump_out -2\n",
        "#     )\n",
        "\n",
        "#     self.gap = nn.AvgPool2d(7) # In- 64x7x7, Out- 64x1x1, RF- 16x16, Jump_in -2, Jump_out -2\n",
        "\n",
        "#     self.feature = nn.Sequential(self.convblock1,\n",
        "#                                  self.convblock2,\n",
        "#                                  self.convblock3,\n",
        "#                                  self.pool1,\n",
        "#                                  self.convblock4,\n",
        "#                                  self.convblock5,\n",
        "#                                  self.convblock6,\n",
        "#                                  self.gap\n",
        "#                                 )\n",
        "\n",
        "\n",
        "#   def forward(self,x):\n",
        "#     x = self.feature(x)\n",
        "\n",
        "#     # x = self.convblock1(x)\n",
        "#     # x = self.convblock2(x)\n",
        "#     # x = self.convblock3(x)\n",
        "\n",
        "#     # x = self.pool1(x)\n",
        "#     # # x = self.convblock4(x)\n",
        "#     # x = self.convblock5(x)\n",
        "#     # x = self.convblock6(x)\n",
        "\n",
        "#     # x = self.convblock7(x)\n",
        "\n",
        "#     # x = self.gap(x)\n",
        "\n",
        "#     # Flattening\n",
        "#     x = x.view(-1,64)\n",
        "#     return F.log_softmax(x,dim=-1)\n",
        "\n",
        "# model = Network()\n",
        "# print(model)"
      ],
      "metadata": {
        "id": "9_JHChueh7I5"
      },
      "execution_count": 17,
      "outputs": []
    },
    {
      "cell_type": "code",
      "source": [
        "import torch\n",
        "import torch.nn as nn\n",
        "import torch.nn.functional as F\n",
        "from torch.autograd import Function\n",
        "\n",
        "\n",
        "class GradientReversalFn(Function):\n",
        "    @staticmethod\n",
        "    def forward(ctx, x, alpha):\n",
        "        ctx.alpha = alpha\n",
        "\n",
        "        return x.view_as(x)\n",
        "\n",
        "    @staticmethod\n",
        "    def backward(ctx, grad_output):\n",
        "        output = grad_output.neg() * ctx.alpha\n",
        "\n",
        "        return output, None\n",
        "\n",
        "class Network(nn.Module):\n",
        "    def __init__(self, num_classes = 10):\n",
        "        super(Network, self).__init__()  # Initialize the parent class\n",
        "\n",
        "        drop_out_value = 0.1\n",
        "\n",
        "        #---------------------Feature Extractor Network------------------------#\n",
        "        self.feature_extractor  = nn.Sequential(\n",
        "            # Input Block\n",
        "            nn.Conv2d(3, 16, 3, bias=False),  # In: 3x28x28, Out: 16x26x26, RF: 3x3, Stride: 1\n",
        "            nn.ReLU(),\n",
        "            nn.BatchNorm2d(16),\n",
        "            nn.Dropout(drop_out_value),\n",
        "\n",
        "            # Conv Block 2\n",
        "            nn.Conv2d(16, 16, 3, bias=False),  # In: 16x26x26, Out: 16x24x24, RF: 5x5, Stride: 1\n",
        "            nn.ReLU(),\n",
        "            nn.BatchNorm2d(16),\n",
        "            nn.Dropout(drop_out_value),\n",
        "\n",
        "            # Conv Block 3\n",
        "            nn.Conv2d(16, 16, 3, bias=False),  # In: 16x24x24, Out: 16x22x22, RF: 7x7, Stride: 1\n",
        "            nn.ReLU(),\n",
        "            nn.BatchNorm2d(16),\n",
        "            nn.Dropout(drop_out_value),\n",
        "\n",
        "            # Transition Block 1\n",
        "            nn.MaxPool2d(kernel_size=2, stride=2),  # In: 16x22x22, Out: 16x11x11, RF: 8x8, Stride: 2\n",
        "\n",
        "            # Conv Block 4\n",
        "            nn.Conv2d(16, 16, 3, bias=False),  # In: 16x11x11, Out: 16x9x9, RF: 12x12, Stride: 1\n",
        "            nn.ReLU(),\n",
        "            nn.BatchNorm2d(16),\n",
        "            nn.Dropout(drop_out_value),\n",
        "\n",
        "            # Conv Block 5\n",
        "            nn.Conv2d(16, 32, 3, bias=False),  # In: 16x9x9, Out: 32x7x7, RF: 16x16, Stride: 1\n",
        "            nn.ReLU(),\n",
        "            nn.BatchNorm2d(32),\n",
        "            nn.Dropout(drop_out_value),\n",
        "\n",
        "            # Output Block\n",
        "            nn.Conv2d(32, 64, 1, bias=False),  # In: 32x7x7, Out: 64x7x7, RF: 16x16, Stride: 1\n",
        "\n",
        "            # Global Average Pooling\n",
        "            nn.AvgPool2d(7)  # In: 64x7x7, Out: 64x1x1, RF: 16x16, Stride: 7\n",
        "        )\n",
        "\n",
        "        #---------------------Class Classifier Network------------------------#\n",
        "        self.class_classifier = nn.Sequential(nn.ReLU(),\n",
        "                                        nn.Dropout(p=drop_out_value),\n",
        "                                        nn.Linear(64,50),\n",
        "                                        nn.BatchNorm1d(50), # added batch norm to improve accuracy\n",
        "                                        nn.ReLU(),\n",
        "                                        nn.Dropout(p=drop_out_value),\n",
        "                                        nn.Linear(50,num_classes))\n",
        "\n",
        "        #---------------------Label Classifier Network------------------------#\n",
        "        self.domain_classifier = nn.Sequential(nn.ReLU(),\n",
        "                                        nn.Dropout(p=drop_out_value),\n",
        "                                        nn.Linear(64,50),\n",
        "                                        nn.BatchNorm1d(50), # added batch norm to improve accuracy\n",
        "                                        nn.ReLU(),\n",
        "                                        nn.Dropout(p=drop_out_value),\n",
        "                                        nn.Linear(50,2))\n",
        "    def forward(self, input_data, alpha = 1.0):\n",
        "      if input_data.data.shape[1] == 1:\n",
        "        input_data = input_data.expand(input_data.data.shape[0], 3, img_size, img_size)\n",
        "\n",
        "      input_data = self.feature_extractor(input_data)\n",
        "\n",
        "      features = input_data.view(input_data.size(0), -1)  # Flatten the output for fully connected layer\n",
        "\n",
        "      reverse_features = GradientReversalFn.apply(features, alpha)\n",
        "      class_output = self.class_classifier(features)\n",
        "      domain_output = self.domain_classifier(reverse_features)\n",
        "\n",
        "      return class_output, domain_output, features\n",
        "\n",
        "# Create an instance of the network and print it\n",
        "model = Network()\n",
        "print(model)\n"
      ],
      "metadata": {
        "colab": {
          "base_uri": "https://localhost:8080/"
        },
        "id": "RODNMMrSvDpA",
        "outputId": "64f19e39-539c-4040-df68-76cf16dc298d"
      },
      "execution_count": 18,
      "outputs": [
        {
          "output_type": "stream",
          "name": "stdout",
          "text": [
            "Network(\n",
            "  (feature_extractor): Sequential(\n",
            "    (0): Conv2d(3, 16, kernel_size=(3, 3), stride=(1, 1), bias=False)\n",
            "    (1): ReLU()\n",
            "    (2): BatchNorm2d(16, eps=1e-05, momentum=0.1, affine=True, track_running_stats=True)\n",
            "    (3): Dropout(p=0.1, inplace=False)\n",
            "    (4): Conv2d(16, 16, kernel_size=(3, 3), stride=(1, 1), bias=False)\n",
            "    (5): ReLU()\n",
            "    (6): BatchNorm2d(16, eps=1e-05, momentum=0.1, affine=True, track_running_stats=True)\n",
            "    (7): Dropout(p=0.1, inplace=False)\n",
            "    (8): Conv2d(16, 16, kernel_size=(3, 3), stride=(1, 1), bias=False)\n",
            "    (9): ReLU()\n",
            "    (10): BatchNorm2d(16, eps=1e-05, momentum=0.1, affine=True, track_running_stats=True)\n",
            "    (11): Dropout(p=0.1, inplace=False)\n",
            "    (12): MaxPool2d(kernel_size=2, stride=2, padding=0, dilation=1, ceil_mode=False)\n",
            "    (13): Conv2d(16, 16, kernel_size=(3, 3), stride=(1, 1), bias=False)\n",
            "    (14): ReLU()\n",
            "    (15): BatchNorm2d(16, eps=1e-05, momentum=0.1, affine=True, track_running_stats=True)\n",
            "    (16): Dropout(p=0.1, inplace=False)\n",
            "    (17): Conv2d(16, 32, kernel_size=(3, 3), stride=(1, 1), bias=False)\n",
            "    (18): ReLU()\n",
            "    (19): BatchNorm2d(32, eps=1e-05, momentum=0.1, affine=True, track_running_stats=True)\n",
            "    (20): Dropout(p=0.1, inplace=False)\n",
            "    (21): Conv2d(32, 64, kernel_size=(1, 1), stride=(1, 1), bias=False)\n",
            "    (22): AvgPool2d(kernel_size=7, stride=7, padding=0)\n",
            "  )\n",
            "  (class_classifier): Sequential(\n",
            "    (0): ReLU()\n",
            "    (1): Dropout(p=0.1, inplace=False)\n",
            "    (2): Linear(in_features=64, out_features=50, bias=True)\n",
            "    (3): BatchNorm1d(50, eps=1e-05, momentum=0.1, affine=True, track_running_stats=True)\n",
            "    (4): ReLU()\n",
            "    (5): Dropout(p=0.1, inplace=False)\n",
            "    (6): Linear(in_features=50, out_features=10, bias=True)\n",
            "  )\n",
            "  (domain_classifier): Sequential(\n",
            "    (0): ReLU()\n",
            "    (1): Dropout(p=0.1, inplace=False)\n",
            "    (2): Linear(in_features=64, out_features=50, bias=True)\n",
            "    (3): BatchNorm1d(50, eps=1e-05, momentum=0.1, affine=True, track_running_stats=True)\n",
            "    (4): ReLU()\n",
            "    (5): Dropout(p=0.1, inplace=False)\n",
            "    (6): Linear(in_features=50, out_features=2, bias=True)\n",
            "  )\n",
            ")\n"
          ]
        }
      ]
    },
    {
      "cell_type": "markdown",
      "source": [
        "## Model Params\n",
        "\n",
        "Model moved to device"
      ],
      "metadata": {
        "id": "1QSCWlFoM5nf"
      }
    },
    {
      "cell_type": "code",
      "source": [
        "device = torch.device(\"cuda\" if cuda else \"cpu\")\n",
        "print(device)\n",
        "model = Network().to(device)\n",
        "# print(model)\n",
        "summary(model, input_size=(3, 28, 28))"
      ],
      "metadata": {
        "id": "37ziIa80M8-3",
        "colab": {
          "base_uri": "https://localhost:8080/"
        },
        "outputId": "042572b7-c668-4204-e939-8c439b7c0d8f"
      },
      "execution_count": 19,
      "outputs": [
        {
          "output_type": "stream",
          "name": "stdout",
          "text": [
            "cpu\n",
            "----------------------------------------------------------------\n",
            "        Layer (type)               Output Shape         Param #\n",
            "================================================================\n",
            "            Conv2d-1           [-1, 16, 26, 26]             432\n",
            "              ReLU-2           [-1, 16, 26, 26]               0\n",
            "       BatchNorm2d-3           [-1, 16, 26, 26]              32\n",
            "           Dropout-4           [-1, 16, 26, 26]               0\n",
            "            Conv2d-5           [-1, 16, 24, 24]           2,304\n",
            "              ReLU-6           [-1, 16, 24, 24]               0\n",
            "       BatchNorm2d-7           [-1, 16, 24, 24]              32\n",
            "           Dropout-8           [-1, 16, 24, 24]               0\n",
            "            Conv2d-9           [-1, 16, 22, 22]           2,304\n",
            "             ReLU-10           [-1, 16, 22, 22]               0\n",
            "      BatchNorm2d-11           [-1, 16, 22, 22]              32\n",
            "          Dropout-12           [-1, 16, 22, 22]               0\n",
            "        MaxPool2d-13           [-1, 16, 11, 11]               0\n",
            "           Conv2d-14             [-1, 16, 9, 9]           2,304\n",
            "             ReLU-15             [-1, 16, 9, 9]               0\n",
            "      BatchNorm2d-16             [-1, 16, 9, 9]              32\n",
            "          Dropout-17             [-1, 16, 9, 9]               0\n",
            "           Conv2d-18             [-1, 32, 7, 7]           4,608\n",
            "             ReLU-19             [-1, 32, 7, 7]               0\n",
            "      BatchNorm2d-20             [-1, 32, 7, 7]              64\n",
            "          Dropout-21             [-1, 32, 7, 7]               0\n",
            "           Conv2d-22             [-1, 64, 7, 7]           2,048\n",
            "        AvgPool2d-23             [-1, 64, 1, 1]               0\n",
            "             ReLU-24                   [-1, 64]               0\n",
            "          Dropout-25                   [-1, 64]               0\n",
            "           Linear-26                   [-1, 50]           3,250\n",
            "      BatchNorm1d-27                   [-1, 50]             100\n",
            "             ReLU-28                   [-1, 50]               0\n",
            "          Dropout-29                   [-1, 50]               0\n",
            "           Linear-30                   [-1, 10]             510\n",
            "             ReLU-31                   [-1, 64]               0\n",
            "          Dropout-32                   [-1, 64]               0\n",
            "           Linear-33                   [-1, 50]           3,250\n",
            "      BatchNorm1d-34                   [-1, 50]             100\n",
            "             ReLU-35                   [-1, 50]               0\n",
            "          Dropout-36                   [-1, 50]               0\n",
            "           Linear-37                    [-1, 2]             102\n",
            "================================================================\n",
            "Total params: 21,504\n",
            "Trainable params: 21,504\n",
            "Non-trainable params: 0\n",
            "----------------------------------------------------------------\n",
            "Input size (MB): 0.01\n",
            "Forward/backward pass size (MB): 0.98\n",
            "Params size (MB): 0.08\n",
            "Estimated Total Size (MB): 1.07\n",
            "----------------------------------------------------------------\n"
          ]
        }
      ]
    },
    {
      "cell_type": "markdown",
      "source": [
        "# Testing and Performance"
      ],
      "metadata": {
        "id": "BriahAKX-Qsh"
      }
    },
    {
      "cell_type": "markdown",
      "source": [
        "## Test Function"
      ],
      "metadata": {
        "id": "fhYu3DCQ5fa1"
      }
    },
    {
      "cell_type": "code",
      "source": [
        "def get_correct_preds(prediction, labels):\n",
        "    \"\"\"\n",
        "    Function to return total number of correct predictions\n",
        "    :param prediction: Model predictions on a given sample of data\n",
        "    :param labels: Correct labels of a given sample of data\n",
        "    :return: Number of correct predictions\n",
        "    \"\"\"\n",
        "    # print(\"prediction shape\", prediction.argmax(dim=1).shape)\n",
        "    # print(\"labels shape \", labels.shape)\n",
        "    return prediction.argmax(dim=1).eq(labels).sum().item()\n",
        "    # return prediction.argmax(dim=1).eq(labels.argmax(dim=1)).sum().item()"
      ],
      "metadata": {
        "id": "y4SGsRzJ5uZY"
      },
      "execution_count": 20,
      "outputs": []
    },
    {
      "cell_type": "code",
      "source": [
        "def test_model_local(model, device, data_loader, mode= 'test',\n",
        "               class_loss_function = nn.CrossEntropyLoss() ):\n",
        "    model = model.to(device)\n",
        "    model.eval() # evaluation mode\n",
        "\n",
        "    # variables to track loss and accuracy\n",
        "    test_loss = 0.0\n",
        "    correct = 0\n",
        "    pbar = tqdm(data_loader) # putting the dataloader in progress bar\n",
        "\n",
        "\n",
        "    # Disable gradient updation\n",
        "    with torch.no_grad():\n",
        "        # Iterate over each batch and fetch images and labels from the batch\n",
        "        for batch_idx, batch in enumerate(pbar):\n",
        "        # for batch_idx, batch in enumerate(data_loader):\n",
        "            images, labels = batch[0].to(device), batch[1].to(device)\n",
        "\n",
        "            class_output,_,_  = model((images)) # forward pass, output = {class}\n",
        "            class_loss = class_loss_function(class_output,labels) # Calculate Loss\n",
        "\n",
        "            test_loss += class_loss.item() # sum up batch loss\n",
        "\n",
        "            # Sum up batch correct predictions\n",
        "            correct += get_correct_preds(class_output, labels)\n",
        "\n",
        "    # Calculate test loss for a epoch\n",
        "    test_loss /= len(data_loader.dataset)\n",
        "\n",
        "    pbar.set_description(desc= f'Test / Val: Average loss={test_loss} Accuracy={correct}/{len(data_loader.dataset)}({100*correct/len(data_loader.dataset):0.2f}%)')\n",
        "\n",
        "    return correct, test_loss"
      ],
      "metadata": {
        "id": "j-OfBkkb5vFv"
      },
      "execution_count": 21,
      "outputs": []
    },
    {
      "cell_type": "markdown",
      "source": [
        "Checking accuracy before training"
      ],
      "metadata": {
        "id": "iUweZOjc7BVP"
      }
    },
    {
      "cell_type": "code",
      "source": [
        "correct, test_loss = test_model_local(model = model,\n",
        "                                      device = device,\n",
        "                                      data_loader = train_loader)\n",
        "correct, test_loss"
      ],
      "metadata": {
        "colab": {
          "base_uri": "https://localhost:8080/"
        },
        "id": "t3mn2oWx7EHr",
        "outputId": "f078aa09-da8b-4672-c92d-3de859af9867"
      },
      "execution_count": 22,
      "outputs": [
        {
          "output_type": "stream",
          "name": "stderr",
          "text": [
            "100%|██████████| 938/938 [00:52<00:00, 17.80it/s]\n"
          ]
        },
        {
          "output_type": "execute_result",
          "data": {
            "text/plain": [
              "(5842, 0.03608845668236415)"
            ]
          },
          "metadata": {},
          "execution_count": 22
        }
      ]
    },
    {
      "cell_type": "markdown",
      "source": [
        "## Performance Metric"
      ],
      "metadata": {
        "id": "sl3XiBCm-v43"
      }
    },
    {
      "cell_type": "code",
      "source": [
        "#TODO: Move to Utils\n",
        "\n",
        "# labels_map={0:0,\n",
        "#             1:1,\n",
        "#             2:2,\n",
        "#             3:3,\n",
        "#             4:4,\n",
        "#             5:\"Surprise\",\n",
        "#             6:\"Neutral\"}\n",
        "from sklearn.metrics import accuracy_score, precision_score, confusion_matrix, classification_report\n",
        "import pandas as pd\n",
        "\n",
        "\n",
        "def performance_metric(model,\n",
        "                       device,\n",
        "                       data_loader):\n",
        "    model = model.to(device)\n",
        "    model.eval() # evaluation mode\n",
        "\n",
        "    # variables to track loss and accuracy\n",
        "    test_loss = 0.0\n",
        "    correct = 0\n",
        "    true_labels = []\n",
        "    predicted_labels = []\n",
        "\n",
        "    # Disable gradient updation\n",
        "    with torch.no_grad():\n",
        "        # Iterate over each batch and fetch images and labels from the batch\n",
        "        for batch_idx, batch in enumerate(data_loader):\n",
        "          images, labels = batch[0].to(device), batch[1].to(device)\n",
        "\n",
        "          class_output,_,_  = model((images)) # forward pass, output = {class}\n",
        "          true_labels.extend(labels.cpu().numpy())\n",
        "          predicted_labels.extend(class_output.argmax(dim=1).cpu().numpy())\n",
        "\n",
        "    # true_labels = [labels_map[int_label] for int_label in true_labels]\n",
        "    # predicted_labels= [labels_map[int_label] for int_label in predicted_labels]\n",
        "\n",
        "    # Compute accuracy\n",
        "    accuracy = accuracy_score(true_labels, predicted_labels)\n",
        "    print(\"Accuracy:\", accuracy)\n",
        "\n",
        "    # Compute precision\n",
        "    precision = precision_score(true_labels, predicted_labels, average='weighted')\n",
        "    print(\"Precision:\", precision)\n",
        "\n",
        "    # Generate confusion matrix\n",
        "    conf_matrix = confusion_matrix(true_labels, predicted_labels)\n",
        "    # class_names = list(labels_map.values())\n",
        "    class_names = ['0', '1', '2', '3', '4', '5', '6', '7', '8', '9']\n",
        "    cm_df = pd.DataFrame(conf_matrix, index=class_names, columns=class_names)\n",
        "    print(\"Confusion Matrix:\")\n",
        "    # print(conf_matrix)\n",
        "    print(cm_df)\n",
        "\n",
        "    # Generate classification report\n",
        "    class_report = classification_report(true_labels, predicted_labels)\n",
        "    print(\"Classification Report:\")\n",
        "    print(class_report)\n",
        "\n",
        "    return true_labels, predicted_labels, accuracy, precision, cm_df, class_report"
      ],
      "metadata": {
        "id": "ky1FXqG4-zBJ"
      },
      "execution_count": 23,
      "outputs": []
    },
    {
      "cell_type": "code",
      "source": [
        "true_labels, predicted_labels, accuracy, precision, conf_matrix, class_report = performance_metric(model= model,\n",
        "                                                                                                   device= device,\n",
        "                                                                                                   data_loader = train_loader, # source val loader\n",
        "                                                                                                   )"
      ],
      "metadata": {
        "colab": {
          "base_uri": "https://localhost:8080/"
        },
        "id": "aIGxrBIx-lqU",
        "outputId": "40550000-4473-4e87-ab1f-9e126623f7a3"
      },
      "execution_count": 24,
      "outputs": [
        {
          "output_type": "stream",
          "name": "stdout",
          "text": [
            "Accuracy: 0.09736666666666667\n",
            "Precision: 0.009480267777777777\n",
            "Confusion Matrix:\n",
            "   0  1  2  3     4  5  6  7  8  9\n",
            "0  0  0  0  0  5923  0  0  0  0  0\n",
            "1  0  0  0  0  6742  0  0  0  0  0\n",
            "2  0  0  0  0  5958  0  0  0  0  0\n",
            "3  0  0  0  0  6131  0  0  0  0  0\n",
            "4  0  0  0  0  5842  0  0  0  0  0\n",
            "5  0  0  0  0  5421  0  0  0  0  0\n",
            "6  0  0  0  0  5918  0  0  0  0  0\n",
            "7  0  0  0  0  6265  0  0  0  0  0\n",
            "8  0  0  0  0  5851  0  0  0  0  0\n",
            "9  0  0  0  0  5949  0  0  0  0  0\n",
            "Classification Report:\n",
            "              precision    recall  f1-score   support\n",
            "\n",
            "           0       0.00      0.00      0.00      5923\n",
            "           1       0.00      0.00      0.00      6742\n",
            "           2       0.00      0.00      0.00      5958\n",
            "           3       0.00      0.00      0.00      6131\n",
            "           4       0.10      1.00      0.18      5842\n",
            "           5       0.00      0.00      0.00      5421\n",
            "           6       0.00      0.00      0.00      5918\n",
            "           7       0.00      0.00      0.00      6265\n",
            "           8       0.00      0.00      0.00      5851\n",
            "           9       0.00      0.00      0.00      5949\n",
            "\n",
            "    accuracy                           0.10     60000\n",
            "   macro avg       0.01      0.10      0.02     60000\n",
            "weighted avg       0.01      0.10      0.02     60000\n",
            "\n"
          ]
        },
        {
          "output_type": "stream",
          "name": "stderr",
          "text": [
            "/usr/local/lib/python3.10/dist-packages/sklearn/metrics/_classification.py:1344: UndefinedMetricWarning: Precision is ill-defined and being set to 0.0 in labels with no predicted samples. Use `zero_division` parameter to control this behavior.\n",
            "  _warn_prf(average, modifier, msg_start, len(result))\n",
            "/usr/local/lib/python3.10/dist-packages/sklearn/metrics/_classification.py:1344: UndefinedMetricWarning: Precision and F-score are ill-defined and being set to 0.0 in labels with no predicted samples. Use `zero_division` parameter to control this behavior.\n",
            "  _warn_prf(average, modifier, msg_start, len(result))\n",
            "/usr/local/lib/python3.10/dist-packages/sklearn/metrics/_classification.py:1344: UndefinedMetricWarning: Precision and F-score are ill-defined and being set to 0.0 in labels with no predicted samples. Use `zero_division` parameter to control this behavior.\n",
            "  _warn_prf(average, modifier, msg_start, len(result))\n",
            "/usr/local/lib/python3.10/dist-packages/sklearn/metrics/_classification.py:1344: UndefinedMetricWarning: Precision and F-score are ill-defined and being set to 0.0 in labels with no predicted samples. Use `zero_division` parameter to control this behavior.\n",
            "  _warn_prf(average, modifier, msg_start, len(result))\n"
          ]
        }
      ]
    },
    {
      "cell_type": "markdown",
      "source": [
        "# Non DANN"
      ],
      "metadata": {
        "id": "nMxqBtExHUAZ"
      }
    },
    {
      "cell_type": "markdown",
      "source": [
        "## Training Function with LR Scheduler"
      ],
      "metadata": {
        "id": "Ftl5booTAl8K"
      }
    },
    {
      "cell_type": "code",
      "source": [
        "def train_model_local_lr(model,device, data_loader, optimizer, epoch,\n",
        "                class_loss_function = nn.CrossEntropyLoss() ):\n",
        "    print(f'epoch = {epoch+1}...in training function')\n",
        "    model.to(device)\n",
        "    model.train() # setting model to training\n",
        "\n",
        "\n",
        "    pbar = tqdm(data_loader) # putting the dataloader in progress bar\n",
        "\n",
        "    processed = 0 # to understand accuracy, used in denominator\n",
        "    epoch_loss = 0.0\n",
        "    correct = 0\n",
        "\n",
        "    for batch_idx, batch in enumerate(pbar):\n",
        "        batch[0] = batch[0]\n",
        "        images, labels = batch[0].to(device), batch[1].to(device) # batch of images and labels\n",
        "\n",
        "\n",
        "        optimizer.zero_grad() # setting gradients to zero to avoid accumulation\n",
        "\n",
        "        class_output, _ , _ = model(images) # forward pass, output = {class, domain, feature}\n",
        "\n",
        "        class_loss = class_loss_function(class_output,labels) # Calculate Loss\n",
        "        epoch_loss += class_loss.item()\n",
        "        # Sum up batch correct predictions\n",
        "        correct += get_correct_preds(class_output, labels)\n",
        "\n",
        "        class_loss.backward() #backpropogation, creating gradients\n",
        "\n",
        "        optimizer.step() # updating the params\n",
        "\n",
        "        processed += len(images)\n",
        "        curr_lr = optimizer.param_groups[0]['lr']\n",
        "\n",
        "        pbar.set_description(desc= f'Loss={class_loss.item()} Accuracy={correct}/{processed}({100*correct/processed:0.2f}%) Epoch Avg loss={epoch_loss/processed:0.8f} LR={curr_lr:0.6f}')\n",
        "\n",
        "    return float(\"{:.8f}\".format(epoch_loss/processed)),  curr_lr\n"
      ],
      "metadata": {
        "id": "vsboQAcdAh-I"
      },
      "execution_count": 25,
      "outputs": []
    },
    {
      "cell_type": "markdown",
      "source": [
        "### Execution of Training Function"
      ],
      "metadata": {
        "id": "3-ffQ8plBGtV"
      }
    },
    {
      "cell_type": "code",
      "source": [
        "\n",
        "model = Network().to(device=device)\n",
        "best_model = Network().to(device=device)\n",
        "\n",
        "#learning rate\n",
        "lr =  0.4\n",
        "\n",
        "# Epochs\n",
        "print(\"EPOCHS\", EPOCHS)\n",
        "\n",
        "# ReduceLRonPlateau Scheduler Params\n",
        "scheduler_patience = 1\n",
        "scheduler_factor = 0.1\n",
        "scheduler_threshold = 0.0002\n",
        "\n",
        "# # Early stopping params\n",
        "# early_stop_patience = 15 #runconfig.early_stop_patience\n",
        "# early_stop_difference = 15 #runconfig.early_stop_difference\n",
        "\n",
        "# optimizer\n",
        "optimizer = optim.SGD(model.parameters(), lr = lr, momentum = 0.9)\n",
        "\n",
        "# Set up the ReduceLROnPlateau scheduler\n",
        "scheduler = ReduceLROnPlateau(optimizer,\n",
        "                              # mode='min',\n",
        "                              mode='max',\n",
        "                              factor=scheduler_factor,\n",
        "                              patience=scheduler_patience,\n",
        "                              threshold = scheduler_threshold,\n",
        "                              threshold_mode='abs',\n",
        "                              min_lr=1e-6,\n",
        "                              verbose= True)\n",
        "\n",
        "# Initialize variables to track the best validation loss and the best model state\n",
        "best_val_loss = float('inf')\n",
        "best_val_acc = 0\n",
        "best_model_state = None\n",
        "\n",
        "# loss functions\n",
        "criterion_class = nn.CrossEntropyLoss().to(device=device)\n",
        "\n",
        "# loss accumulation\n",
        "train_losses = [] # to capture train losses over training epochs\n",
        "val_losses = [] # to capture validation loss over epochs\n",
        "lr_schedule = [] # to capture learning rate over epochs\n",
        "epoch_converge = 0 #TODO: run config based\n",
        "list_val_correct = [] # to capture validation accuracy over epochs\n",
        "list_best_val_correct = [] # to capture best validtion accuracy over epochs"
      ],
      "metadata": {
        "colab": {
          "base_uri": "https://localhost:8080/"
        },
        "id": "5KshQ9b9A9aI",
        "outputId": "834db0f6-60f3-4aa4-ba8b-75d49071477e"
      },
      "execution_count": 26,
      "outputs": [
        {
          "output_type": "stream",
          "name": "stdout",
          "text": [
            "EPOCHS 1\n"
          ]
        },
        {
          "output_type": "stream",
          "name": "stderr",
          "text": [
            "/usr/local/lib/python3.10/dist-packages/torch/optim/lr_scheduler.py:28: UserWarning: The verbose parameter is deprecated. Please use get_last_lr() to access the learning rate.\n",
            "  warnings.warn(\"The verbose parameter is deprecated. Please use get_last_lr() \"\n"
          ]
        }
      ]
    },
    {
      "cell_type": "code",
      "source": [
        "# Training block\n",
        "print('------ Training started for Non DANN Model ---- ')\n",
        "print(f'starting LR : {lr}')\n",
        "for epoch in range(EPOCHS):\n",
        "    print(\"EPOCH:\", epoch+1, \" of \", EPOCHS)\n",
        "\n",
        "    #Train Model\n",
        "    avg_epoch_loss, curr_lr = train_model_local_lr (model = model,\n",
        "                                          device = device,\n",
        "                                          data_loader = train_loader,\n",
        "                                          optimizer = optimizer,\n",
        "                                          epoch = epoch,\n",
        "                                          class_loss_function = criterion_class)\n",
        "    train_losses.append(avg_epoch_loss)\n",
        "    lr_schedule.append(curr_lr)\n",
        "\n",
        "    #Validate Model\n",
        "    correct, avg_epoch_val_loss = test_model_local(model= model,\n",
        "                                    device= device,\n",
        "                                    data_loader = test_loader,\n",
        "                                    class_loss_function = criterion_class\n",
        "                                    )\n",
        "\n",
        "    val_losses.append(avg_epoch_val_loss)\n",
        "    list_val_correct.append(correct)\n",
        "\n",
        "    #Adding Scheduler #TODO: ADD SCHEDULER\n",
        "    scheduler.step(correct) #applying scheduler on accuracy proxy, i.e. correct\n",
        "\n",
        "    # # Check if the current model has the best validation loss\n",
        "    # print(f'Last Epoch Val Loss = {avg_epoch_val_loss} | Best Val Loss = {best_val_loss}' )\n",
        "    # if avg_epoch_val_loss < best_val_loss:\n",
        "    #   best_val_loss = avg_epoch_val_loss\n",
        "    #   # save the current model state as the best model state\n",
        "    #   best_model_state = deepcopy(non_dann_model.state_dict())\n",
        "    #   print(f'Updated the best model with validation loss: {best_val_loss}\\n')\n",
        "\n",
        "    # check if the current model has the best accuracy\n",
        "    print (f'last correct ={correct} | best correct = {best_val_acc}')\n",
        "    if correct > best_val_acc:\n",
        "      best_val_acc = correct\n",
        "      # save the current model state as the best model state\n",
        "      best_model_state = deepcopy(model.state_dict())\n",
        "      print(f'Updated the best model with correct: {correct}\\n')\n",
        "\n",
        "    list_best_val_correct.append(best_val_acc)\n",
        "\n",
        "    # early stopping\n",
        "    # if early_stopping_difference(val_losses,\n",
        "    #                              patience = early_stop_patience,\n",
        "    #                              difference= early_stop_difference):\n",
        "    #   print (f'-------Early Stopping at epoch {epoch+1}---')\n",
        "    #   epoch_converge = epoch+1\n",
        "    #   break\n",
        "\n",
        "    # if early_stopping_difference(list_val_correct,\n",
        "    #                              patience = early_stop_patience,\n",
        "    #                              difference= early_stop_difference):\n",
        "    #   print (f'-------Early Stopping at epoch {epoch+1}---')\n",
        "    #   epoch_converge = epoch+1\n",
        "    #   break\n",
        "\n",
        "    # if early_stopping_difference(list_best_val_correct,\n",
        "    #                              patience = 2*early_stop_patience,\n",
        "    #                              difference= 0):\n",
        "    #   print (f'-------Early Stopping at epoch {epoch+1}---')\n",
        "    #   epoch_converge = epoch+1\n",
        "    #   break\n",
        "\n",
        "\n",
        "\n",
        "    # ## showing misclassification images after every 10 epochs\n",
        "    # if epoch % 10 == 0:\n",
        "    #   list_misclassified_images = get_misclassified_images_list(model= model,\n",
        "    #                                                             device = device,\n",
        "    #                                                             test_loader = data_loader['source']['val'],\n",
        "    #                                                             num_image = 10)\n",
        "    #   plot_misclassified_images(list_misclassified_images)\n",
        "\n",
        "## using params of best model to update model\n",
        "if best_model_state: # only update if best model has been saved, else the last one would be picked up\n",
        "  # best_non_dann_model.load_state_dict(best_model_state)\n",
        "  best_model.load_state_dict(best_model_state)\n",
        "  print('Best model loaded')\n",
        "\n",
        "\n",
        "\n",
        "\n",
        "dict_non_dann_losses = {'train_losses' : train_losses,\n",
        "                                       'val_losses': val_losses,\n",
        "                                      #  'test_loss_source' : test_loss_source,\n",
        "                                      #  'test_loss_target' : test_loss_target,\n",
        "                                       'epoch_convergence' : epoch_converge,\n",
        "                                       'lr': lr_schedule}\n"
      ],
      "metadata": {
        "colab": {
          "base_uri": "https://localhost:8080/"
        },
        "id": "rrZVrIpXD7YQ",
        "outputId": "99d493f2-f6c8-4087-de06-1e0d1d1ac3be"
      },
      "execution_count": 27,
      "outputs": [
        {
          "output_type": "stream",
          "name": "stdout",
          "text": [
            "------ Training started for Non DANN Model ---- \n",
            "starting LR : 0.4\n",
            "EPOCH: 1  of  1\n",
            "epoch = 1...in training function\n"
          ]
        },
        {
          "output_type": "stream",
          "name": "stderr",
          "text": [
            "Loss=0.028497328981757164 Accuracy=54805/60000(91.34%) Epoch Avg loss=0.00448121 LR=0.400000: 100%|██████████| 938/938 [01:44<00:00,  8.98it/s]\n",
            "100%|██████████| 157/157 [00:06<00:00, 23.81it/s]"
          ]
        },
        {
          "output_type": "stream",
          "name": "stdout",
          "text": [
            "last correct =9830 | best correct = 0\n",
            "Updated the best model with correct: 9830\n",
            "\n",
            "Best model loaded\n"
          ]
        },
        {
          "output_type": "stream",
          "name": "stderr",
          "text": [
            "\n"
          ]
        }
      ]
    },
    {
      "cell_type": "markdown",
      "source": [
        "## Performance on source validation dataset"
      ],
      "metadata": {
        "id": "ZM6GUC0SBTY0"
      }
    },
    {
      "cell_type": "code",
      "source": [
        "true_labels, predicted_labels, accuracy, precision, conf_matrix, class_report = performance_metric(model= best_model,\n",
        "                                                                                                   device= device,\n",
        "                                                                                                   data_loader = test_loader ,\n",
        "                                                                                                   )"
      ],
      "metadata": {
        "colab": {
          "base_uri": "https://localhost:8080/"
        },
        "id": "c4ofpvExBZhR",
        "outputId": "0b87e8a2-ff02-4bb2-e1f3-8788a385ef5c"
      },
      "execution_count": 32,
      "outputs": [
        {
          "output_type": "stream",
          "name": "stdout",
          "text": [
            "Accuracy: 0.983\n",
            "Precision: 0.983107670243715\n",
            "Confusion Matrix:\n",
            "     0     1     2    3    4    5    6     7    8    9\n",
            "0  972     1     2    0    0    0    3     2    0    0\n",
            "1    0  1124     4    0    0    1    5     1    0    0\n",
            "2    2     0  1017    0    2    0    6     3    2    0\n",
            "3    0     0     4  990    0    5    0     7    4    0\n",
            "4    0     0     0    0  971    0    7     2    0    2\n",
            "5    0     0     1    5    0  872    4     2    6    2\n",
            "6    9     2     0    0    1    1  943     0    2    0\n",
            "7    0     3     4    1    0    0    0  1018    0    2\n",
            "8    3     0     2    0    4    1    1     3  958    2\n",
            "9    8     0     1    0   17    2    2     7    7  965\n",
            "Classification Report:\n",
            "              precision    recall  f1-score   support\n",
            "\n",
            "           0       0.98      0.99      0.98       980\n",
            "           1       0.99      0.99      0.99      1135\n",
            "           2       0.98      0.99      0.98      1032\n",
            "           3       0.99      0.98      0.99      1010\n",
            "           4       0.98      0.99      0.98       982\n",
            "           5       0.99      0.98      0.98       892\n",
            "           6       0.97      0.98      0.98       958\n",
            "           7       0.97      0.99      0.98      1028\n",
            "           8       0.98      0.98      0.98       974\n",
            "           9       0.99      0.96      0.97      1009\n",
            "\n",
            "    accuracy                           0.98     10000\n",
            "   macro avg       0.98      0.98      0.98     10000\n",
            "weighted avg       0.98      0.98      0.98     10000\n",
            "\n"
          ]
        }
      ]
    },
    {
      "cell_type": "markdown",
      "source": [
        "## Performance on target validation dataset"
      ],
      "metadata": {
        "id": "4z7mrCi9BovU"
      }
    },
    {
      "cell_type": "code",
      "source": [
        "true_labels, predicted_labels, accuracy, precision, conf_matrix, class_report = performance_metric(model= best_model,\n",
        "                                                                                                   device= device,\n",
        "                                                                                                   data_loader = dataloader_target_test ,\n",
        "                                                                                                   )"
      ],
      "metadata": {
        "colab": {
          "base_uri": "https://localhost:8080/"
        },
        "id": "GMkwXUfMBwsY",
        "outputId": "a8e5d978-dafb-4ce5-a27f-8ecb64cd4123"
      },
      "execution_count": 34,
      "outputs": [
        {
          "output_type": "stream",
          "name": "stdout",
          "text": [
            "Accuracy: 0.33985112765248304\n",
            "Precision: 0.7484327284691743\n",
            "Confusion Matrix:\n",
            "     0    1    2    3    4    5    6    7    8    9\n",
            "0  290    0    0    0    8   37    7    0  532    4\n",
            "1   27  306    2    0   20    1   15    6  634    5\n",
            "2    3    0  252    0   21   51    7    5  591    3\n",
            "3    4    1   22  179    3   29    0   11  658    1\n",
            "4    8    1    0    1  303   29    5    2  528   13\n",
            "5    3    1    1    1    3  199    2    1  594    2\n",
            "6   36    0    4    0   40   20  233    0  519    4\n",
            "7    1    8    5    4   17   12    0  268  592    7\n",
            "8    8    0    0    0    3   10    1    1  857    0\n",
            "9    6    2    2    0   51   13    1    3  669  172\n",
            "Classification Report:\n",
            "              precision    recall  f1-score   support\n",
            "\n",
            "           0       0.75      0.33      0.46       878\n",
            "           1       0.96      0.30      0.46      1016\n",
            "           2       0.88      0.27      0.41       933\n",
            "           3       0.97      0.20      0.33       908\n",
            "           4       0.65      0.34      0.45       890\n",
            "           5       0.50      0.25      0.33       807\n",
            "           6       0.86      0.27      0.41       856\n",
            "           7       0.90      0.29      0.44       914\n",
            "           8       0.14      0.97      0.24       880\n",
            "           9       0.82      0.19      0.30       919\n",
            "\n",
            "    accuracy                           0.34      9001\n",
            "   macro avg       0.74      0.34      0.38      9001\n",
            "weighted avg       0.75      0.34      0.39      9001\n",
            "\n"
          ]
        }
      ]
    },
    {
      "cell_type": "markdown",
      "source": [
        "## Saving NON DANN MODEL"
      ],
      "metadata": {
        "id": "uwP9TwBOCCUz"
      }
    },
    {
      "cell_type": "code",
      "source": [
        "dir_suffix = str(time.strftime(\"%d_%m\"))\n",
        "\n",
        "SPECIFIC_MODEL_DIR = Path(os.path.join(model_drive_path, dir_suffix))\n",
        "if not SPECIFIC_MODEL_DIR.exists():\n",
        "    # Create the directory\n",
        "    SPECIFIC_MODEL_DIR.mkdir(parents=True, exist_ok=True)\n",
        "    print(f'Directory {SPECIFIC_MODEL_DIR} created successfully.')\n",
        "else:\n",
        "    print(f'Directory {SPECIFIC_MODEL_DIR} already exists.')\n",
        ""
      ],
      "metadata": {
        "colab": {
          "base_uri": "https://localhost:8080/"
        },
        "id": "i44bCDbRDH_u",
        "outputId": "60296ded-05a3-4e1e-f126-d7f919aad0a6"
      },
      "execution_count": 41,
      "outputs": [
        {
          "output_type": "stream",
          "name": "stdout",
          "text": [
            "Directory /content/gdrive/MyDrive/da_demo/cv/models/26_06 already exists.\n"
          ]
        }
      ]
    },
    {
      "cell_type": "code",
      "source": [
        "model_name = f'non_dann_{dir_suffix}.pt'\n",
        "print(\"\\nDO VERIFY THE MODEL NAME BEFORE MOVING AHEAD: \", model_name)"
      ],
      "metadata": {
        "colab": {
          "base_uri": "https://localhost:8080/"
        },
        "id": "hlI4owQiDqIx",
        "outputId": "d93e4e0c-7ce1-4b8a-e945-0504f73fa87b"
      },
      "execution_count": 43,
      "outputs": [
        {
          "output_type": "stream",
          "name": "stdout",
          "text": [
            "\n",
            "DO VERIFY THE MODEL NAME BEFORE MOVING AHEAD:  non_dann_26_06.pt\n"
          ]
        }
      ]
    },
    {
      "cell_type": "code",
      "source": [
        "torch.save(best_model.state_dict(), Path(SPECIFIC_MODEL_DIR,model_name))"
      ],
      "metadata": {
        "id": "rv6A4uzBD1dx"
      },
      "execution_count": 45,
      "outputs": []
    },
    {
      "cell_type": "markdown",
      "source": [
        "# Loading Non DANN for DANN, DANN EWC"
      ],
      "metadata": {
        "id": "s-EHabGJI6QF"
      }
    },
    {
      "cell_type": "code",
      "source": [
        "dann_model_name = model_name # f'non_dann_{str(time.strftime(\"%d_%m\"))}.pt'\n",
        "dann_model_path = Path(SPECIFIC_MODEL_DIR,dann_model_name)\n",
        "print(\"\\n**** model name that would be used for loading: \", dann_model_path)"
      ],
      "metadata": {
        "colab": {
          "base_uri": "https://localhost:8080/"
        },
        "id": "BzfKNs-9I5fG",
        "outputId": "eff0cf83-0e73-4b0a-fe6d-5e909140e18e"
      },
      "execution_count": 57,
      "outputs": [
        {
          "output_type": "stream",
          "name": "stdout",
          "text": [
            "\n",
            "**** model name that would be used for loading:  /content/gdrive/MyDrive/da_demo/cv/models/26_06/non_dann_26_06.pt\n"
          ]
        }
      ]
    },
    {
      "cell_type": "code",
      "source": [
        "if not device:\n",
        "  use_cuda = torch.cuda.is_available()\n",
        "  device = torch.device(\"cuda\" if use_cuda else \"cpu\")\n",
        "print(device)"
      ],
      "metadata": {
        "colab": {
          "base_uri": "https://localhost:8080/"
        },
        "id": "S87xaf7JJEyC",
        "outputId": "7a714d06-71f9-40ea-e009-2d3b591517e6"
      },
      "execution_count": 56,
      "outputs": [
        {
          "output_type": "stream",
          "name": "stdout",
          "text": [
            "cpu\n"
          ]
        }
      ]
    },
    {
      "cell_type": "markdown",
      "source": [
        "### DANN loaded with Non DANN weights"
      ],
      "metadata": {
        "id": "OEd56f32Jb1E"
      }
    },
    {
      "cell_type": "code",
      "source": [
        "model_dann = Network().to(device)\n",
        "model_dann.load_state_dict(torch.load(dann_model_path,map_location = torch.device(device)))"
      ],
      "metadata": {
        "id": "m7yVQvDiJJXT"
      },
      "execution_count": 59,
      "outputs": []
    },
    {
      "cell_type": "markdown",
      "source": [
        "### DANN EWC loaded with Non DANN weights"
      ],
      "metadata": {
        "id": "iwDZTEHZJdym"
      }
    },
    {
      "cell_type": "code",
      "source": [
        "model_dann_ewc = Network().to(device)\n",
        "model_dann_ewc.load_state_dict(torch.load(dann_model_path,map_location = torch.device(device)))"
      ],
      "metadata": {
        "id": "YP9J_T7OJ8bw"
      },
      "execution_count": null,
      "outputs": []
    },
    {
      "cell_type": "markdown",
      "source": [
        "# DANN Model"
      ],
      "metadata": {
        "id": "zW0MRJAlLDJI"
      }
    },
    {
      "cell_type": "code",
      "source": [
        "def train_dann(model,\n",
        "                device,\n",
        "                source_train_loader, source_val_loader,\n",
        "                target_train_loader, target_val_loader,\n",
        "                optimizer,\n",
        "                n_epochs, # total number of epochs (different from individual epoch)\n",
        "                class_loss_function = nn.CrossEntropyLoss(),\n",
        "                domain_loss_function = nn.BCEWithLogitsLoss(),\n",
        "                scheduler = None,\n",
        "                early_stop_patience = None,\n",
        "                early_stop_difference = None\n",
        "                ):\n",
        "\n",
        "    train_losses = [] # to capture train losses over training epochs\n",
        "    val_losses = [] # to capture validation loss over epochs\n",
        "    list_lr =[] # to capture lr over epochs\n",
        "    list_val_correct = [] # to capture validation accuracy over epochs\n",
        "    list_best_val_correct = [] # to capture best validtion accuracy over epochs\n",
        "\n",
        "\n",
        "    epoch_converge = 0\n",
        "    max_batches = min(len(source_train_loader), len(target_train_loader)) # Trying to check which is having less batches.\n",
        "    model = model.to(device)\n",
        "\n",
        "    # model.apply(weights_init) # TODO: skipping weights update - we can experimentation later on, and see if this helps\n",
        "    list_alpha =[]\n",
        "\n",
        "\n",
        "    # for best model\n",
        "    best_model = deepcopy(model).to(device) # for best model\n",
        "    best_val_loss = float('inf') # Initialize variables to track the best validation loss\n",
        "    best_val_acc = 0 # Initialize variable to track best accuracy\n",
        "    best_model_state = None # Initialize variables to track the best model state\n",
        "\n",
        "\n",
        "    for epoch_idx in range(n_epochs):\n",
        "        print(f'epoch = {epoch_idx+1}...in DANN execution function')\n",
        "        source_iterator = iter(source_train_loader)\n",
        "        target_iterator = iter (target_train_loader)\n",
        "        epoch_task_loss = 0\n",
        "        epoch_domain_loss =  0\n",
        "        epoch_total_loss = 0\n",
        "        processed = 0\n",
        "\n",
        "        for batch_idx in range(max_batches-1):\n",
        "            p = float(batch_idx + epoch_idx * max_batches) / (n_epochs * max_batches)\n",
        "            alpha = 2. / (1. + np.exp(-10 * p)) - 1\n",
        "            # alpha = 1.0\n",
        "            list_alpha.append(alpha)\n",
        "            alpha = torch.tensor(alpha)\n",
        "\n",
        "            model.train() # everytime ?\n",
        "            optimizer.zero_grad() # flushing out the accumulated gradients\n",
        "\n",
        "            #---------------------Source Dataset Training ------------------------#\n",
        "            source_batch = next(source_iterator)\n",
        "\n",
        "            source_images, source_labels = source_batch[0].to(device), source_batch[1].to(device) # getting images and labels, on device\n",
        "            source_class_outputs, source_domain_outputs, _ = model(source_images, alpha=alpha) # forward pass, output = {class, domain, feature}\n",
        "\n",
        "            loss_source_class = class_loss_function(source_class_outputs, source_labels) # calculating class loss\n",
        "\n",
        "            source_domain_inputs = torch.tensor([1., 0.]*len(source_batch[0])).view(-1,2).to(device) # Source Image == [1., 0.]\n",
        "\n",
        "            loss_source_domain = domain_loss_function(source_domain_outputs, source_domain_inputs) # calculating domain loss\n",
        "\n",
        "            processed += len(source_batch[0])\n",
        "\n",
        "            #---------------------Target Dataset Training ------------------------#\n",
        "            target_batch = next (target_iterator)\n",
        "            target_images = target_batch[0].to(device) # getting images, on device. There are no labels for target\n",
        "            _, target_domain_outputs, _ = model(target_images, alpha=alpha) # forward pass, output = {class, domain, feature}\n",
        "\n",
        "            target_domain_inputs = torch.tensor([0., 1.]*len(source_batch[0])).view(-1,2).to(device)  # Target Image == [0., 1.]\n",
        "\n",
        "            loss_target_domain = domain_loss_function(target_domain_outputs,target_domain_inputs)  # calculating domain loss\n",
        "\n",
        "            #---------------------Combining Loss ------------------------#\n",
        "            total_loss = loss_source_class + (loss_source_domain + loss_target_domain)\n",
        "            total_loss.backward() #backpropogation, creating gradients\n",
        "            optimizer.step() # updating the params\n",
        "\n",
        "            epoch_task_loss += loss_source_class.item()\n",
        "            epoch_domain_loss += loss_source_domain.item() + loss_target_domain.item()\n",
        "            epoch_total_loss += total_loss.item()\n",
        "\n",
        "            curr_lr = optimizer.param_groups[0]['lr'] # current learning rate\n",
        "            list_lr.append(curr_lr)\n",
        "\n",
        "            # after 100 batches\n",
        "            if (batch_idx % 100 == 0):\n",
        "                print(\"Epoch[{}/{}] Step[{}/{}]: loss_total={:.4f} / domain_loss_target={:.4f} / domain_loss_source={:.4f} / task_loss={:.4f} / domain_loss={:.4f} / alpha={:.2f} / lr={:.6f}\"\n",
        "              .format(epoch_idx + 1,\n",
        "                      n_epochs,\n",
        "                      batch_idx + 1,\n",
        "                      max_batches,\n",
        "                      total_loss.item(),\n",
        "                      loss_target_domain.item()\n",
        "                      ,loss_source_domain.item()\n",
        "                      ,loss_source_class.item()\n",
        "                      ,loss_source_domain.item()+loss_source_class.item(),\n",
        "                      alpha,\n",
        "                      curr_lr\n",
        "                      ))\n",
        "        # After every epoch\n",
        "        avg_train_task_loss =  float(\"{:.6f}\".format(epoch_task_loss/processed))\n",
        "        train_losses.append(avg_train_task_loss)\n",
        "\n",
        "        # #Scheduler\n",
        "        # if scheduler:\n",
        "        #   scheduler.step(avg_train_task_loss) ## applying scheduler on training loss\n",
        "\n",
        "        #Validate Model after every epoch\n",
        "        correct, avg_val_task_loss = test_model_local(model= model,\n",
        "                                                device= device,\n",
        "                                                data_loader = source_val_loader,\n",
        "                                                class_loss_function = class_loss_function)\n",
        "        val_losses.append(avg_val_task_loss)\n",
        "\n",
        "        # # Check if the current model has the best validation loss\n",
        "        # print(f'Last Epoch Val Loss = {avg_val_task_loss} | Best Val Loss = {best_val_loss}' )\n",
        "        # if avg_val_task_loss < best_val_loss:\n",
        "        #   best_val_loss = avg_val_task_loss\n",
        "        #   # save the current model state as the best model state\n",
        "        #   best_model_state = deepcopy(model.state_dict())\n",
        "        #   print(f'Updated the best model with validation loss: {best_val_loss}\\n')\n",
        "\n",
        "        list_val_correct.append(correct)\n",
        "\n",
        "        #Adding Scheduler #TODO: ADD SCHEDULER\n",
        "        if scheduler:\n",
        "          scheduler.step(correct) #applying scheduler on accuracy proxy, i.e. correct\n",
        "\n",
        "\n",
        "        # check if the current model has the best accuracy\n",
        "        print (f'last correct ={correct} | best correct = {best_val_acc}')\n",
        "        if correct > best_val_acc:\n",
        "          best_val_acc = correct\n",
        "          # save the current model state as the best model state\n",
        "          best_model_state = deepcopy(model.state_dict())\n",
        "          print(f'Updated the best model with correct: {correct}\\n')\n",
        "\n",
        "        list_best_val_correct.append(best_val_acc) # appending the best one for early stopping\n",
        "\n",
        "\n",
        "\n",
        "        # #TODO: Early Stopping\n",
        "        # if early_stop_patience and early_stop_difference: # early stopping required\n",
        "        #   if early_stopping_difference(list_val_correct,\n",
        "        #                                patience = early_stop_patience,\n",
        "        #                                difference= early_stop_difference):\n",
        "        #     print (f'-------Early Stopping at epoch {epoch_idx+1}---')\n",
        "        #     epoch_converge = epoch_idx+1\n",
        "        #     break # break from epoch loop\n",
        "\n",
        "        # if early_stop_patience and early_stop_difference: # early stopping based on best accuracy\n",
        "        #   if early_stopping_difference(val_losses,\n",
        "        #                                patience = 2*early_stop_patience,\n",
        "        #                                difference= 0):\n",
        "        #     print (f'-------Early Stopping at epoch {epoch_idx+1}---')\n",
        "        #     epoch_converge = epoch_idx+1\n",
        "        #     break # break from epoch loop\n",
        "\n",
        "            ## showing misclassification images after every 10 epochs\n",
        "        # if epoch_idx % 10 == 0:\n",
        "        #   list_misclassified_images = get_misclassified_images_list(model= model,\n",
        "        #                                                             device = device,\n",
        "        #                                                             test_loader = source_val_loader,\n",
        "        #                                                             num_image = 10)\n",
        "        #   plot_misclassified_images(list_misclassified_images)\n",
        "\n",
        "\n",
        "    # Testing when the training is over - completed or early stopped\n",
        "    ## using params of best model to update model\n",
        "    if best_model_state: # only update if best model has been saved, else the last one would be picked up\n",
        "      model.load_state_dict(best_model_state)\n",
        "      print('Best model loaded')\n",
        "\n",
        "    # correct, test_loss_source = test_model_local(model= model,\n",
        "    #                         device= device,\n",
        "    #                         data_loader = source_val_loader, # source val loader\n",
        "    #                         class_loss_function = class_loss_function)\n",
        "\n",
        "    # correct, test_loss_target = test_model_local(model= model,\n",
        "    #                         device= device,\n",
        "    #                         data_loader = target_val_loader, # target val loader\n",
        "    #                         class_loss_function = class_loss_function)\n",
        "\n",
        "    dict_dann_losses = {'train_losses' : train_losses,\n",
        "                        'val_losses': val_losses,\n",
        "                        # 'test_loss_source' : test_loss_source,\n",
        "                        # 'test_loss_target' : test_loss_target,\n",
        "                        'epoch_convergence' : epoch_converge,\n",
        "                        'list_alpha' : list_alpha,\n",
        "                        'lr':list_lr}\n",
        "\n",
        "    print(f'alpha list \\n {list_alpha}')\n",
        "    return model, dict_dann_losses\n"
      ],
      "metadata": {
        "id": "4-j-lrVBL3qW"
      },
      "execution_count": 63,
      "outputs": []
    },
    {
      "cell_type": "markdown",
      "source": [
        "# INFERENCE Loading Saved Models"
      ],
      "metadata": {
        "id": "yEn1lvf3El4A"
      }
    },
    {
      "cell_type": "code",
      "source": [
        "infer_model_name = model_name\n",
        "infer_model_path = Path(SPECIFIC_MODEL_DIR,infer_model_name)\n",
        "print(\"\\n**** model name that would be used for loading: \", infer_model_path)"
      ],
      "metadata": {
        "colab": {
          "base_uri": "https://localhost:8080/"
        },
        "id": "iCUbBzBdExla",
        "outputId": "62ec2e92-6df7-44c7-deac-33b312f4fdb2"
      },
      "execution_count": 47,
      "outputs": [
        {
          "output_type": "stream",
          "name": "stdout",
          "text": [
            "\n",
            "****model name that would be used for loading:  /content/gdrive/MyDrive/da_demo/cv/models/26_06/non_dann_26_06.pt\n"
          ]
        }
      ]
    },
    {
      "cell_type": "markdown",
      "source": [
        "## Load structure of models & state dictionary\n"
      ],
      "metadata": {
        "id": "59UP69C7FBUS"
      }
    },
    {
      "cell_type": "code",
      "source": [
        "if not device:\n",
        "  use_cuda = torch.cuda.is_available()\n",
        "  device = torch.device(\"cuda\" if use_cuda else \"cpu\")\n",
        "print(device)"
      ],
      "metadata": {
        "colab": {
          "base_uri": "https://localhost:8080/"
        },
        "id": "YphGHGhuFFoW",
        "outputId": "70981116-57dc-42b1-aa27-3e96bb39ee43"
      },
      "execution_count": 49,
      "outputs": [
        {
          "output_type": "stream",
          "name": "stdout",
          "text": [
            "cpu\n"
          ]
        }
      ]
    },
    {
      "cell_type": "code",
      "source": [
        "model_non_dann_infer = Network().to(device)\n",
        "model_non_dann_infer.load_state_dict(torch.load(infer_model_path,map_location = torch.device(device)))"
      ],
      "metadata": {
        "colab": {
          "base_uri": "https://localhost:8080/"
        },
        "id": "PIWEGHEBFKRf",
        "outputId": "f49d913b-f22a-41e5-d0cd-cdfe591491cd"
      },
      "execution_count": 50,
      "outputs": [
        {
          "output_type": "execute_result",
          "data": {
            "text/plain": [
              "<All keys matched successfully>"
            ]
          },
          "metadata": {},
          "execution_count": 50
        }
      ]
    },
    {
      "cell_type": "code",
      "source": [
        "model_non_dann_infer"
      ],
      "metadata": {
        "colab": {
          "base_uri": "https://localhost:8080/"
        },
        "id": "mdh0Ql0kFcn2",
        "outputId": "1eb8638e-9b47-40a0-dd28-14eb9251b97e"
      },
      "execution_count": 51,
      "outputs": [
        {
          "output_type": "execute_result",
          "data": {
            "text/plain": [
              "Network(\n",
              "  (feature_extractor): Sequential(\n",
              "    (0): Conv2d(3, 16, kernel_size=(3, 3), stride=(1, 1), bias=False)\n",
              "    (1): ReLU()\n",
              "    (2): BatchNorm2d(16, eps=1e-05, momentum=0.1, affine=True, track_running_stats=True)\n",
              "    (3): Dropout(p=0.1, inplace=False)\n",
              "    (4): Conv2d(16, 16, kernel_size=(3, 3), stride=(1, 1), bias=False)\n",
              "    (5): ReLU()\n",
              "    (6): BatchNorm2d(16, eps=1e-05, momentum=0.1, affine=True, track_running_stats=True)\n",
              "    (7): Dropout(p=0.1, inplace=False)\n",
              "    (8): Conv2d(16, 16, kernel_size=(3, 3), stride=(1, 1), bias=False)\n",
              "    (9): ReLU()\n",
              "    (10): BatchNorm2d(16, eps=1e-05, momentum=0.1, affine=True, track_running_stats=True)\n",
              "    (11): Dropout(p=0.1, inplace=False)\n",
              "    (12): MaxPool2d(kernel_size=2, stride=2, padding=0, dilation=1, ceil_mode=False)\n",
              "    (13): Conv2d(16, 16, kernel_size=(3, 3), stride=(1, 1), bias=False)\n",
              "    (14): ReLU()\n",
              "    (15): BatchNorm2d(16, eps=1e-05, momentum=0.1, affine=True, track_running_stats=True)\n",
              "    (16): Dropout(p=0.1, inplace=False)\n",
              "    (17): Conv2d(16, 32, kernel_size=(3, 3), stride=(1, 1), bias=False)\n",
              "    (18): ReLU()\n",
              "    (19): BatchNorm2d(32, eps=1e-05, momentum=0.1, affine=True, track_running_stats=True)\n",
              "    (20): Dropout(p=0.1, inplace=False)\n",
              "    (21): Conv2d(32, 64, kernel_size=(1, 1), stride=(1, 1), bias=False)\n",
              "    (22): AvgPool2d(kernel_size=7, stride=7, padding=0)\n",
              "  )\n",
              "  (class_classifier): Sequential(\n",
              "    (0): ReLU()\n",
              "    (1): Dropout(p=0.1, inplace=False)\n",
              "    (2): Linear(in_features=64, out_features=50, bias=True)\n",
              "    (3): BatchNorm1d(50, eps=1e-05, momentum=0.1, affine=True, track_running_stats=True)\n",
              "    (4): ReLU()\n",
              "    (5): Dropout(p=0.1, inplace=False)\n",
              "    (6): Linear(in_features=50, out_features=10, bias=True)\n",
              "  )\n",
              "  (domain_classifier): Sequential(\n",
              "    (0): ReLU()\n",
              "    (1): Dropout(p=0.1, inplace=False)\n",
              "    (2): Linear(in_features=64, out_features=50, bias=True)\n",
              "    (3): BatchNorm1d(50, eps=1e-05, momentum=0.1, affine=True, track_running_stats=True)\n",
              "    (4): ReLU()\n",
              "    (5): Dropout(p=0.1, inplace=False)\n",
              "    (6): Linear(in_features=50, out_features=2, bias=True)\n",
              "  )\n",
              ")"
            ]
          },
          "metadata": {},
          "execution_count": 51
        }
      ]
    },
    {
      "cell_type": "code",
      "source": [
        "params = {name: param for name, param in model_non_dann_infer.named_parameters() if param.requires_grad}\n",
        "params.keys()"
      ],
      "metadata": {
        "colab": {
          "base_uri": "https://localhost:8080/"
        },
        "id": "cARm4ndKFkPm",
        "outputId": "007138c1-b669-44f5-8c55-6b3294caf658"
      },
      "execution_count": 52,
      "outputs": [
        {
          "output_type": "execute_result",
          "data": {
            "text/plain": [
              "dict_keys(['feature_extractor.0.weight', 'feature_extractor.2.weight', 'feature_extractor.2.bias', 'feature_extractor.4.weight', 'feature_extractor.6.weight', 'feature_extractor.6.bias', 'feature_extractor.8.weight', 'feature_extractor.10.weight', 'feature_extractor.10.bias', 'feature_extractor.13.weight', 'feature_extractor.15.weight', 'feature_extractor.15.bias', 'feature_extractor.17.weight', 'feature_extractor.19.weight', 'feature_extractor.19.bias', 'feature_extractor.21.weight', 'class_classifier.2.weight', 'class_classifier.2.bias', 'class_classifier.3.weight', 'class_classifier.3.bias', 'class_classifier.6.weight', 'class_classifier.6.bias', 'domain_classifier.2.weight', 'domain_classifier.2.bias', 'domain_classifier.3.weight', 'domain_classifier.3.bias', 'domain_classifier.6.weight', 'domain_classifier.6.bias'])"
            ]
          },
          "metadata": {},
          "execution_count": 52
        }
      ]
    },
    {
      "cell_type": "markdown",
      "source": [
        "# Infer on loaded models"
      ],
      "metadata": {
        "id": "FQJZ7SFSF904"
      }
    },
    {
      "cell_type": "markdown",
      "source": [
        "### Source Test Dataset"
      ],
      "metadata": {
        "id": "Wa-FdqDiGIEn"
      }
    },
    {
      "cell_type": "code",
      "source": [
        "true_labels, predicted_labels, accuracy, precision, conf_matrix, class_report = performance_metric(model= model_non_dann_infer,\n",
        "                                                                                                   device= device,\n",
        "                                                                                                   data_loader = test_loader ,\n",
        "                                                                                                   )"
      ],
      "metadata": {
        "colab": {
          "base_uri": "https://localhost:8080/"
        },
        "id": "lu94CJ0wGLx5",
        "outputId": "e07dce54-b229-4295-840f-cdda23c98210"
      },
      "execution_count": 54,
      "outputs": [
        {
          "output_type": "stream",
          "name": "stdout",
          "text": [
            "Accuracy: 0.983\n",
            "Precision: 0.983107670243715\n",
            "Confusion Matrix:\n",
            "     0     1     2    3    4    5    6     7    8    9\n",
            "0  972     1     2    0    0    0    3     2    0    0\n",
            "1    0  1124     4    0    0    1    5     1    0    0\n",
            "2    2     0  1017    0    2    0    6     3    2    0\n",
            "3    0     0     4  990    0    5    0     7    4    0\n",
            "4    0     0     0    0  971    0    7     2    0    2\n",
            "5    0     0     1    5    0  872    4     2    6    2\n",
            "6    9     2     0    0    1    1  943     0    2    0\n",
            "7    0     3     4    1    0    0    0  1018    0    2\n",
            "8    3     0     2    0    4    1    1     3  958    2\n",
            "9    8     0     1    0   17    2    2     7    7  965\n",
            "Classification Report:\n",
            "              precision    recall  f1-score   support\n",
            "\n",
            "           0       0.98      0.99      0.98       980\n",
            "           1       0.99      0.99      0.99      1135\n",
            "           2       0.98      0.99      0.98      1032\n",
            "           3       0.99      0.98      0.99      1010\n",
            "           4       0.98      0.99      0.98       982\n",
            "           5       0.99      0.98      0.98       892\n",
            "           6       0.97      0.98      0.98       958\n",
            "           7       0.97      0.99      0.98      1028\n",
            "           8       0.98      0.98      0.98       974\n",
            "           9       0.99      0.96      0.97      1009\n",
            "\n",
            "    accuracy                           0.98     10000\n",
            "   macro avg       0.98      0.98      0.98     10000\n",
            "weighted avg       0.98      0.98      0.98     10000\n",
            "\n"
          ]
        }
      ]
    },
    {
      "cell_type": "markdown",
      "source": [
        "### Target Test Dataset"
      ],
      "metadata": {
        "id": "wt-egjikGGFj"
      }
    },
    {
      "cell_type": "code",
      "source": [
        "true_labels, predicted_labels, accuracy, precision, conf_matrix, class_report = performance_metric(model= model_non_dann_infer,\n",
        "                                                                                                   device= device,\n",
        "                                                                                                   data_loader = dataloader_target_test ,\n",
        "                                                                                                   )"
      ],
      "metadata": {
        "colab": {
          "base_uri": "https://localhost:8080/"
        },
        "id": "vlqBh7jnFtEM",
        "outputId": "6007f04f-618a-413c-d7b7-6e2f4a1bbe4d"
      },
      "execution_count": 53,
      "outputs": [
        {
          "output_type": "stream",
          "name": "stdout",
          "text": [
            "Accuracy: 0.33985112765248304\n",
            "Precision: 0.7484327284691743\n",
            "Confusion Matrix:\n",
            "     0    1    2    3    4    5    6    7    8    9\n",
            "0  290    0    0    0    8   37    7    0  532    4\n",
            "1   27  306    2    0   20    1   15    6  634    5\n",
            "2    3    0  252    0   21   51    7    5  591    3\n",
            "3    4    1   22  179    3   29    0   11  658    1\n",
            "4    8    1    0    1  303   29    5    2  528   13\n",
            "5    3    1    1    1    3  199    2    1  594    2\n",
            "6   36    0    4    0   40   20  233    0  519    4\n",
            "7    1    8    5    4   17   12    0  268  592    7\n",
            "8    8    0    0    0    3   10    1    1  857    0\n",
            "9    6    2    2    0   51   13    1    3  669  172\n",
            "Classification Report:\n",
            "              precision    recall  f1-score   support\n",
            "\n",
            "           0       0.75      0.33      0.46       878\n",
            "           1       0.96      0.30      0.46      1016\n",
            "           2       0.88      0.27      0.41       933\n",
            "           3       0.97      0.20      0.33       908\n",
            "           4       0.65      0.34      0.45       890\n",
            "           5       0.50      0.25      0.33       807\n",
            "           6       0.86      0.27      0.41       856\n",
            "           7       0.90      0.29      0.44       914\n",
            "           8       0.14      0.97      0.24       880\n",
            "           9       0.82      0.19      0.30       919\n",
            "\n",
            "    accuracy                           0.34      9001\n",
            "   macro avg       0.74      0.34      0.38      9001\n",
            "weighted avg       0.75      0.34      0.39      9001\n",
            "\n"
          ]
        }
      ]
    },
    {
      "cell_type": "markdown",
      "source": [
        "## Training"
      ],
      "metadata": {
        "id": "dzH_OJiKNOAw"
      }
    },
    {
      "cell_type": "code",
      "source": [
        "# # Training Function\n",
        "# train_losses = [] # to capture train losses over training epochs\n",
        "# train_accuracy = [] # to capture train accuracy over training epochs\n",
        "a\n",
        "# def train(model,device, train_loader,optimizer,epoch):\n",
        "#   model.train() # setting the model in training mode\n",
        "#   pbar = tqdm(train_loader) # putting the iterator in pbar\n",
        "#   correct = 0 # for accuracy numerator\n",
        "#   processed =0 # for accuracy denominator\n",
        "\n",
        "#   for batch_idx, (images,labels) in enumerate(pbar):\n",
        "#     images, labels = images.to(device),labels.to(device)#sending data to CPU or GPU as per device\n",
        "#     optimizer.zero_grad() # setting gradients to zero to avoid accumulation\n",
        "\n",
        "#     y_preds,_,_  = model(images) # forward pass, result captured in y_preds (plural as there are many images in a batch)\n",
        "#     # the predictions are in one hot vector\n",
        "\n",
        "#     loss = F.nll_loss(y_preds,labels) # capturing loss\n",
        "#     train_losses.append(loss) # to capture loss over many epochs\n",
        "\n",
        "#     loss.backward() # backpropagation\n",
        "#     optimizer.step() # updating the params\n",
        "\n",
        "#     preds = y_preds.argmax(dim=1, keepdim=True)  # get the index of the max log-probability\n",
        "#     correct += preds.eq(labels.view_as(preds)).sum().item()\n",
        "#     processed += len(images)\n",
        "\n",
        "#     pbar.set_description(desc= f'Loss={loss.item()} Batch_id={batch_idx} Accuracy={100*correct/processed:0.2f}%')\n",
        "#     train_accuracy.append(100*correct/processed)\n"
      ],
      "metadata": {
        "id": "fP5jiQtaNPyB"
      },
      "execution_count": 28,
      "outputs": []
    },
    {
      "cell_type": "markdown",
      "source": [
        "## Test"
      ],
      "metadata": {
        "id": "eGDQpa3ANTZa"
      }
    },
    {
      "cell_type": "code",
      "source": [
        "# # Test Function\n",
        "# test_losses = [] # to capture test losses\n",
        "# test_accuracy = [] # to capture test accuracy\n",
        "\n",
        "# def test(model,device, test_loader):\n",
        "#   model.eval() # setting the model in evaluation mode\n",
        "#   test_loss = 0\n",
        "#   avg_epoch_test_loss =[]\n",
        "#   correct = 0 # for accuracy numerator\n",
        "\n",
        "#   with torch.no_grad():\n",
        "#     for (images,labels) in test_loader:\n",
        "#       images, labels = images.to(device),labels.to(device)#sending data to CPU or GPU as per device\n",
        "#       outputs,_,_ = model(images) # forward pass, result captured in outputs (plural as there are many images in a batch)\n",
        "#       # the outputs are in batch size x one hot vector\n",
        "\n",
        "#       test_loss = F.nll_loss(outputs,labels, reduction='sum').item()  # sum up batch loss\n",
        "#       preds = outputs.argmax(dim=1, keepdim=True)  # get the index of the max log-probability\n",
        "#       correct += preds.eq(labels.view_as(preds)).sum().item()\n",
        "\n",
        "#     test_loss /= len(test_loader.dataset) # average test loss\n",
        "#     test_losses.append(test_loss) # to capture loss over many batches\n",
        "#     avg_epoch_test_loss.append(test_loss)\n",
        "\n",
        "#     print('\\nTest set: Average loss: {:.6f}, Accuracy: {}/{} ({:.2f}%)\\n'.format(\n",
        "#     test_loss, correct, len(test_loader.dataset),\n",
        "#     100. * correct / len(test_loader.dataset)))\n",
        "\n",
        "#     test_accuracy.append(100*correct/len(test_loader.dataset))\n",
        "#   return float(\"{:.4f}\".format(np.average(avg_epoch_test_loss)))\n"
      ],
      "metadata": {
        "id": "WXtm0lh_NR2H"
      },
      "execution_count": 29,
      "outputs": []
    },
    {
      "cell_type": "markdown",
      "source": [
        "## Execution"
      ],
      "metadata": {
        "id": "YRnRZ72PNbf3"
      }
    },
    {
      "cell_type": "code",
      "source": [
        "\n",
        "# ## Weight initialization\n",
        "\n",
        "# def weights_init(m):\n",
        "#     if isinstance(m, nn.Conv1d):\n",
        "#       nn.init.xavier_normal_(m.weight)\n"
      ],
      "metadata": {
        "id": "v3XZP8zQ3QlO"
      },
      "execution_count": 30,
      "outputs": []
    },
    {
      "cell_type": "code",
      "source": [
        "# model =  Network().to(device)\n",
        "# model.apply(weights_init)\n",
        "# optimizer = optim.SGD(model.parameters(), lr=0.4, momentum=0.9)\n",
        "# from torch.optim.lr_scheduler import ReduceLROnPlateau\n",
        "# scheduler = ReduceLROnPlateau(optimizer, factor = 0.1, patience = 1, threshold =  0.0002, verbose = True)\n",
        "\n",
        "\n",
        "\n",
        "# for epoch in range(EPOCHS):\n",
        "#     print(\"EPOCH:\", epoch+1 , \"Current LR : \", optimizer.param_groups[0]['lr'])\n",
        "#     train(model, device, train_loader, optimizer, epoch)\n",
        "#     curr_lr = optimizer.param_groups[0]['lr']\n",
        "#     # print(f'current learning rate :', curr_lr)\n",
        "#     val_loss = test(model, device, test_loader)\n",
        "#     # print(f'current learning rate :{curr_lr} and val_loss is {val_loss}')\n",
        "#     scheduler.step(val_loss)\n",
        "\n",
        "\n"
      ],
      "metadata": {
        "id": "mk4SGOYlNYgi",
        "colab": {
          "base_uri": "https://localhost:8080/",
          "height": 391
        },
        "outputId": "d37cbd26-4c73-49c7-bc1c-f6d23bb4474a"
      },
      "execution_count": 31,
      "outputs": [
        {
          "output_type": "stream",
          "name": "stdout",
          "text": [
            "EPOCH: 1 Current LR :  0.4\n"
          ]
        },
        {
          "output_type": "stream",
          "name": "stderr",
          "text": [
            "Loss=nan Batch_id=717 Accuracy=10.44%:  77%|███████▋  | 718/938 [01:20<00:24,  8.97it/s]\n"
          ]
        },
        {
          "output_type": "error",
          "ename": "KeyboardInterrupt",
          "evalue": "",
          "traceback": [
            "\u001b[0;31m---------------------------------------------------------------------------\u001b[0m",
            "\u001b[0;31mKeyboardInterrupt\u001b[0m                         Traceback (most recent call last)",
            "\u001b[0;32m<ipython-input-31-b1f9db2bdfa9>\u001b[0m in \u001b[0;36m<cell line: 9>\u001b[0;34m()\u001b[0m\n\u001b[1;32m      9\u001b[0m \u001b[0;32mfor\u001b[0m \u001b[0mepoch\u001b[0m \u001b[0;32min\u001b[0m \u001b[0mrange\u001b[0m\u001b[0;34m(\u001b[0m\u001b[0mEPOCHS\u001b[0m\u001b[0;34m)\u001b[0m\u001b[0;34m:\u001b[0m\u001b[0;34m\u001b[0m\u001b[0;34m\u001b[0m\u001b[0m\n\u001b[1;32m     10\u001b[0m     \u001b[0mprint\u001b[0m\u001b[0;34m(\u001b[0m\u001b[0;34m\"EPOCH:\"\u001b[0m\u001b[0;34m,\u001b[0m \u001b[0mepoch\u001b[0m\u001b[0;34m+\u001b[0m\u001b[0;36m1\u001b[0m \u001b[0;34m,\u001b[0m \u001b[0;34m\"Current LR : \"\u001b[0m\u001b[0;34m,\u001b[0m \u001b[0moptimizer\u001b[0m\u001b[0;34m.\u001b[0m\u001b[0mparam_groups\u001b[0m\u001b[0;34m[\u001b[0m\u001b[0;36m0\u001b[0m\u001b[0;34m]\u001b[0m\u001b[0;34m[\u001b[0m\u001b[0;34m'lr'\u001b[0m\u001b[0;34m]\u001b[0m\u001b[0;34m)\u001b[0m\u001b[0;34m\u001b[0m\u001b[0;34m\u001b[0m\u001b[0m\n\u001b[0;32m---> 11\u001b[0;31m     \u001b[0mtrain\u001b[0m\u001b[0;34m(\u001b[0m\u001b[0mmodel\u001b[0m\u001b[0;34m,\u001b[0m \u001b[0mdevice\u001b[0m\u001b[0;34m,\u001b[0m \u001b[0mtrain_loader\u001b[0m\u001b[0;34m,\u001b[0m \u001b[0moptimizer\u001b[0m\u001b[0;34m,\u001b[0m \u001b[0mepoch\u001b[0m\u001b[0;34m)\u001b[0m\u001b[0;34m\u001b[0m\u001b[0;34m\u001b[0m\u001b[0m\n\u001b[0m\u001b[1;32m     12\u001b[0m     \u001b[0mcurr_lr\u001b[0m \u001b[0;34m=\u001b[0m \u001b[0moptimizer\u001b[0m\u001b[0;34m.\u001b[0m\u001b[0mparam_groups\u001b[0m\u001b[0;34m[\u001b[0m\u001b[0;36m0\u001b[0m\u001b[0;34m]\u001b[0m\u001b[0;34m[\u001b[0m\u001b[0;34m'lr'\u001b[0m\u001b[0;34m]\u001b[0m\u001b[0;34m\u001b[0m\u001b[0;34m\u001b[0m\u001b[0m\n\u001b[1;32m     13\u001b[0m     \u001b[0;31m# print(f'current learning rate :', curr_lr)\u001b[0m\u001b[0;34m\u001b[0m\u001b[0;34m\u001b[0m\u001b[0m\n",
            "\u001b[0;32m<ipython-input-28-8337c263c9ee>\u001b[0m in \u001b[0;36mtrain\u001b[0;34m(model, device, train_loader, optimizer, epoch)\u001b[0m\n\u001b[1;32m     19\u001b[0m     \u001b[0mtrain_losses\u001b[0m\u001b[0;34m.\u001b[0m\u001b[0mappend\u001b[0m\u001b[0;34m(\u001b[0m\u001b[0mloss\u001b[0m\u001b[0;34m)\u001b[0m \u001b[0;31m# to capture loss over many epochs\u001b[0m\u001b[0;34m\u001b[0m\u001b[0;34m\u001b[0m\u001b[0m\n\u001b[1;32m     20\u001b[0m \u001b[0;34m\u001b[0m\u001b[0m\n\u001b[0;32m---> 21\u001b[0;31m     \u001b[0mloss\u001b[0m\u001b[0;34m.\u001b[0m\u001b[0mbackward\u001b[0m\u001b[0;34m(\u001b[0m\u001b[0;34m)\u001b[0m \u001b[0;31m# backpropagation\u001b[0m\u001b[0;34m\u001b[0m\u001b[0;34m\u001b[0m\u001b[0m\n\u001b[0m\u001b[1;32m     22\u001b[0m     \u001b[0moptimizer\u001b[0m\u001b[0;34m.\u001b[0m\u001b[0mstep\u001b[0m\u001b[0;34m(\u001b[0m\u001b[0;34m)\u001b[0m \u001b[0;31m# updating the params\u001b[0m\u001b[0;34m\u001b[0m\u001b[0;34m\u001b[0m\u001b[0m\n\u001b[1;32m     23\u001b[0m \u001b[0;34m\u001b[0m\u001b[0m\n",
            "\u001b[0;32m/usr/local/lib/python3.10/dist-packages/torch/_tensor.py\u001b[0m in \u001b[0;36mbackward\u001b[0;34m(self, gradient, retain_graph, create_graph, inputs)\u001b[0m\n\u001b[1;32m    523\u001b[0m                 \u001b[0minputs\u001b[0m\u001b[0;34m=\u001b[0m\u001b[0minputs\u001b[0m\u001b[0;34m,\u001b[0m\u001b[0;34m\u001b[0m\u001b[0;34m\u001b[0m\u001b[0m\n\u001b[1;32m    524\u001b[0m             )\n\u001b[0;32m--> 525\u001b[0;31m         torch.autograd.backward(\n\u001b[0m\u001b[1;32m    526\u001b[0m             \u001b[0mself\u001b[0m\u001b[0;34m,\u001b[0m \u001b[0mgradient\u001b[0m\u001b[0;34m,\u001b[0m \u001b[0mretain_graph\u001b[0m\u001b[0;34m,\u001b[0m \u001b[0mcreate_graph\u001b[0m\u001b[0;34m,\u001b[0m \u001b[0minputs\u001b[0m\u001b[0;34m=\u001b[0m\u001b[0minputs\u001b[0m\u001b[0;34m\u001b[0m\u001b[0;34m\u001b[0m\u001b[0m\n\u001b[1;32m    527\u001b[0m         )\n",
            "\u001b[0;32m/usr/local/lib/python3.10/dist-packages/torch/autograd/__init__.py\u001b[0m in \u001b[0;36mbackward\u001b[0;34m(tensors, grad_tensors, retain_graph, create_graph, grad_variables, inputs)\u001b[0m\n\u001b[1;32m    265\u001b[0m     \u001b[0;31m# some Python versions print out the first line of a multi-line function\u001b[0m\u001b[0;34m\u001b[0m\u001b[0;34m\u001b[0m\u001b[0m\n\u001b[1;32m    266\u001b[0m     \u001b[0;31m# calls in the traceback and some print out the last line\u001b[0m\u001b[0;34m\u001b[0m\u001b[0;34m\u001b[0m\u001b[0m\n\u001b[0;32m--> 267\u001b[0;31m     _engine_run_backward(\n\u001b[0m\u001b[1;32m    268\u001b[0m         \u001b[0mtensors\u001b[0m\u001b[0;34m,\u001b[0m\u001b[0;34m\u001b[0m\u001b[0;34m\u001b[0m\u001b[0m\n\u001b[1;32m    269\u001b[0m         \u001b[0mgrad_tensors_\u001b[0m\u001b[0;34m,\u001b[0m\u001b[0;34m\u001b[0m\u001b[0;34m\u001b[0m\u001b[0m\n",
            "\u001b[0;32m/usr/local/lib/python3.10/dist-packages/torch/autograd/graph.py\u001b[0m in \u001b[0;36m_engine_run_backward\u001b[0;34m(t_outputs, *args, **kwargs)\u001b[0m\n\u001b[1;32m    742\u001b[0m         \u001b[0munregister_hooks\u001b[0m \u001b[0;34m=\u001b[0m \u001b[0m_register_logging_hooks_on_whole_graph\u001b[0m\u001b[0;34m(\u001b[0m\u001b[0mt_outputs\u001b[0m\u001b[0;34m)\u001b[0m\u001b[0;34m\u001b[0m\u001b[0;34m\u001b[0m\u001b[0m\n\u001b[1;32m    743\u001b[0m     \u001b[0;32mtry\u001b[0m\u001b[0;34m:\u001b[0m\u001b[0;34m\u001b[0m\u001b[0;34m\u001b[0m\u001b[0m\n\u001b[0;32m--> 744\u001b[0;31m         return Variable._execution_engine.run_backward(  # Calls into the C++ engine to run the backward pass\n\u001b[0m\u001b[1;32m    745\u001b[0m             \u001b[0mt_outputs\u001b[0m\u001b[0;34m,\u001b[0m \u001b[0;34m*\u001b[0m\u001b[0margs\u001b[0m\u001b[0;34m,\u001b[0m \u001b[0;34m**\u001b[0m\u001b[0mkwargs\u001b[0m\u001b[0;34m\u001b[0m\u001b[0;34m\u001b[0m\u001b[0m\n\u001b[1;32m    746\u001b[0m         )  # Calls into the C++ engine to run the backward pass\n",
            "\u001b[0;31mKeyboardInterrupt\u001b[0m: "
          ]
        }
      ]
    },
    {
      "cell_type": "code",
      "source": [
        "# fig, axs = plt.subplots(2,2,figsize=(15,10))\n",
        "# # axs[0, 0].plot(train_losses)\n",
        "# axs[0, 0].plot([t.cpu().item() for t in train_losses])\n",
        "# axs[0, 0].set_title(\"Training Loss\")\n",
        "# axs[1, 0].plot(train_accuracy)\n",
        "# axs[1, 0].set_title(\"Training Accuracy\")\n",
        "# axs[0, 1].plot(test_losses)\n",
        "# axs[0, 1].set_title(\"Test Loss\")\n",
        "# axs[1, 1].plot(test_accuracy)\n",
        "# axs[1, 1].set_title(\"Test Accuracy\")"
      ],
      "metadata": {
        "id": "O7Q7ISLiNfXz"
      },
      "execution_count": null,
      "outputs": []
    },
    {
      "cell_type": "code",
      "source": [],
      "metadata": {
        "id": "X96_E1N8Pg85"
      },
      "execution_count": null,
      "outputs": []
    }
  ]
}